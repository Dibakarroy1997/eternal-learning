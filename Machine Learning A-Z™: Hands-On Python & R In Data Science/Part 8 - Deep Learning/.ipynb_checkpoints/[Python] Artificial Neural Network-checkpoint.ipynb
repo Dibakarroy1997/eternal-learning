{
 "cells": [
  {
   "cell_type": "markdown",
   "metadata": {
    "colab_type": "text",
    "id": "TE-F73o_lVix"
   },
   "source": [
    "# Artificial Neural Network(ANN)"
   ]
  },
  {
   "cell_type": "markdown",
   "metadata": {
    "colab_type": "text",
    "id": "tzzmmSI5lViy"
   },
   "source": [
    "### Data Preprocessing"
   ]
  },
  {
   "cell_type": "code",
   "execution_count": 1,
   "metadata": {
    "colab": {
     "autoexec": {
      "startup": false,
      "wait_interval": 0
     }
    },
    "colab_type": "code",
    "collapsed": true,
    "id": "dpwvxRAblViz"
   },
   "outputs": [],
   "source": [
    "# Importing the libraries\n",
    "# Importing the libraries\n",
    "import numpy as np\n",
    "import matplotlib.pyplot as plt\n",
    "import pandas as pd\n",
    "%matplotlib inline\n",
    "plt.rcParams['figure.figsize'] = [14, 8]"
   ]
  },
  {
   "cell_type": "code",
   "execution_count": 2,
   "metadata": {
    "colab": {
     "autoexec": {
      "startup": false,
      "wait_interval": 0
     }
    },
    "colab_type": "code",
    "collapsed": true,
    "id": "lCtaPMJTlVi4"
   },
   "outputs": [],
   "source": [
    "# Importing the dataset\n",
    "dataset = pd.read_csv('Churn_Modelling.csv')"
   ]
  },
  {
   "cell_type": "code",
   "execution_count": 3,
   "metadata": {
    "colab": {
     "autoexec": {
      "startup": false,
      "wait_interval": 0
     },
     "base_uri": "https://localhost:8080/",
     "height": 100,
     "output_extras": [
      {
       "item_id": 1
      }
     ]
    },
    "colab_type": "code",
    "executionInfo": {
     "elapsed": 783,
     "status": "ok",
     "timestamp": 1514455875376,
     "user": {
      "displayName": "Debakar Roy",
      "photoUrl": "//lh5.googleusercontent.com/-KwEZ1Z4ZXmE/AAAAAAAAAAI/AAAAAAAAALg/j6T-KetMTHY/s50-c-k-no/photo.jpg",
      "userId": "103957503016432867835"
     },
     "user_tz": -330
    },
    "id": "5wawZXMUlVi7",
    "outputId": "e2bcb809-186b-43f1-a2da-81b745247e24"
   },
   "outputs": [
    {
     "data": {
      "text/html": [
       "<div>\n",
       "<style>\n",
       "    .dataframe thead tr:only-child th {\n",
       "        text-align: right;\n",
       "    }\n",
       "\n",
       "    .dataframe thead th {\n",
       "        text-align: left;\n",
       "    }\n",
       "\n",
       "    .dataframe tbody tr th {\n",
       "        vertical-align: top;\n",
       "    }\n",
       "</style>\n",
       "<table border=\"1\" class=\"dataframe\">\n",
       "  <thead>\n",
       "    <tr style=\"text-align: right;\">\n",
       "      <th></th>\n",
       "      <th>RowNumber</th>\n",
       "      <th>CustomerId</th>\n",
       "      <th>Surname</th>\n",
       "      <th>CreditScore</th>\n",
       "      <th>Geography</th>\n",
       "      <th>Gender</th>\n",
       "      <th>Age</th>\n",
       "      <th>Tenure</th>\n",
       "      <th>Balance</th>\n",
       "      <th>NumOfProducts</th>\n",
       "      <th>HasCrCard</th>\n",
       "      <th>IsActiveMember</th>\n",
       "      <th>EstimatedSalary</th>\n",
       "      <th>Exited</th>\n",
       "    </tr>\n",
       "  </thead>\n",
       "  <tbody>\n",
       "    <tr>\n",
       "      <th>0</th>\n",
       "      <td>1</td>\n",
       "      <td>15634602</td>\n",
       "      <td>Hargrave</td>\n",
       "      <td>619</td>\n",
       "      <td>France</td>\n",
       "      <td>Female</td>\n",
       "      <td>42</td>\n",
       "      <td>2</td>\n",
       "      <td>0.0</td>\n",
       "      <td>1</td>\n",
       "      <td>1</td>\n",
       "      <td>1</td>\n",
       "      <td>101348.88</td>\n",
       "      <td>1</td>\n",
       "    </tr>\n",
       "  </tbody>\n",
       "</table>\n",
       "</div>"
      ],
      "text/plain": [
       "   RowNumber  CustomerId   Surname  CreditScore Geography  Gender  Age  \\\n",
       "0          1    15634602  Hargrave          619    France  Female   42   \n",
       "\n",
       "   Tenure  Balance  NumOfProducts  HasCrCard  IsActiveMember  EstimatedSalary  \\\n",
       "0       2      0.0              1          1               1        101348.88   \n",
       "\n",
       "   Exited  \n",
       "0       1  "
      ]
     },
     "execution_count": 3,
     "metadata": {},
     "output_type": "execute_result"
    }
   ],
   "source": [
    "dataset.head(1)"
   ]
  },
  {
   "cell_type": "code",
   "execution_count": 4,
   "metadata": {
    "colab": {
     "autoexec": {
      "startup": false,
      "wait_interval": 0
     }
    },
    "colab_type": "code",
    "collapsed": true,
    "id": "XP1Yf2_WlVjA"
   },
   "outputs": [],
   "source": [
    "X = dataset.iloc[:, [3, 4, 6, 7, 8, 9, 10, 11, 12]].values"
   ]
  },
  {
   "cell_type": "code",
   "execution_count": 5,
   "metadata": {
    "colab": {
     "autoexec": {
      "startup": false,
      "wait_interval": 0
     }
    },
    "colab_type": "code",
    "collapsed": true,
    "id": "jY1psvAilVjE"
   },
   "outputs": [],
   "source": [
    "y = dataset.iloc[:, 13].values"
   ]
  },
  {
   "cell_type": "code",
   "execution_count": 6,
   "metadata": {
    "colab": {
     "autoexec": {
      "startup": false,
      "wait_interval": 0
     },
     "base_uri": "https://localhost:8080/",
     "height": 34,
     "output_extras": [
      {
       "item_id": 1
      }
     ]
    },
    "colab_type": "code",
    "executionInfo": {
     "elapsed": 702,
     "status": "ok",
     "timestamp": 1514455878670,
     "user": {
      "displayName": "Debakar Roy",
      "photoUrl": "//lh5.googleusercontent.com/-KwEZ1Z4ZXmE/AAAAAAAAAAI/AAAAAAAAALg/j6T-KetMTHY/s50-c-k-no/photo.jpg",
      "userId": "103957503016432867835"
     },
     "user_tz": -330
    },
    "id": "6at5ReinlVjI",
    "outputId": "f3a19774-0aa2-4fe7-d1ae-28fe790cef02"
   },
   "outputs": [
    {
     "data": {
      "text/plain": [
       "array([619, 'France', 42, 2, 0.0, 1, 1, 1, 101348.88], dtype=object)"
      ]
     },
     "execution_count": 6,
     "metadata": {},
     "output_type": "execute_result"
    }
   ],
   "source": [
    "X[0]"
   ]
  },
  {
   "cell_type": "code",
   "execution_count": 7,
   "metadata": {
    "colab": {
     "autoexec": {
      "startup": false,
      "wait_interval": 0
     },
     "base_uri": "https://localhost:8080/",
     "height": 34,
     "output_extras": [
      {
       "item_id": 1
      }
     ]
    },
    "colab_type": "code",
    "executionInfo": {
     "elapsed": 714,
     "status": "ok",
     "timestamp": 1514455879680,
     "user": {
      "displayName": "Debakar Roy",
      "photoUrl": "//lh5.googleusercontent.com/-KwEZ1Z4ZXmE/AAAAAAAAAAI/AAAAAAAAALg/j6T-KetMTHY/s50-c-k-no/photo.jpg",
      "userId": "103957503016432867835"
     },
     "user_tz": -330
    },
    "id": "hBozvgKwlVjN",
    "outputId": "f2cfd87d-8acf-418d-d35e-a660fad1a58b"
   },
   "outputs": [
    {
     "data": {
      "text/plain": [
       "1"
      ]
     },
     "execution_count": 7,
     "metadata": {},
     "output_type": "execute_result"
    }
   ],
   "source": [
    "y[0]"
   ]
  },
  {
   "cell_type": "code",
   "execution_count": 8,
   "metadata": {
    "colab": {
     "autoexec": {
      "startup": false,
      "wait_interval": 0
     }
    },
    "colab_type": "code",
    "collapsed": true,
    "id": "I9Z85hGOlVjR"
   },
   "outputs": [],
   "source": [
    "# Encoding categorical data\n",
    "from sklearn.preprocessing import LabelEncoder, OneHotEncoder\n",
    "labelencoder_X = LabelEncoder()\n",
    "X[:, 1] = labelencoder_X.fit_transform(X[:, 1])\n",
    "onehotencoder = OneHotEncoder(categorical_features = [1])\n",
    "X = onehotencoder.fit_transform(X).toarray()\n",
    "X = X[:, 1:]"
   ]
  },
  {
   "cell_type": "code",
   "execution_count": 9,
   "metadata": {
    "colab": {
     "autoexec": {
      "startup": false,
      "wait_interval": 0
     },
     "base_uri": "https://localhost:8080/",
     "height": 153,
     "output_extras": [
      {
       "item_id": 1
      }
     ]
    },
    "colab_type": "code",
    "executionInfo": {
     "elapsed": 751,
     "status": "ok",
     "timestamp": 1514455881880,
     "user": {
      "displayName": "Debakar Roy",
      "photoUrl": "//lh5.googleusercontent.com/-KwEZ1Z4ZXmE/AAAAAAAAAAI/AAAAAAAAALg/j6T-KetMTHY/s50-c-k-no/photo.jpg",
      "userId": "103957503016432867835"
     },
     "user_tz": -330
    },
    "id": "20gQDph0lVjX",
    "outputId": "42be8b9a-6e19-4f34-983c-90fc9c04c31f"
   },
   "outputs": [
    {
     "data": {
      "text/plain": [
       "array([[  0.00000000e+00,   0.00000000e+00,   6.19000000e+02,\n",
       "          4.20000000e+01,   2.00000000e+00,   0.00000000e+00,\n",
       "          1.00000000e+00,   1.00000000e+00,   1.00000000e+00,\n",
       "          1.01348880e+05],\n",
       "       [  0.00000000e+00,   1.00000000e+00,   6.08000000e+02,\n",
       "          4.10000000e+01,   1.00000000e+00,   8.38078600e+04,\n",
       "          1.00000000e+00,   0.00000000e+00,   1.00000000e+00,\n",
       "          1.12542580e+05]])"
      ]
     },
     "execution_count": 9,
     "metadata": {},
     "output_type": "execute_result"
    }
   ],
   "source": [
    "X[0:2]"
   ]
  },
  {
   "cell_type": "code",
   "execution_count": 10,
   "metadata": {
    "colab": {
     "autoexec": {
      "startup": false,
      "wait_interval": 0
     }
    },
    "colab_type": "code",
    "collapsed": true,
    "id": "SvXnkj6dlVjg"
   },
   "outputs": [],
   "source": [
    "# Splitting the dataset into the Training set and Test set\n",
    "from sklearn.model_selection import train_test_split\n",
    "X_train, X_test, y_train, y_test = train_test_split(X, y, test_size = 0.2, random_state = 0)"
   ]
  },
  {
   "cell_type": "code",
   "execution_count": 11,
   "metadata": {
    "colab": {
     "autoexec": {
      "startup": false,
      "wait_interval": 0
     }
    },
    "colab_type": "code",
    "collapsed": true,
    "id": "UU6h9H0olVjj"
   },
   "outputs": [],
   "source": [
    "# Feature Scaling\n",
    "from sklearn.preprocessing import StandardScaler\n",
    "sc = StandardScaler()\n",
    "X_train = sc.fit_transform(X_train)\n",
    "X_test = sc.transform(X_test)"
   ]
  },
  {
   "cell_type": "code",
   "execution_count": 12,
   "metadata": {
    "colab": {
     "autoexec": {
      "startup": false,
      "wait_interval": 0
     },
     "base_uri": "https://localhost:8080/",
     "height": 85,
     "output_extras": [
      {
       "item_id": 1
      }
     ]
    },
    "colab_type": "code",
    "executionInfo": {
     "elapsed": 712,
     "status": "ok",
     "timestamp": 1514455885693,
     "user": {
      "displayName": "Debakar Roy",
      "photoUrl": "//lh5.googleusercontent.com/-KwEZ1Z4ZXmE/AAAAAAAAAAI/AAAAAAAAALg/j6T-KetMTHY/s50-c-k-no/photo.jpg",
      "userId": "103957503016432867835"
     },
     "user_tz": -330
    },
    "id": "3bVu2jA9lVjl",
    "outputId": "f6c83fbe-682d-45c5-924c-5422ffab87e7"
   },
   "outputs": [
    {
     "data": {
      "text/plain": [
       "array([[-0.5698444 ,  1.74309049,  0.16958176, -0.46460796,  0.00666099,\n",
       "        -1.21571749,  0.8095029 ,  0.64259497, -1.03227043,  1.10643166],\n",
       "       [ 1.75486502, -0.57369368, -2.30455945,  0.30102557, -1.37744033,\n",
       "        -0.00631193, -0.92159124,  0.64259497,  0.9687384 , -0.74866447]])"
      ]
     },
     "execution_count": 12,
     "metadata": {},
     "output_type": "execute_result"
    }
   ],
   "source": [
    "X_train[0:2]"
   ]
  },
  {
   "cell_type": "code",
   "execution_count": 13,
   "metadata": {
    "colab": {
     "autoexec": {
      "startup": false,
      "wait_interval": 0
     }
    },
    "colab_type": "code",
    "id": "2gtG8xFmlVjq"
   },
   "outputs": [
    {
     "name": "stderr",
     "output_type": "stream",
     "text": [
      "Using TensorFlow backend.\n",
      "/home/baka/Programs/anaconda3/lib/python3.6/importlib/_bootstrap.py:219: RuntimeWarning: compiletime version 3.5 of module 'tensorflow.python.framework.fast_tensor_util' does not match runtime version 3.6\n",
      "  return f(*args, **kwds)\n"
     ]
    }
   ],
   "source": [
    "# Importing the Keras libraries and packages\n",
    "# !pip install keras\n",
    "import keras"
   ]
  },
  {
   "cell_type": "code",
   "execution_count": 14,
   "metadata": {
    "colab": {
     "autoexec": {
      "startup": false,
      "wait_interval": 0
     }
    },
    "colab_type": "code",
    "collapsed": true,
    "id": "-1Y4F80tlVjt"
   },
   "outputs": [],
   "source": [
    "from keras.models import Sequential\n",
    "from keras.layers import Dense"
   ]
  },
  {
   "cell_type": "code",
   "execution_count": 15,
   "metadata": {
    "colab": {
     "autoexec": {
      "startup": false,
      "wait_interval": 0
     }
    },
    "colab_type": "code",
    "collapsed": true,
    "id": "_CBsB0azlVjv"
   },
   "outputs": [],
   "source": [
    "# Initialization of ANN\n",
    "classifier = Sequential()"
   ]
  },
  {
   "cell_type": "code",
   "execution_count": 16,
   "metadata": {
    "colab": {
     "autoexec": {
      "startup": false,
      "wait_interval": 0
     },
     "base_uri": "https://localhost:8080/",
     "height": 476,
     "output_extras": [
      {
       "item_id": 1
      }
     ]
    },
    "colab_type": "code",
    "executionInfo": {
     "elapsed": 707,
     "status": "ok",
     "timestamp": 1514455890277,
     "user": {
      "displayName": "Debakar Roy",
      "photoUrl": "//lh5.googleusercontent.com/-KwEZ1Z4ZXmE/AAAAAAAAAAI/AAAAAAAAALg/j6T-KetMTHY/s50-c-k-no/photo.jpg",
      "userId": "103957503016432867835"
     },
     "user_tz": -330
    },
    "id": "hOHzrr6YlVj0",
    "outputId": "54dc83c8-521e-40f3-dd9c-82775cbaf6d0"
   },
   "outputs": [
    {
     "data": {
      "text/plain": [
       "['K',\n",
       " 'Layer',\n",
       " '__builtins__',\n",
       " '__cached__',\n",
       " '__doc__',\n",
       " '__file__',\n",
       " '__loader__',\n",
       " '__name__',\n",
       " '__package__',\n",
       " '__spec__',\n",
       " 'absolute_import',\n",
       " 'deserialize',\n",
       " 'deserialize_keras_object',\n",
       " 'elu',\n",
       " 'get',\n",
       " 'hard_sigmoid',\n",
       " 'linear',\n",
       " 'relu',\n",
       " 'selu',\n",
       " 'serialize',\n",
       " 'sigmoid',\n",
       " 'six',\n",
       " 'softmax',\n",
       " 'softplus',\n",
       " 'softsign',\n",
       " 'tanh',\n",
       " 'warnings']"
      ]
     },
     "execution_count": 16,
     "metadata": {},
     "output_type": "execute_result"
    }
   ],
   "source": [
    "dir(keras.activations)"
   ]
  },
  {
   "cell_type": "code",
   "execution_count": 17,
   "metadata": {
    "colab": {
     "autoexec": {
      "startup": false,
      "wait_interval": 0
     }
    },
    "colab_type": "code",
    "collapsed": true,
    "id": "Xj1hRg_slVj3"
   },
   "outputs": [],
   "source": [
    "# Adding the input layer and the first hidden layer\n",
    "classifier.add(Dense(units = 6, kernel_initializer = 'uniform', activation = 'relu', input_dim = 10))"
   ]
  },
  {
   "cell_type": "code",
   "execution_count": 18,
   "metadata": {
    "colab": {
     "autoexec": {
      "startup": false,
      "wait_interval": 0
     }
    },
    "colab_type": "code",
    "collapsed": true,
    "id": "CjMXM-pplVj5"
   },
   "outputs": [],
   "source": [
    "# Adding the second hidden layer\n",
    "classifier.add(Dense(units = 6, kernel_initializer = 'uniform', activation = 'relu'))"
   ]
  },
  {
   "cell_type": "code",
   "execution_count": 19,
   "metadata": {
    "colab": {
     "autoexec": {
      "startup": false,
      "wait_interval": 0
     }
    },
    "colab_type": "code",
    "collapsed": true,
    "id": "RgKYZF0XlVj8"
   },
   "outputs": [],
   "source": [
    "# Adding the output layer\n",
    "classifier.add(Dense(units = 1, kernel_initializer = 'uniform', activation = 'sigmoid', input_dim = 10))"
   ]
  },
  {
   "cell_type": "code",
   "execution_count": 20,
   "metadata": {
    "colab": {
     "autoexec": {
      "startup": false,
      "wait_interval": 0
     },
     "base_uri": "https://localhost:8080/",
     "height": 646,
     "output_extras": [
      {
       "item_id": 1
      }
     ]
    },
    "colab_type": "code",
    "executionInfo": {
     "elapsed": 681,
     "status": "ok",
     "timestamp": 1514455894738,
     "user": {
      "displayName": "Debakar Roy",
      "photoUrl": "//lh5.googleusercontent.com/-KwEZ1Z4ZXmE/AAAAAAAAAAI/AAAAAAAAALg/j6T-KetMTHY/s50-c-k-no/photo.jpg",
      "userId": "103957503016432867835"
     },
     "user_tz": -330
    },
    "id": "BJ_m8TpRlVj_",
    "outputId": "df043356-8ffd-40f7-c251-9eb94b50a342"
   },
   "outputs": [
    {
     "data": {
      "text/plain": [
       "['Adadelta',\n",
       " 'Adagrad',\n",
       " 'Adam',\n",
       " 'Adamax',\n",
       " 'K',\n",
       " 'Nadam',\n",
       " 'Optimizer',\n",
       " 'RMSprop',\n",
       " 'SGD',\n",
       " 'TFOptimizer',\n",
       " '__builtins__',\n",
       " '__cached__',\n",
       " '__doc__',\n",
       " '__file__',\n",
       " '__loader__',\n",
       " '__name__',\n",
       " '__package__',\n",
       " '__spec__',\n",
       " 'absolute_import',\n",
       " 'adadelta',\n",
       " 'adagrad',\n",
       " 'adam',\n",
       " 'adamax',\n",
       " 'clip_norm',\n",
       " 'copy',\n",
       " 'deserialize',\n",
       " 'deserialize_keras_object',\n",
       " 'get',\n",
       " 'interfaces',\n",
       " 'nadam',\n",
       " 'rmsprop',\n",
       " 'serialize',\n",
       " 'serialize_keras_object',\n",
       " 'sgd',\n",
       " 'six',\n",
       " 'tf',\n",
       " 'zip']"
      ]
     },
     "execution_count": 20,
     "metadata": {},
     "output_type": "execute_result"
    }
   ],
   "source": [
    "dir(keras.optimizers)"
   ]
  },
  {
   "cell_type": "code",
   "execution_count": 21,
   "metadata": {
    "colab": {
     "autoexec": {
      "startup": false,
      "wait_interval": 0
     },
     "base_uri": "https://localhost:8080/",
     "height": 714,
     "output_extras": [
      {
       "item_id": 1
      }
     ]
    },
    "colab_type": "code",
    "executionInfo": {
     "elapsed": 699,
     "status": "ok",
     "timestamp": 1514455895769,
     "user": {
      "displayName": "Debakar Roy",
      "photoUrl": "//lh5.googleusercontent.com/-KwEZ1Z4ZXmE/AAAAAAAAAAI/AAAAAAAAALg/j6T-KetMTHY/s50-c-k-no/photo.jpg",
      "userId": "103957503016432867835"
     },
     "user_tz": -330
    },
    "id": "Jf1jHAhMlVkD",
    "outputId": "98bb0a0d-7083-425f-a6a6-9cf2110ee466"
   },
   "outputs": [
    {
     "data": {
      "text/plain": [
       "['K',\n",
       " 'KLD',\n",
       " 'MAE',\n",
       " 'MAPE',\n",
       " 'MSE',\n",
       " 'MSLE',\n",
       " '__builtins__',\n",
       " '__cached__',\n",
       " '__doc__',\n",
       " '__file__',\n",
       " '__loader__',\n",
       " '__name__',\n",
       " '__package__',\n",
       " '__spec__',\n",
       " 'absolute_import',\n",
       " 'binary_crossentropy',\n",
       " 'categorical_crossentropy',\n",
       " 'categorical_hinge',\n",
       " 'cosine',\n",
       " 'cosine_proximity',\n",
       " 'deserialize',\n",
       " 'deserialize_keras_object',\n",
       " 'get',\n",
       " 'hinge',\n",
       " 'kld',\n",
       " 'kullback_leibler_divergence',\n",
       " 'logcosh',\n",
       " 'mae',\n",
       " 'mape',\n",
       " 'mean_absolute_error',\n",
       " 'mean_absolute_percentage_error',\n",
       " 'mean_squared_error',\n",
       " 'mean_squared_logarithmic_error',\n",
       " 'mse',\n",
       " 'msle',\n",
       " 'poisson',\n",
       " 'serialize',\n",
       " 'six',\n",
       " 'sparse_categorical_crossentropy',\n",
       " 'squared_hinge']"
      ]
     },
     "execution_count": 21,
     "metadata": {},
     "output_type": "execute_result"
    }
   ],
   "source": [
    "dir(keras.losses)"
   ]
  },
  {
   "cell_type": "code",
   "execution_count": 22,
   "metadata": {
    "colab": {
     "autoexec": {
      "startup": false,
      "wait_interval": 0
     }
    },
    "colab_type": "code",
    "collapsed": true,
    "id": "UdNhOYkslVkG"
   },
   "outputs": [],
   "source": [
    "# Compiling the ANN\n",
    "classifier.compile(optimizer = 'adam', loss = 'binary_crossentropy', metrics = ['accuracy'])"
   ]
  },
  {
   "cell_type": "code",
   "execution_count": 23,
   "metadata": {
    "colab": {
     "autoexec": {
      "startup": false,
      "wait_interval": 0
     },
     "base_uri": "https://localhost:8080/",
     "height": 3454,
     "output_extras": [
      {
       "item_id": 26
      },
      {
       "item_id": 51
      },
      {
       "item_id": 78
      },
      {
       "item_id": 101
      },
      {
       "item_id": 123
      },
      {
       "item_id": 147
      },
      {
       "item_id": 169
      },
      {
       "item_id": 191
      },
      {
       "item_id": 215
      },
      {
       "item_id": 234
      },
      {
       "item_id": 258
      },
      {
       "item_id": 278
      },
      {
       "item_id": 281
      },
      {
       "item_id": 282
      }
     ]
    },
    "colab_type": "code",
    "executionInfo": {
     "elapsed": 112208,
     "status": "ok",
     "timestamp": 1514456009672,
     "user": {
      "displayName": "Debakar Roy",
      "photoUrl": "//lh5.googleusercontent.com/-KwEZ1Z4ZXmE/AAAAAAAAAAI/AAAAAAAAALg/j6T-KetMTHY/s50-c-k-no/photo.jpg",
      "userId": "103957503016432867835"
     },
     "user_tz": -330
    },
    "id": "kfEgnM6tlVkK",
    "outputId": "90001b90-6aee-46cc-9a4a-87f1362e4057",
    "scrolled": false
   },
   "outputs": [
    {
     "name": "stdout",
     "output_type": "stream",
     "text": [
      "Epoch 1/100\n",
      "8000/8000 [==============================] - 3s 358us/step - loss: 0.4836 - acc: 0.7960\n",
      "Epoch 2/100\n",
      "8000/8000 [==============================] - 2s 240us/step - loss: 0.4330 - acc: 0.7960\n",
      "Epoch 3/100\n",
      "8000/8000 [==============================] - 2s 233us/step - loss: 0.4272 - acc: 0.7961\n",
      "Epoch 4/100\n",
      "8000/8000 [==============================] - 1s 175us/step - loss: 0.4231 - acc: 0.8224\n",
      "Epoch 5/100\n",
      "8000/8000 [==============================] - 1s 174us/step - loss: 0.4205 - acc: 0.8270\n",
      "Epoch 6/100\n",
      "8000/8000 [==============================] - 1s 172us/step - loss: 0.4182 - acc: 0.8297\n",
      "Epoch 7/100\n",
      "8000/8000 [==============================] - 1s 171us/step - loss: 0.4168 - acc: 0.8315\n",
      "Epoch 8/100\n",
      "8000/8000 [==============================] - 1s 175us/step - loss: 0.4156 - acc: 0.8322\n",
      "Epoch 9/100\n",
      "8000/8000 [==============================] - 1s 172us/step - loss: 0.4145 - acc: 0.8325\n",
      "Epoch 10/100\n",
      "8000/8000 [==============================] - 1s 171us/step - loss: 0.4134 - acc: 0.8330\n",
      "Epoch 11/100\n",
      "8000/8000 [==============================] - 1s 179us/step - loss: 0.4129 - acc: 0.8332\n",
      "Epoch 12/100\n",
      "8000/8000 [==============================] - 1s 178us/step - loss: 0.4121 - acc: 0.8340\n",
      "Epoch 13/100\n",
      "8000/8000 [==============================] - 2s 217us/step - loss: 0.4115 - acc: 0.8332\n",
      "Epoch 14/100\n",
      "8000/8000 [==============================] - 2s 247us/step - loss: 0.4114 - acc: 0.8337\n",
      "Epoch 15/100\n",
      "8000/8000 [==============================] - 2s 205us/step - loss: 0.4107 - acc: 0.8326\n",
      "Epoch 16/100\n",
      "8000/8000 [==============================] - 2s 199us/step - loss: 0.4103 - acc: 0.8331\n",
      "Epoch 17/100\n",
      "8000/8000 [==============================] - 2s 209us/step - loss: 0.4099 - acc: 0.8327\n",
      "Epoch 18/100\n",
      "8000/8000 [==============================] - 2s 239us/step - loss: 0.4102 - acc: 0.8341\n",
      "Epoch 19/100\n",
      "8000/8000 [==============================] - 2s 212us/step - loss: 0.4092 - acc: 0.8334\n",
      "Epoch 20/100\n",
      "8000/8000 [==============================] - 1s 174us/step - loss: 0.4095 - acc: 0.8342\n",
      "Epoch 21/100\n",
      "8000/8000 [==============================] - 1s 179us/step - loss: 0.4094 - acc: 0.8327\n",
      "Epoch 22/100\n",
      "8000/8000 [==============================] - 1s 181us/step - loss: 0.4093 - acc: 0.8339\n",
      "Epoch 23/100\n",
      "8000/8000 [==============================] - 1s 174us/step - loss: 0.4089 - acc: 0.8347\n",
      "Epoch 24/100\n",
      "8000/8000 [==============================] - 1s 181us/step - loss: 0.4088 - acc: 0.8345\n",
      "Epoch 25/100\n",
      "8000/8000 [==============================] - 1s 182us/step - loss: 0.4088 - acc: 0.8335\n",
      "Epoch 26/100\n",
      "8000/8000 [==============================] - 2s 189us/step - loss: 0.4084 - acc: 0.8327\n",
      "Epoch 27/100\n",
      "8000/8000 [==============================] - 2s 195us/step - loss: 0.4087 - acc: 0.8344\n",
      "Epoch 28/100\n",
      "8000/8000 [==============================] - 2s 193us/step - loss: 0.4083 - acc: 0.8339\n",
      "Epoch 29/100\n",
      "8000/8000 [==============================] - 1s 185us/step - loss: 0.4081 - acc: 0.8349\n",
      "Epoch 30/100\n",
      "8000/8000 [==============================] - 1s 182us/step - loss: 0.4086 - acc: 0.8334\n",
      "Epoch 31/100\n",
      "8000/8000 [==============================] - 2s 192us/step - loss: 0.4083 - acc: 0.8346\n",
      "Epoch 32/100\n",
      "8000/8000 [==============================] - 2s 232us/step - loss: 0.4081 - acc: 0.8345\n",
      "Epoch 33/100\n",
      "8000/8000 [==============================] - 1s 142us/step - loss: 0.4075 - acc: 0.8337\n",
      "Epoch 34/100\n",
      "8000/8000 [==============================] - 1s 177us/step - loss: 0.4081 - acc: 0.8327\n",
      "Epoch 35/100\n",
      "8000/8000 [==============================] - 2s 244us/step - loss: 0.4082 - acc: 0.8321\n",
      "Epoch 36/100\n",
      "8000/8000 [==============================] - 2s 226us/step - loss: 0.4081 - acc: 0.8340\n",
      "Epoch 37/100\n",
      "8000/8000 [==============================] - 2s 200us/step - loss: 0.4078 - acc: 0.8329\n",
      "Epoch 38/100\n",
      "8000/8000 [==============================] - 2s 252us/step - loss: 0.4080 - acc: 0.8357\n",
      "Epoch 39/100\n",
      "8000/8000 [==============================] - 2s 204us/step - loss: 0.4077 - acc: 0.8335\n",
      "Epoch 40/100\n",
      "8000/8000 [==============================] - 2s 229us/step - loss: 0.4075 - acc: 0.8335\n",
      "Epoch 41/100\n",
      "8000/8000 [==============================] - 1s 172us/step - loss: 0.4072 - acc: 0.8349\n",
      "Epoch 42/100\n",
      "8000/8000 [==============================] - 1s 155us/step - loss: 0.4075 - acc: 0.8329\n",
      "Epoch 43/100\n",
      "8000/8000 [==============================] - 2s 200us/step - loss: 0.4072 - acc: 0.8335\n",
      "Epoch 44/100\n",
      "8000/8000 [==============================] - 1s 141us/step - loss: 0.4076 - acc: 0.8326\n",
      "Epoch 45/100\n",
      "8000/8000 [==============================] - 1s 162us/step - loss: 0.4075 - acc: 0.8340\n",
      "Epoch 46/100\n",
      "8000/8000 [==============================] - 2s 192us/step - loss: 0.4069 - acc: 0.8334\n",
      "Epoch 47/100\n",
      "8000/8000 [==============================] - 1s 156us/step - loss: 0.4074 - acc: 0.8339\n",
      "Epoch 48/100\n",
      "8000/8000 [==============================] - 1s 148us/step - loss: 0.4071 - acc: 0.8341\n",
      "Epoch 49/100\n",
      "8000/8000 [==============================] - 1s 136us/step - loss: 0.4071 - acc: 0.8351\n",
      "Epoch 50/100\n",
      "8000/8000 [==============================] - 2s 212us/step - loss: 0.4070 - acc: 0.8341\n",
      "Epoch 51/100\n",
      "8000/8000 [==============================] - 1s 154us/step - loss: 0.4069 - acc: 0.8339\n",
      "Epoch 52/100\n",
      "8000/8000 [==============================] - 2s 212us/step - loss: 0.4068 - acc: 0.8344\n",
      "Epoch 53/100\n",
      "8000/8000 [==============================] - 2s 228us/step - loss: 0.4068 - acc: 0.8341\n",
      "Epoch 54/100\n",
      "8000/8000 [==============================] - 2s 213us/step - loss: 0.4068 - acc: 0.8344\n",
      "Epoch 55/100\n",
      "8000/8000 [==============================] - 2s 234us/step - loss: 0.4070 - acc: 0.8337\n",
      "Epoch 56/100\n",
      "8000/8000 [==============================] - 1s 156us/step - loss: 0.4070 - acc: 0.8322\n",
      "Epoch 57/100\n",
      "8000/8000 [==============================] - 2s 201us/step - loss: 0.4070 - acc: 0.8337\n",
      "Epoch 58/100\n",
      "8000/8000 [==============================] - 1s 174us/step - loss: 0.4070 - acc: 0.8335\n",
      "Epoch 59/100\n",
      "8000/8000 [==============================] - 1s 169us/step - loss: 0.4060 - acc: 0.8346\n",
      "Epoch 60/100\n",
      "8000/8000 [==============================] - 1s 171us/step - loss: 0.4069 - acc: 0.8340\n",
      "Epoch 61/100\n",
      "8000/8000 [==============================] - 3s 315us/step - loss: 0.4067 - acc: 0.8330\n",
      "Epoch 62/100\n",
      "8000/8000 [==============================] - 3s 356us/step - loss: 0.4062 - acc: 0.8344\n",
      "Epoch 63/100\n",
      "8000/8000 [==============================] - 2s 282us/step - loss: 0.4064 - acc: 0.8359\n",
      "Epoch 64/100\n",
      "8000/8000 [==============================] - 3s 322us/step - loss: 0.4065 - acc: 0.8329\n",
      "Epoch 65/100\n",
      "8000/8000 [==============================] - 2s 238us/step - loss: 0.4069 - acc: 0.8337\n",
      "Epoch 66/100\n",
      "8000/8000 [==============================] - 2s 225us/step - loss: 0.4065 - acc: 0.8325\n",
      "Epoch 67/100\n",
      "8000/8000 [==============================] - 2s 259us/step - loss: 0.4066 - acc: 0.8324\n",
      "Epoch 68/100\n",
      "8000/8000 [==============================] - 2s 255us/step - loss: 0.4063 - acc: 0.8349\n",
      "Epoch 69/100\n",
      "8000/8000 [==============================] - 2s 242us/step - loss: 0.4066 - acc: 0.8325\n",
      "Epoch 70/100\n",
      "8000/8000 [==============================] - 1s 175us/step - loss: 0.4064 - acc: 0.8347\n",
      "Epoch 71/100\n",
      "8000/8000 [==============================] - 1s 173us/step - loss: 0.4064 - acc: 0.8329\n",
      "Epoch 72/100\n",
      "8000/8000 [==============================] - 1s 185us/step - loss: 0.4064 - acc: 0.8310\n",
      "Epoch 73/100\n",
      "8000/8000 [==============================] - 1s 177us/step - loss: 0.4065 - acc: 0.8335\n",
      "Epoch 74/100\n",
      "8000/8000 [==============================] - 1s 183us/step - loss: 0.4059 - acc: 0.8332\n",
      "Epoch 75/100\n",
      "8000/8000 [==============================] - 1s 177us/step - loss: 0.4065 - acc: 0.8332\n",
      "Epoch 76/100\n",
      "8000/8000 [==============================] - 2s 235us/step - loss: 0.4065 - acc: 0.8335\n",
      "Epoch 77/100\n",
      "8000/8000 [==============================] - 2s 211us/step - loss: 0.4060 - acc: 0.8329\n",
      "Epoch 78/100\n",
      "8000/8000 [==============================] - 2s 243us/step - loss: 0.4061 - acc: 0.8357\n",
      "Epoch 79/100\n",
      "8000/8000 [==============================] - 2s 225us/step - loss: 0.4059 - acc: 0.8347\n",
      "Epoch 80/100\n",
      "8000/8000 [==============================] - 2s 229us/step - loss: 0.4061 - acc: 0.8332\n",
      "Epoch 81/100\n",
      "8000/8000 [==============================] - 3s 329us/step - loss: 0.4065 - acc: 0.8341\n",
      "Epoch 82/100\n"
     ]
    },
    {
     "name": "stdout",
     "output_type": "stream",
     "text": [
      "8000/8000 [==============================] - 2s 208us/step - loss: 0.4061 - acc: 0.8329\n",
      "Epoch 83/100\n",
      "8000/8000 [==============================] - 2s 230us/step - loss: 0.4063 - acc: 0.8337\n",
      "Epoch 84/100\n",
      "8000/8000 [==============================] - 2s 263us/step - loss: 0.4063 - acc: 0.8344\n",
      "Epoch 85/100\n",
      "8000/8000 [==============================] - 2s 259us/step - loss: 0.4063 - acc: 0.8336\n",
      "Epoch 86/100\n",
      "8000/8000 [==============================] - 2s 264us/step - loss: 0.4060 - acc: 0.8335\n",
      "Epoch 87/100\n",
      "8000/8000 [==============================] - 2s 252us/step - loss: 0.4059 - acc: 0.8330\n",
      "Epoch 88/100\n",
      "8000/8000 [==============================] - 2s 245us/step - loss: 0.4063 - acc: 0.8337\n",
      "Epoch 89/100\n",
      "8000/8000 [==============================] - 2s 241us/step - loss: 0.4062 - acc: 0.8331\n",
      "Epoch 90/100\n",
      "8000/8000 [==============================] - 2s 236us/step - loss: 0.4062 - acc: 0.8336\n",
      "Epoch 91/100\n",
      "8000/8000 [==============================] - 2s 239us/step - loss: 0.4060 - acc: 0.8334\n",
      "Epoch 92/100\n",
      "8000/8000 [==============================] - 2s 247us/step - loss: 0.4064 - acc: 0.8329\n",
      "Epoch 93/100\n",
      "8000/8000 [==============================] - 2s 243us/step - loss: 0.4063 - acc: 0.8335\n",
      "Epoch 94/100\n",
      "8000/8000 [==============================] - 2s 237us/step - loss: 0.4060 - acc: 0.8329\n",
      "Epoch 95/100\n",
      "8000/8000 [==============================] - 2s 255us/step - loss: 0.4057 - acc: 0.8344\n",
      "Epoch 96/100\n",
      "8000/8000 [==============================] - 2s 249us/step - loss: 0.4061 - acc: 0.8335\n",
      "Epoch 97/100\n",
      "8000/8000 [==============================] - 2s 255us/step - loss: 0.4059 - acc: 0.8339\n",
      "Epoch 98/100\n",
      "8000/8000 [==============================] - 2s 243us/step - loss: 0.4062 - acc: 0.8345\n",
      "Epoch 99/100\n",
      "8000/8000 [==============================] - 2s 240us/step - loss: 0.4065 - acc: 0.8331\n",
      "Epoch 100/100\n",
      "8000/8000 [==============================] - 2s 247us/step - loss: 0.4060 - acc: 0.8329\n"
     ]
    },
    {
     "data": {
      "text/plain": [
       "<keras.callbacks.History at 0x7f5b17964da0>"
      ]
     },
     "execution_count": 23,
     "metadata": {},
     "output_type": "execute_result"
    }
   ],
   "source": [
    "# Fitting the ANN to the Training set\n",
    "classifier.fit(X_train, y_train, batch_size = 10, epochs = 100)"
   ]
  },
  {
   "cell_type": "code",
   "execution_count": 24,
   "metadata": {
    "colab": {
     "autoexec": {
      "startup": false,
      "wait_interval": 0
     }
    },
    "colab_type": "code",
    "collapsed": true,
    "id": "XY-f5yXXlVkO"
   },
   "outputs": [],
   "source": [
    "# Predicting the Test set results\n",
    "y_pred = classifier.predict(X_test)\n",
    "y_pred = (y_pred > 0.5) "
   ]
  },
  {
   "cell_type": "code",
   "execution_count": 25,
   "metadata": {
    "colab": {
     "autoexec": {
      "startup": false,
      "wait_interval": 0
     },
     "base_uri": "https://localhost:8080/",
     "height": 187,
     "output_extras": [
      {
       "item_id": 1
      }
     ]
    },
    "colab_type": "code",
    "executionInfo": {
     "elapsed": 1206,
     "status": "ok",
     "timestamp": 1514456012895,
     "user": {
      "displayName": "Debakar Roy",
      "photoUrl": "//lh5.googleusercontent.com/-KwEZ1Z4ZXmE/AAAAAAAAAAI/AAAAAAAAALg/j6T-KetMTHY/s50-c-k-no/photo.jpg",
      "userId": "103957503016432867835"
     },
     "user_tz": -330
    },
    "id": "JlQeMV_KlVkR",
    "outputId": "d0d84daa-0dc8-4163-c976-72b6f049ed6b"
   },
   "outputs": [
    {
     "data": {
      "text/plain": [
       "array([[False],\n",
       "       [False],\n",
       "       [False],\n",
       "       [False],\n",
       "       [False],\n",
       "       [ True],\n",
       "       [False],\n",
       "       [False],\n",
       "       [False],\n",
       "       [ True]], dtype=bool)"
      ]
     },
     "execution_count": 25,
     "metadata": {},
     "output_type": "execute_result"
    }
   ],
   "source": [
    "y_pred[0:10]"
   ]
  },
  {
   "cell_type": "code",
   "execution_count": 26,
   "metadata": {
    "colab": {
     "autoexec": {
      "startup": false,
      "wait_interval": 0
     },
     "base_uri": "https://localhost:8080/",
     "height": 34,
     "output_extras": [
      {
       "item_id": 1
      }
     ]
    },
    "colab_type": "code",
    "executionInfo": {
     "elapsed": 728,
     "status": "ok",
     "timestamp": 1514456014146,
     "user": {
      "displayName": "Debakar Roy",
      "photoUrl": "//lh5.googleusercontent.com/-KwEZ1Z4ZXmE/AAAAAAAAAAI/AAAAAAAAALg/j6T-KetMTHY/s50-c-k-no/photo.jpg",
      "userId": "103957503016432867835"
     },
     "user_tz": -330
    },
    "id": "QarCqejmlVkX",
    "outputId": "ff3b032b-1165-4eea-b5d6-018b0bab63df"
   },
   "outputs": [
    {
     "data": {
      "text/plain": [
       "array([0, 1, 0, 0, 0, 1, 0, 0, 1, 1])"
      ]
     },
     "execution_count": 26,
     "metadata": {},
     "output_type": "execute_result"
    }
   ],
   "source": [
    "y_test[0:10]"
   ]
  },
  {
   "cell_type": "code",
   "execution_count": 27,
   "metadata": {
    "colab": {
     "autoexec": {
      "startup": false,
      "wait_interval": 0
     },
     "base_uri": "https://localhost:8080/",
     "height": 51,
     "output_extras": [
      {
       "item_id": 1
      }
     ]
    },
    "colab_type": "code",
    "executionInfo": {
     "elapsed": 904,
     "status": "ok",
     "timestamp": 1514456015556,
     "user": {
      "displayName": "Debakar Roy",
      "photoUrl": "//lh5.googleusercontent.com/-KwEZ1Z4ZXmE/AAAAAAAAAAI/AAAAAAAAALg/j6T-KetMTHY/s50-c-k-no/photo.jpg",
      "userId": "103957503016432867835"
     },
     "user_tz": -330
    },
    "id": "1Da93HaSlVkd",
    "outputId": "ede6b1c2-e4ff-46e2-b2ee-1f93f2931a44"
   },
   "outputs": [
    {
     "data": {
      "text/plain": [
       "array([[1554,   41],\n",
       "       [ 280,  125]])"
      ]
     },
     "execution_count": 27,
     "metadata": {},
     "output_type": "execute_result"
    }
   ],
   "source": [
    "# Making the confussion Matrix\n",
    "from sklearn.metrics import confusion_matrix\n",
    "cm = confusion_matrix(y_test, y_pred)\n",
    "cm"
   ]
  },
  {
   "cell_type": "code",
   "execution_count": 28,
   "metadata": {
    "colab": {
     "autoexec": {
      "startup": false,
      "wait_interval": 0
     },
     "base_uri": "https://localhost:8080/",
     "height": 34,
     "output_extras": [
      {
       "item_id": 1
      }
     ]
    },
    "colab_type": "code",
    "executionInfo": {
     "elapsed": 1015,
     "status": "ok",
     "timestamp": 1514456016905,
     "user": {
      "displayName": "Debakar Roy",
      "photoUrl": "//lh5.googleusercontent.com/-KwEZ1Z4ZXmE/AAAAAAAAAAI/AAAAAAAAALg/j6T-KetMTHY/s50-c-k-no/photo.jpg",
      "userId": "103957503016432867835"
     },
     "user_tz": -330
    },
    "id": "MrryNyCllVkg",
    "outputId": "48f60cde-dc37-46db-a25f-5e7814384f18"
   },
   "outputs": [
    {
     "data": {
      "text/plain": [
       "0.85450000000000004"
      ]
     },
     "execution_count": 28,
     "metadata": {},
     "output_type": "execute_result"
    }
   ],
   "source": [
    "# Accuracy\n",
    "(1516+193)/np.sum(cm)"
   ]
  }
 ],
 "metadata": {
  "colab": {
   "collapsed_sections": [],
   "default_view": {},
   "name": "[Python] Artificial Neural Network.ipynb",
   "provenance": [],
   "version": "0.3.2",
   "views": {}
  },
  "kernelspec": {
   "display_name": "Python 3",
   "language": "python",
   "name": "python3"
  },
  "language_info": {
   "codemirror_mode": {
    "name": "ipython",
    "version": 3
   },
   "file_extension": ".py",
   "mimetype": "text/x-python",
   "name": "python",
   "nbconvert_exporter": "python",
   "pygments_lexer": "ipython3",
   "version": "3.6.3"
  }
 },
 "nbformat": 4,
 "nbformat_minor": 1
}
