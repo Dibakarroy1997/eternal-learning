{
 "cells": [
  {
   "cell_type": "markdown",
   "metadata": {},
   "source": [
    "## Preprocessing Data"
   ]
  },
  {
   "cell_type": "code",
   "execution_count": 1,
   "metadata": {},
   "outputs": [],
   "source": [
    "import numpy as np\n",
    "from random import randint\n",
    "from sklearn.preprocessing import MinMaxScaler\n",
    "import pandas as pd"
   ]
  },
  {
   "cell_type": "code",
   "execution_count": 2,
   "metadata": {},
   "outputs": [],
   "source": [
    "train_labels =  []\n",
    "train_samples = []"
   ]
  },
  {
   "cell_type": "markdown",
   "metadata": {},
   "source": [
    "Example data: \n",
    "- An experiemental drug was tested on individuals from ages 13 to 100. \n",
    "- The trial had 2100 participants. Half were under 65 years old, half were over 65 years old.\n",
    "- 95% of patientes 65 or older experienced side effects.\n",
    "- 95% of patients under 65 experienced no side effects."
   ]
  },
  {
   "cell_type": "code",
   "execution_count": 3,
   "metadata": {},
   "outputs": [],
   "source": [
    "for i in range(50):\n",
    "    # The 5% of younger individuals who did experience side effects\n",
    "    random_younger = randint(13,64)\n",
    "    train_samples.append(random_younger)\n",
    "    train_labels.append(1)\n",
    "    \n",
    "    # The 5% of older individuals who did not experience side effects\n",
    "    random_older = randint(65,100)\n",
    "    train_samples.append(random_older)\n",
    "    train_labels.append(0)\n",
    "\n",
    "for i in range(1000):\n",
    "    # The 95% of younger individuals who did not experience side effects\n",
    "    random_younger = randint(13,64)\n",
    "    train_samples.append(random_younger)\n",
    "    train_labels.append(0)\n",
    "    \n",
    "    # The 95% of older individuals who did experience side effects\n",
    "    random_older = randint(65,100)\n",
    "    train_samples.append(random_older)\n",
    "    train_labels.append(1)"
   ]
  },
  {
   "cell_type": "markdown",
   "metadata": {},
   "source": [
    "## Storing the data in Pandas Dataframe"
   ]
  },
  {
   "cell_type": "code",
   "execution_count": 4,
   "metadata": {},
   "outputs": [],
   "source": [
    "df = pd.DataFrame(data = {\"Age\": train_samples, \"Side Effect?\": train_labels})"
   ]
  },
  {
   "cell_type": "code",
   "execution_count": 5,
   "metadata": {},
   "outputs": [
    {
     "data": {
      "text/html": [
       "<div>\n",
       "<style scoped>\n",
       "    .dataframe tbody tr th:only-of-type {\n",
       "        vertical-align: middle;\n",
       "    }\n",
       "\n",
       "    .dataframe tbody tr th {\n",
       "        vertical-align: top;\n",
       "    }\n",
       "\n",
       "    .dataframe thead th {\n",
       "        text-align: right;\n",
       "    }\n",
       "</style>\n",
       "<table border=\"1\" class=\"dataframe\">\n",
       "  <thead>\n",
       "    <tr style=\"text-align: right;\">\n",
       "      <th></th>\n",
       "      <th>Age</th>\n",
       "      <th>Side Effect?</th>\n",
       "    </tr>\n",
       "  </thead>\n",
       "  <tbody>\n",
       "    <tr>\n",
       "      <th>0</th>\n",
       "      <td>39</td>\n",
       "      <td>1</td>\n",
       "    </tr>\n",
       "    <tr>\n",
       "      <th>1</th>\n",
       "      <td>94</td>\n",
       "      <td>0</td>\n",
       "    </tr>\n",
       "    <tr>\n",
       "      <th>2</th>\n",
       "      <td>16</td>\n",
       "      <td>1</td>\n",
       "    </tr>\n",
       "    <tr>\n",
       "      <th>3</th>\n",
       "      <td>67</td>\n",
       "      <td>0</td>\n",
       "    </tr>\n",
       "    <tr>\n",
       "      <th>4</th>\n",
       "      <td>30</td>\n",
       "      <td>1</td>\n",
       "    </tr>\n",
       "    <tr>\n",
       "      <th>5</th>\n",
       "      <td>90</td>\n",
       "      <td>0</td>\n",
       "    </tr>\n",
       "    <tr>\n",
       "      <th>6</th>\n",
       "      <td>27</td>\n",
       "      <td>1</td>\n",
       "    </tr>\n",
       "    <tr>\n",
       "      <th>7</th>\n",
       "      <td>98</td>\n",
       "      <td>0</td>\n",
       "    </tr>\n",
       "    <tr>\n",
       "      <th>8</th>\n",
       "      <td>27</td>\n",
       "      <td>1</td>\n",
       "    </tr>\n",
       "    <tr>\n",
       "      <th>9</th>\n",
       "      <td>85</td>\n",
       "      <td>0</td>\n",
       "    </tr>\n",
       "  </tbody>\n",
       "</table>\n",
       "</div>"
      ],
      "text/plain": [
       "   Age  Side Effect?\n",
       "0   39             1\n",
       "1   94             0\n",
       "2   16             1\n",
       "3   67             0\n",
       "4   30             1\n",
       "5   90             0\n",
       "6   27             1\n",
       "7   98             0\n",
       "8   27             1\n",
       "9   85             0"
      ]
     },
     "execution_count": 5,
     "metadata": {},
     "output_type": "execute_result"
    }
   ],
   "source": [
    "df.head(10) # Top 10 datapoints, 1 means Yes, 0 means No"
   ]
  },
  {
   "cell_type": "code",
   "execution_count": 6,
   "metadata": {
    "scrolled": false
   },
   "outputs": [
    {
     "data": {
      "text/html": [
       "<div>\n",
       "<style scoped>\n",
       "    .dataframe tbody tr th:only-of-type {\n",
       "        vertical-align: middle;\n",
       "    }\n",
       "\n",
       "    .dataframe tbody tr th {\n",
       "        vertical-align: top;\n",
       "    }\n",
       "\n",
       "    .dataframe thead th {\n",
       "        text-align: right;\n",
       "    }\n",
       "</style>\n",
       "<table border=\"1\" class=\"dataframe\">\n",
       "  <thead>\n",
       "    <tr style=\"text-align: right;\">\n",
       "      <th></th>\n",
       "      <th>Age</th>\n",
       "      <th>Side Effect?</th>\n",
       "    </tr>\n",
       "  </thead>\n",
       "  <tbody>\n",
       "    <tr>\n",
       "      <th>count</th>\n",
       "      <td>2100.000000</td>\n",
       "      <td>2100.000000</td>\n",
       "    </tr>\n",
       "    <tr>\n",
       "      <th>mean</th>\n",
       "      <td>60.293810</td>\n",
       "      <td>0.500000</td>\n",
       "    </tr>\n",
       "    <tr>\n",
       "      <th>std</th>\n",
       "      <td>25.665675</td>\n",
       "      <td>0.500119</td>\n",
       "    </tr>\n",
       "    <tr>\n",
       "      <th>min</th>\n",
       "      <td>13.000000</td>\n",
       "      <td>0.000000</td>\n",
       "    </tr>\n",
       "    <tr>\n",
       "      <th>25%</th>\n",
       "      <td>37.000000</td>\n",
       "      <td>0.000000</td>\n",
       "    </tr>\n",
       "    <tr>\n",
       "      <th>50%</th>\n",
       "      <td>64.500000</td>\n",
       "      <td>0.500000</td>\n",
       "    </tr>\n",
       "    <tr>\n",
       "      <th>75%</th>\n",
       "      <td>83.000000</td>\n",
       "      <td>1.000000</td>\n",
       "    </tr>\n",
       "    <tr>\n",
       "      <th>max</th>\n",
       "      <td>100.000000</td>\n",
       "      <td>1.000000</td>\n",
       "    </tr>\n",
       "  </tbody>\n",
       "</table>\n",
       "</div>"
      ],
      "text/plain": [
       "               Age  Side Effect?\n",
       "count  2100.000000   2100.000000\n",
       "mean     60.293810      0.500000\n",
       "std      25.665675      0.500119\n",
       "min      13.000000      0.000000\n",
       "25%      37.000000      0.000000\n",
       "50%      64.500000      0.500000\n",
       "75%      83.000000      1.000000\n",
       "max     100.000000      1.000000"
      ]
     },
     "execution_count": 6,
     "metadata": {},
     "output_type": "execute_result"
    }
   ],
   "source": [
    "df.describe()"
   ]
  },
  {
   "cell_type": "markdown",
   "metadata": {},
   "source": [
    "## Scalling Input in range 0 to 1 (Normalize)"
   ]
  },
  {
   "cell_type": "code",
   "execution_count": 7,
   "metadata": {},
   "outputs": [
    {
     "name": "stderr",
     "output_type": "stream",
     "text": [
      "/home/baka/Programs/anaconda3/lib/python3.6/site-packages/sklearn/utils/validation.py:475: DataConversionWarning: Data with input dtype int64 was converted to float64 by MinMaxScaler.\n",
      "  warnings.warn(msg, DataConversionWarning)\n"
     ]
    }
   ],
   "source": [
    "scaler = MinMaxScaler(feature_range=(0,1))\n",
    "df['Age'] = scaler.fit_transform((df['Age']).values.reshape(-1,1))"
   ]
  },
  {
   "cell_type": "code",
   "execution_count": 8,
   "metadata": {},
   "outputs": [
    {
     "data": {
      "text/html": [
       "<div>\n",
       "<style scoped>\n",
       "    .dataframe tbody tr th:only-of-type {\n",
       "        vertical-align: middle;\n",
       "    }\n",
       "\n",
       "    .dataframe tbody tr th {\n",
       "        vertical-align: top;\n",
       "    }\n",
       "\n",
       "    .dataframe thead th {\n",
       "        text-align: right;\n",
       "    }\n",
       "</style>\n",
       "<table border=\"1\" class=\"dataframe\">\n",
       "  <thead>\n",
       "    <tr style=\"text-align: right;\">\n",
       "      <th></th>\n",
       "      <th>Age</th>\n",
       "      <th>Side Effect?</th>\n",
       "    </tr>\n",
       "  </thead>\n",
       "  <tbody>\n",
       "    <tr>\n",
       "      <th>0</th>\n",
       "      <td>0.298851</td>\n",
       "      <td>1</td>\n",
       "    </tr>\n",
       "    <tr>\n",
       "      <th>1</th>\n",
       "      <td>0.931034</td>\n",
       "      <td>0</td>\n",
       "    </tr>\n",
       "    <tr>\n",
       "      <th>2</th>\n",
       "      <td>0.034483</td>\n",
       "      <td>1</td>\n",
       "    </tr>\n",
       "    <tr>\n",
       "      <th>3</th>\n",
       "      <td>0.620690</td>\n",
       "      <td>0</td>\n",
       "    </tr>\n",
       "    <tr>\n",
       "      <th>4</th>\n",
       "      <td>0.195402</td>\n",
       "      <td>1</td>\n",
       "    </tr>\n",
       "    <tr>\n",
       "      <th>5</th>\n",
       "      <td>0.885057</td>\n",
       "      <td>0</td>\n",
       "    </tr>\n",
       "    <tr>\n",
       "      <th>6</th>\n",
       "      <td>0.160920</td>\n",
       "      <td>1</td>\n",
       "    </tr>\n",
       "    <tr>\n",
       "      <th>7</th>\n",
       "      <td>0.977011</td>\n",
       "      <td>0</td>\n",
       "    </tr>\n",
       "    <tr>\n",
       "      <th>8</th>\n",
       "      <td>0.160920</td>\n",
       "      <td>1</td>\n",
       "    </tr>\n",
       "    <tr>\n",
       "      <th>9</th>\n",
       "      <td>0.827586</td>\n",
       "      <td>0</td>\n",
       "    </tr>\n",
       "  </tbody>\n",
       "</table>\n",
       "</div>"
      ],
      "text/plain": [
       "        Age  Side Effect?\n",
       "0  0.298851             1\n",
       "1  0.931034             0\n",
       "2  0.034483             1\n",
       "3  0.620690             0\n",
       "4  0.195402             1\n",
       "5  0.885057             0\n",
       "6  0.160920             1\n",
       "7  0.977011             0\n",
       "8  0.160920             1\n",
       "9  0.827586             0"
      ]
     },
     "execution_count": 8,
     "metadata": {},
     "output_type": "execute_result"
    }
   ],
   "source": [
    "df.head(10)"
   ]
  },
  {
   "cell_type": "markdown",
   "metadata": {},
   "source": [
    "## Simple Sequential Model\n"
   ]
  },
  {
   "cell_type": "code",
   "execution_count": 9,
   "metadata": {},
   "outputs": [
    {
     "name": "stderr",
     "output_type": "stream",
     "text": [
      "Using TensorFlow backend.\n"
     ]
    }
   ],
   "source": [
    "import keras\n",
    "from keras import backend as K\n",
    "from keras.models import Sequential\n",
    "from keras.layers import Activation\n",
    "from keras.layers.core import Dense\n",
    "from keras.optimizers import Adam\n",
    "from keras.metrics import categorical_crossentropy"
   ]
  },
  {
   "cell_type": "markdown",
   "metadata": {},
   "source": [
    "The Sequential model is a linear stack of layers.\n",
    "\n",
    "We can pass in an array each of which element will represents one layer."
   ]
  },
  {
   "cell_type": "code",
   "execution_count": 10,
   "metadata": {},
   "outputs": [],
   "source": [
    "model = Sequential([\n",
    "    Dense(16, input_shape=(1,), activation='relu'),\n",
    "    Dense(32, activation='relu'),\n",
    "    Dense(2, activation='softmax')\n",
    "])"
   ]
  },
  {
   "cell_type": "markdown",
   "metadata": {},
   "source": [
    "Instead of passing the layer in constructor we can also use add() method.\n",
    "\n",
    "```\n",
    "model = Sequential()\n",
    "model.add(Dense(16, input_shape(1, ), activation = 'relu'))\n",
    "model.add(Dense(32, activation='relu'))\n",
    "model.add(Dense(2, activation='softmax'))\n",
    "```\n",
    "\n",
    "***\n",
    "\n",
    "Here **Dense()** represents the first hidden layer in NN.\n",
    "\n",
    "Example from [here](http://keras.dhpit.com/):\n",
    "```\n",
    "model.add(Dense(12, input_dim=8, init='uniform', activation='relu'))\n",
    "```\n",
    "\n",
    "It means 8 input parameters, with 12 neurons in the FIRST hidden layer.\n",
    "\n",
    "![](http://keras.dhpit.com/img/nn.png)\n",
    "\n",
    "So for our case we have 1 input parameter and in 1's hidden layer we have 16 neurons, for 2nd hidden layer we have 32 neurons and for output layer we have 2 neurons.\n",
    "\n",
    "***\n",
    "\n",
    "NOTE: *The model needs to know what input shape it should expect. For this reason, the first layer in a Sequential model (and only the first, because following layers can do automatic shape inference) needs to receive information about its input shape.*\n",
    "\n",
    "***\n",
    "\n",
    "Other then this we have pass the activation function which needed to be applied to convert each input signal into output signals (Activation functions are applied to the weighted sum and based on the value we get after applying activation fucntion we deside whrther to pass on the signal to next neuron or not).\n",
    "\n",
    "There are quite a few activation function we should look for:\n",
    "\n",
    "**Treshold**:\n",
    "\n",
    "![](threshold.png)\n",
    "\n",
    "**Sigmoid**:\n",
    "\n",
    "![](sigmoid.png)\n",
    "\n",
    "**Rectifier**:\n",
    "\n",
    "![](rectifier.png)\n",
    "\n",
    "**Hyperbolic Tangent**:\n",
    "\n",
    "![](hyperbolicTangent.png)\n",
    "\n",
    "There are many more.\n",
    "\n",
    "***\n",
    "\n",
    "This is a simple structure of neural network\n",
    "\n",
    "![](structure.png)"
   ]
  },
  {
   "cell_type": "markdown",
   "metadata": {},
   "source": [
    "We can see the summary of the neural network. "
   ]
  },
  {
   "cell_type": "code",
   "execution_count": 11,
   "metadata": {},
   "outputs": [
    {
     "name": "stdout",
     "output_type": "stream",
     "text": [
      "_________________________________________________________________\n",
      "Layer (type)                 Output Shape              Param #   \n",
      "=================================================================\n",
      "dense_1 (Dense)              (None, 16)                32        \n",
      "_________________________________________________________________\n",
      "dense_2 (Dense)              (None, 32)                544       \n",
      "_________________________________________________________________\n",
      "dense_3 (Dense)              (None, 2)                 66        \n",
      "=================================================================\n",
      "Total params: 642\n",
      "Trainable params: 642\n",
      "Non-trainable params: 0\n",
      "_________________________________________________________________\n"
     ]
    }
   ],
   "source": [
    "model.summary()"
   ]
  },
  {
   "cell_type": "code",
   "execution_count": 12,
   "metadata": {},
   "outputs": [],
   "source": [
    "model.compile(optimizer = Adam(lr=.0001), loss='sparse_categorical_crossentropy', metrics=['accuracy'])"
   ]
  },
  {
   "cell_type": "markdown",
   "metadata": {},
   "source": [
    "Here we are using Adam optimization function. Optimization function are the way by which we update the weight and bias in our neural network (It does it by minimizing (or maximizing) the **Objective function** or sometime called **Error Function**. There are different optimazation fuction which may affect the way you produce the output (it may be slightly better or faster).\n",
    "\n",
    "[There are many optimization function to use from](https://keras.io/optimizers/):\n",
    "\n",
    "* Gradient Descent\n",
    "* Adagrad\n",
    "* AdaDelta\n",
    "* Adam\n",
    "\n",
    "and many more.\n",
    "\n",
    "***\n",
    "\n",
    "Loss function is used to measure the inconsistency between predicted value (y') and actual label (y).\n",
    "\n",
    "[There are many loss fucntion to use from](https://keras.io/losses/):\n",
    "\n",
    "* Mean Squared Error\n",
    "* Mean Absolute Error\n",
    "* Mean Squared Logarithmic Error\n",
    "* Categorical Cross Entropy\n",
    "\n",
    "and many more\n",
    "\n",
    "***\n",
    "\n",
    "A **[metric](https://keras.io/metrics/)** is a function that is used to judge the performance of your model. Metric functions are to be supplied in the metrics parameter when a model is compiled.\n",
    "\n",
    "A metric function is similar to a loss function, except that the results from evaluating a metric are not used when training the model.\n",
    "\n",
    "***\n",
    "\n",
    "All we are doing here is compiling the model. This is only neccesary when we are *training* the model, but not when we are *predicting* something using a pretrained model.\n",
    "\n",
    "This is because when training the model we need to do both *forward pass* and *back pass*. So we need to specify which optimization function we need to use to update the weight and biases or what loss function we need to use. But when predicting we just need one forward pass. Hence no compiling is required while predicting."
   ]
  },
  {
   "cell_type": "markdown",
   "metadata": {},
   "source": [
    "## Training"
   ]
  },
  {
   "cell_type": "code",
   "execution_count": 13,
   "metadata": {},
   "outputs": [
    {
     "name": "stdout",
     "output_type": "stream",
     "text": [
      "Epoch 1/20\n",
      " - 0s - loss: 0.6716 - acc: 0.5129\n",
      "Epoch 2/20\n",
      " - 0s - loss: 0.6504 - acc: 0.5867\n",
      "Epoch 3/20\n",
      " - 0s - loss: 0.6288 - acc: 0.6338\n",
      "Epoch 4/20\n",
      " - 0s - loss: 0.6074 - acc: 0.6724\n",
      "Epoch 5/20\n",
      " - 0s - loss: 0.5862 - acc: 0.7024\n",
      "Epoch 6/20\n",
      " - 0s - loss: 0.5648 - acc: 0.7357\n",
      "Epoch 7/20\n",
      " - 0s - loss: 0.5433 - acc: 0.7624\n",
      "Epoch 8/20\n",
      " - 0s - loss: 0.5213 - acc: 0.7867\n",
      "Epoch 9/20\n",
      " - 0s - loss: 0.4970 - acc: 0.8152\n",
      "Epoch 10/20\n",
      " - 0s - loss: 0.4737 - acc: 0.8305\n",
      "Epoch 11/20\n",
      " - 0s - loss: 0.4516 - acc: 0.8505\n",
      "Epoch 12/20\n",
      " - 0s - loss: 0.4309 - acc: 0.8643\n",
      "Epoch 13/20\n",
      " - 0s - loss: 0.4104 - acc: 0.8790\n",
      "Epoch 14/20\n",
      " - 0s - loss: 0.3915 - acc: 0.8876\n",
      "Epoch 15/20\n",
      " - 0s - loss: 0.3739 - acc: 0.8933\n",
      "Epoch 16/20\n",
      " - 0s - loss: 0.3582 - acc: 0.9038\n",
      "Epoch 17/20\n",
      " - 0s - loss: 0.3448 - acc: 0.9048\n",
      "Epoch 18/20\n",
      " - 0s - loss: 0.3335 - acc: 0.9133\n",
      "Epoch 19/20\n",
      " - 0s - loss: 0.3236 - acc: 0.9176\n",
      "Epoch 20/20\n",
      " - 0s - loss: 0.3154 - acc: 0.9186\n"
     ]
    },
    {
     "data": {
      "text/plain": [
       "<keras.callbacks.History at 0x7f287fdeb588>"
      ]
     },
     "execution_count": 13,
     "metadata": {},
     "output_type": "execute_result"
    }
   ],
   "source": [
    "model.fit(x = df['Age'], y = df['Side Effect?'], batch_size=10, epochs=20, shuffle=True, verbose=2)"
   ]
  },
  {
   "cell_type": "markdown",
   "metadata": {},
   "source": [
    "Here we pass the independent and dependent parameter (x and y) folowed by batch size.\n",
    "\n",
    "Batch size is **number of samples** passed through a network at one time. \n",
    "\n",
    "Why not pass one by one?\n",
    "\n",
    "It's better to pass more than one sample at a time if our machine can easily haddle them. It make the process of training the model fast. But there is a trade off.\n",
    "\n",
    "Larger batch sizes => faster progress in training but don't always converge as fast. \n",
    "\n",
    "Smaller batch sizes => train slower, but can converge faster.\n",
    "\n",
    "So it depends on the type of problem and is one of the very important hyperparameter.\n",
    "\n",
    "***\n",
    "\n",
    "Epoch is one pass over the entire dataset.\n",
    "\n",
    "***\n",
    "\n",
    "Think, we have **dataset of 1000 samples** and we are training out model using **batch size of 10 samples**. Now 1 epoch will be completed when we have passed 100 batch.\n",
    "\n",
    "i.e. `1000 samples / 10 samples per batch = 100 batch per epoch`\n",
    "\n",
    "***\n",
    "\n",
    "`Shuffle = True` tell that we should shuffle the data and in each epoch the data (samples) are going to be in different order.\n",
    "\n",
    "***\n",
    "\n",
    "verbose is just specifying how we should see the output.\n",
    "\n",
    "0 = silent, 1 = progress bar, 2 = one line per epoch."
   ]
  }
 ],
 "metadata": {
  "kernelspec": {
   "display_name": "Python 3",
   "language": "python",
   "name": "python3"
  },
  "language_info": {
   "codemirror_mode": {
    "name": "ipython",
    "version": 3
   },
   "file_extension": ".py",
   "mimetype": "text/x-python",
   "name": "python",
   "nbconvert_exporter": "python",
   "pygments_lexer": "ipython3",
   "version": "3.6.4"
  }
 },
 "nbformat": 4,
 "nbformat_minor": 2
}
