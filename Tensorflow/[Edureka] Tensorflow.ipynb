{
 "cells": [
  {
   "cell_type": "markdown",
   "metadata": {},
   "source": [
    "### Building and Running a Graph"
   ]
  },
  {
   "cell_type": "code",
   "execution_count": 3,
   "metadata": {},
   "outputs": [],
   "source": [
    "import tensorflow as tf"
   ]
  },
  {
   "cell_type": "code",
   "execution_count": 2,
   "metadata": {},
   "outputs": [
    {
     "name": "stdout",
     "output_type": "stream",
     "text": [
      "Tensor(\"Const:0\", shape=(), dtype=float32) Tensor(\"Const_1:0\", shape=(), dtype=float32)\n"
     ]
    }
   ],
   "source": [
    "# two tensor constants\n",
    "node1 = tf.constant(30, tf.float32)\n",
    "node2 = tf.constant(4.0)\n",
    "\n",
    "print(node1, node2) # outputs an abstract tensor"
   ]
  },
  {
   "cell_type": "markdown",
   "metadata": {},
   "source": [
    "#### Creating Session"
   ]
  },
  {
   "cell_type": "code",
   "execution_count": 3,
   "metadata": {},
   "outputs": [
    {
     "name": "stdout",
     "output_type": "stream",
     "text": [
      "[30.0, 4.0]\n"
     ]
    }
   ],
   "source": [
    "sess = tf.Session() # use resources such as CPU or GPU\n",
    "print(sess.run([node1, node2]))\n",
    "sess.close() # free up resources"
   ]
  },
  {
   "cell_type": "markdown",
   "metadata": {},
   "source": [
    "#### Other way to create session"
   ]
  },
  {
   "cell_type": "code",
   "execution_count": 6,
   "metadata": {},
   "outputs": [
    {
     "name": "stdout",
     "output_type": "stream",
     "text": [
      "[30.0, 4.0]\n"
     ]
    }
   ],
   "source": [
    "with tf.Session() as sess:\n",
    "    output = sess.run([node1, node2])\n",
    "    print(output)"
   ]
  },
  {
   "cell_type": "markdown",
   "metadata": {},
   "source": [
    "### Visualizing computational graph using Tensorboard"
   ]
  },
  {
   "cell_type": "markdown",
   "metadata": {},
   "source": [
    "This can be done by first creating a tf.summary.FileWriter object, passing the path of the directory where the information will be store that can be use by Tensorboard to create the graph"
   ]
  },
  {
   "cell_type": "code",
   "execution_count": 9,
   "metadata": {},
   "outputs": [
    {
     "name": "stdout",
     "output_type": "stream",
     "text": [
      "Help on class FileWriter in module tensorflow.python.summary.writer.writer:\n",
      "\n",
      "class FileWriter(SummaryToEventTransformer)\n",
      " |  Writes `Summary` protocol buffers to event files.\n",
      " |  \n",
      " |  The `FileWriter` class provides a mechanism to create an event file in a\n",
      " |  given directory and add summaries and events to it. The class updates the\n",
      " |  file contents asynchronously. This allows a training program to call methods\n",
      " |  to add data to the file directly from the training loop, without slowing down\n",
      " |  training.\n",
      " |  \n",
      " |  Method resolution order:\n",
      " |      FileWriter\n",
      " |      SummaryToEventTransformer\n",
      " |      builtins.object\n",
      " |  \n",
      " |  Methods defined here:\n",
      " |  \n",
      " |  __init__(self, logdir, graph=None, max_queue=10, flush_secs=120, graph_def=None, filename_suffix=None)\n",
      " |      Creates a `FileWriter` and an event file.\n",
      " |      \n",
      " |      On construction the summary writer creates a new event file in `logdir`.\n",
      " |      This event file will contain `Event` protocol buffers constructed when you\n",
      " |      call one of the following functions: `add_summary()`, `add_session_log()`,\n",
      " |      `add_event()`, or `add_graph()`.\n",
      " |      \n",
      " |      If you pass a `Graph` to the constructor it is added to\n",
      " |      the event file. (This is equivalent to calling `add_graph()` later).\n",
      " |      \n",
      " |      TensorBoard will pick the graph from the file and display it graphically so\n",
      " |      you can interactively explore the graph you built. You will usually pass\n",
      " |      the graph from the session in which you launched it:\n",
      " |      \n",
      " |      ```python\n",
      " |      ...create a graph...\n",
      " |      # Launch the graph in a session.\n",
      " |      sess = tf.Session()\n",
      " |      # Create a summary writer, add the 'graph' to the event file.\n",
      " |      writer = tf.summary.FileWriter(<some-directory>, sess.graph)\n",
      " |      ```\n",
      " |      \n",
      " |      The other arguments to the constructor control the asynchronous writes to\n",
      " |      the event file:\n",
      " |      \n",
      " |      *  `flush_secs`: How often, in seconds, to flush the added summaries\n",
      " |         and events to disk.\n",
      " |      *  `max_queue`: Maximum number of summaries or events pending to be\n",
      " |         written to disk before one of the 'add' calls block.\n",
      " |      \n",
      " |      Args:\n",
      " |        logdir: A string. Directory where event file will be written.\n",
      " |        graph: A `Graph` object, such as `sess.graph`.\n",
      " |        max_queue: Integer. Size of the queue for pending events and summaries.\n",
      " |        flush_secs: Number. How often, in seconds, to flush the\n",
      " |          pending events and summaries to disk.\n",
      " |        graph_def: DEPRECATED: Use the `graph` argument instead.\n",
      " |        filename_suffix: A string. Every event file's name is suffixed with\n",
      " |          `suffix`.\n",
      " |  \n",
      " |  add_event(self, event)\n",
      " |      Adds an event to the event file.\n",
      " |      \n",
      " |      Args:\n",
      " |        event: An `Event` protocol buffer.\n",
      " |  \n",
      " |  close(self)\n",
      " |      Flushes the event file to disk and close the file.\n",
      " |      \n",
      " |      Call this method when you do not need the summary writer anymore.\n",
      " |  \n",
      " |  flush(self)\n",
      " |      Flushes the event file to disk.\n",
      " |      \n",
      " |      Call this method to make sure that all pending events have been written to\n",
      " |      disk.\n",
      " |  \n",
      " |  get_logdir(self)\n",
      " |      Returns the directory where event file will be written.\n",
      " |  \n",
      " |  reopen(self)\n",
      " |      Reopens the EventFileWriter.\n",
      " |      \n",
      " |      Can be called after `close()` to add more events in the same directory.\n",
      " |      The events will go into a new events file.\n",
      " |      \n",
      " |      Does nothing if the EventFileWriter was not closed.\n",
      " |  \n",
      " |  ----------------------------------------------------------------------\n",
      " |  Methods inherited from SummaryToEventTransformer:\n",
      " |  \n",
      " |  add_graph(self, graph, global_step=None, graph_def=None)\n",
      " |      Adds a `Graph` to the event file.\n",
      " |      \n",
      " |      The graph described by the protocol buffer will be displayed by\n",
      " |      TensorBoard. Most users pass a graph in the constructor instead.\n",
      " |      \n",
      " |      Args:\n",
      " |        graph: A `Graph` object, such as `sess.graph`.\n",
      " |        global_step: Number. Optional global step counter to record with the\n",
      " |          graph.\n",
      " |        graph_def: DEPRECATED. Use the `graph` parameter instead.\n",
      " |      \n",
      " |      Raises:\n",
      " |        ValueError: If both graph and graph_def are passed to the method.\n",
      " |  \n",
      " |  add_meta_graph(self, meta_graph_def, global_step=None)\n",
      " |      Adds a `MetaGraphDef` to the event file.\n",
      " |      \n",
      " |      The `MetaGraphDef` allows running the given graph via\n",
      " |      `saver.import_meta_graph()`.\n",
      " |      \n",
      " |      Args:\n",
      " |        meta_graph_def: A `MetaGraphDef` object, often as returned by\n",
      " |          `saver.export_meta_graph()`.\n",
      " |        global_step: Number. Optional global step counter to record with the\n",
      " |          graph.\n",
      " |      \n",
      " |      Raises:\n",
      " |        TypeError: If both `meta_graph_def` is not an instance of `MetaGraphDef`.\n",
      " |  \n",
      " |  add_run_metadata(self, run_metadata, tag, global_step=None)\n",
      " |      Adds a metadata information for a single session.run() call.\n",
      " |      \n",
      " |      Args:\n",
      " |        run_metadata: A `RunMetadata` protobuf object.\n",
      " |        tag: The tag name for this metadata.\n",
      " |        global_step: Number. Optional global step counter to record with the\n",
      " |          StepStats.\n",
      " |      \n",
      " |      Raises:\n",
      " |        ValueError: If the provided tag was already used for this type of event.\n",
      " |  \n",
      " |  add_session_log(self, session_log, global_step=None)\n",
      " |      Adds a `SessionLog` protocol buffer to the event file.\n",
      " |      \n",
      " |      This method wraps the provided session in an `Event` protocol buffer\n",
      " |      and adds it to the event file.\n",
      " |      \n",
      " |      Args:\n",
      " |        session_log: A `SessionLog` protocol buffer.\n",
      " |        global_step: Number. Optional global step value to record with the\n",
      " |          summary.\n",
      " |  \n",
      " |  add_summary(self, summary, global_step=None)\n",
      " |      Adds a `Summary` protocol buffer to the event file.\n",
      " |      \n",
      " |      This method wraps the provided summary in an `Event` protocol buffer\n",
      " |      and adds it to the event file.\n",
      " |      \n",
      " |      You can pass the result of evaluating any summary op, using\n",
      " |      @{tf.Session.run} or\n",
      " |      @{tf.Tensor.eval}, to this\n",
      " |      function. Alternatively, you can pass a `tf.Summary` protocol\n",
      " |      buffer that you populate with your own data. The latter is\n",
      " |      commonly done to report evaluation results in event files.\n",
      " |      \n",
      " |      Args:\n",
      " |        summary: A `Summary` protocol buffer, optionally serialized as a string.\n",
      " |        global_step: Number. Optional global step value to record with the\n",
      " |          summary.\n",
      " |  \n",
      " |  ----------------------------------------------------------------------\n",
      " |  Data descriptors inherited from SummaryToEventTransformer:\n",
      " |  \n",
      " |  __dict__\n",
      " |      dictionary for instance variables (if defined)\n",
      " |  \n",
      " |  __weakref__\n",
      " |      list of weak references to the object (if defined)\n",
      "\n"
     ]
    }
   ],
   "source": [
    "help(tf.summary.FileWriter)"
   ]
  },
  {
   "cell_type": "code",
   "execution_count": 2,
   "metadata": {},
   "outputs": [
    {
     "name": "stdout",
     "output_type": "stream",
     "text": [
      "35.0\n"
     ]
    }
   ],
   "source": [
    "a = tf.constant(7.0)\n",
    "b = tf.constant(5.0)\n",
    "\n",
    "c = a * b\n",
    "\n",
    "sess = tf.Session()\n",
    "\n",
    "File_Writer = tf.summary.FileWriter('graph', sess.graph)\n",
    "\n",
    "print(sess.run(c))\n",
    "\n",
    "sess.close()"
   ]
  },
  {
   "cell_type": "markdown",
   "metadata": {},
   "source": [
    "After executing the above code the present working directory will have a folder name **graph**. \n",
    "Now we need to go to the terminal and type: \n",
    "```bash \n",
    "tensorflow --logdir='graph' \n",
    "TensorBoard 0.1.5 at http://baka:6006 (Press CTRL+C to quit) \n",
    "```"
   ]
  },
  {
   "cell_type": "markdown",
   "metadata": {},
   "source": [
    "Visit http://baka:6006. The graph looks something like this:"
   ]
  },
  {
   "cell_type": "markdown",
   "metadata": {},
   "source": [
    "![Initial Graph](initial_graph.png)"
   ]
  },
  {
   "cell_type": "markdown",
   "metadata": {},
   "source": [
    "#### Placeholder"
   ]
  },
  {
   "cell_type": "code",
   "execution_count": 4,
   "metadata": {},
   "outputs": [
    {
     "name": "stdout",
     "output_type": "stream",
     "text": [
      "[  6.  12.]\n"
     ]
    }
   ],
   "source": [
    "a = tf.placeholder(tf.float32)\n",
    "b = tf.placeholder(tf.float32)\n",
    "\n",
    "adder_node = a + b\n",
    "\n",
    "sess = tf.Session()\n",
    "\n",
    "print(sess.run(adder_node, {a:[4, 5], b:[2, 7]}))\n",
    "\n",
    "sess.close()"
   ]
  },
  {
   "cell_type": "markdown",
   "metadata": {},
   "source": [
    "#### Variables"
   ]
  },
  {
   "cell_type": "code",
   "execution_count": 15,
   "metadata": {},
   "outputs": [
    {
     "name": "stdout",
     "output_type": "stream",
     "text": [
      "[array([ 3.00000238], dtype=float32), array([ 1.99999309], dtype=float32)]\n"
     ]
    }
   ],
   "source": [
    "sess = tf.Session()\n",
    "\n",
    "# Model Parameters\n",
    "W = tf.Variable([0.0], tf.float32)\n",
    "b = tf.Variable([0.0], tf.float32)\n",
    "\n",
    "# Inputs and Outputs\n",
    "x = tf.placeholder(tf.float32)\n",
    "\n",
    "linear_model = W * x + b\n",
    "\n",
    "y = tf.placeholder(tf.float32)\n",
    "\n",
    "# Loss function\n",
    "squared_error = tf.square(linear_model - y)\n",
    "loss = tf.reduce_sum(squared_error)\n",
    "\n",
    "# Optimizer\n",
    "optimizer = tf.train.GradientDescentOptimizer(.01)\n",
    "train = optimizer.minimize(loss)\n",
    "\n",
    "\n",
    "\n",
    "# This will intialize the global variables\n",
    "init = tf.global_variables_initializer()\n",
    "\n",
    "sess.run(init) #Initializing global variables\n",
    "\n",
    "# print(sess.run(loss, {x:[1, 2, 3, 4], y:[5, 8, 11, 14]}))\n",
    "\n",
    "for i in range(1000):\n",
    "    sess.run(train, {x:[1, 2, 3, 4], y:[5, 8, 11, 14]})\n",
    "\n",
    "print(sess.run([W, b]))\n",
    "\n",
    "sess.close()"
   ]
  },
  {
   "cell_type": "markdown",
   "metadata": {},
   "source": [
    "### Implementation of Naval Mine Identifier"
   ]
  },
  {
   "cell_type": "code",
   "execution_count": null,
   "metadata": {},
   "outputs": [],
   "source": []
  }
 ],
 "metadata": {
  "kernelspec": {
   "display_name": "Python 3",
   "language": "python",
   "name": "python3"
  },
  "language_info": {
   "codemirror_mode": {
    "name": "ipython",
    "version": 3
   },
   "file_extension": ".py",
   "mimetype": "text/x-python",
   "name": "python",
   "nbconvert_exporter": "python",
   "pygments_lexer": "ipython3",
   "version": "3.6.4"
  }
 },
 "nbformat": 4,
 "nbformat_minor": 2
}
