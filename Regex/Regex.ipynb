{
  "nbformat": 4,
  "nbformat_minor": 0,
  "metadata": {
    "colab": {
      "name": "Regex.ipynb",
      "version": "0.3.2",
      "views": {},
      "default_view": {},
      "provenance": [],
      "collapsed_sections": [],
      "toc_visible": true
    },
    "kernelspec": {
      "name": "python3",
      "display_name": "Python 3"
    }
  },
  "cells": [
    {
      "metadata": {
        "id": "EtPE0hN7iO-g",
        "colab_type": "text"
      },
      "cell_type": "markdown",
      "source": [
        "# Regular Expression"
      ]
    },
    {
      "metadata": {
        "id": "mZgZEXhyi3SL",
        "colab_type": "text"
      },
      "cell_type": "markdown",
      "source": [
        "Credit: [Python Tutorial: re Module - How to Write and Match Regular Expressions (Regex) by Corey Schafer](https://youtu.be/K8L6KVGG-7o)"
      ]
    },
    {
      "metadata": {
        "id": "trQiL3e4aIht",
        "colab_type": "text"
      },
      "cell_type": "markdown",
      "source": [
        "Regular expression using python's built-in **re** module"
      ]
    },
    {
      "metadata": {
        "id": "CdxuOAWFudZO",
        "colab_type": "code",
        "colab": {
          "autoexec": {
            "startup": false,
            "wait_interval": 0
          }
        }
      },
      "cell_type": "code",
      "source": [
        "import re"
      ],
      "execution_count": 0,
      "outputs": []
    },
    {
      "metadata": {
        "id": "NPoGwHH2aif6",
        "colab_type": "text"
      },
      "cell_type": "markdown",
      "source": [
        "Text we would be working with is a multiline string **text_to_search**"
      ]
    },
    {
      "metadata": {
        "id": "JfhqI556agkL",
        "colab_type": "code",
        "colab": {
          "autoexec": {
            "startup": false,
            "wait_interval": 0
          }
        }
      },
      "cell_type": "code",
      "source": [
        "text_to_search = '''\n",
        "abcdefghijklmnopqurtuvwxyz\n",
        "ABCDEFGHIJKLMNOPQRSTUVWXYZ\n",
        "1234567890\n",
        "\n",
        "Ha HaHa\n",
        "\n",
        "MetaCharacters (Need to be escaped):\n",
        "\n",
        ". ^ $ * + ? { } [ ] \\ | ( )\n",
        "\n",
        "example.com\n",
        "\n",
        "321-555-4321\n",
        "123.555.1234\n",
        "123*555*1234\n",
        "800-555-1234\n",
        "900-555-1234\n",
        "\n",
        "Mr. Schafer\n",
        "Mr Smith\n",
        "Ms Davis\n",
        "Mrs. Robinson\n",
        "Mr. T\n",
        "\n",
        "cat\n",
        "mat\n",
        "pat\n",
        "bat\n",
        "'''"
      ],
      "execution_count": 0,
      "outputs": []
    },
    {
      "metadata": {
        "id": "h6tTpk5siV7b",
        "colab_type": "text"
      },
      "cell_type": "markdown",
      "source": [
        "### Raw string literals"
      ]
    },
    {
      "metadata": {
        "id": "yCa1rAvjaokA",
        "colab_type": "text"
      },
      "cell_type": "markdown",
      "source": [
        "Before getting into regular expression we need to now what is raw string literals. Let's see an example"
      ]
    },
    {
      "metadata": {
        "id": "wPQlNwLCbFg0",
        "colab_type": "code",
        "colab": {
          "autoexec": {
            "startup": false,
            "wait_interval": 0
          },
          "base_uri": "https://localhost:8080/",
          "height": 34
        },
        "outputId": "abb3ddc3-9305-4d3a-a0f1-22af5ac67c5a",
        "executionInfo": {
          "status": "ok",
          "timestamp": 1528655074596,
          "user_tz": -330,
          "elapsed": 1245,
          "user": {
            "displayName": "Debakar Roy",
            "photoUrl": "//lh5.googleusercontent.com/-KwEZ1Z4ZXmE/AAAAAAAAAAI/AAAAAAAAQTA/EmWe2YYRCLo/s50-c-k-no/photo.jpg",
            "userId": "103957503016432867835"
          }
        }
      },
      "cell_type": "code",
      "source": [
        "print('\\tTab')"
      ],
      "execution_count": 3,
      "outputs": [
        {
          "output_type": "stream",
          "text": [
            "\tTab\n"
          ],
          "name": "stdout"
        }
      ]
    },
    {
      "metadata": {
        "id": "kfYd-cyUbLHt",
        "colab_type": "code",
        "colab": {
          "autoexec": {
            "startup": false,
            "wait_interval": 0
          },
          "base_uri": "https://localhost:8080/",
          "height": 34
        },
        "outputId": "8f3fe18f-f35e-437a-84d2-9c1ade48be1e",
        "executionInfo": {
          "status": "ok",
          "timestamp": 1528655076540,
          "user_tz": -330,
          "elapsed": 1559,
          "user": {
            "displayName": "Debakar Roy",
            "photoUrl": "//lh5.googleusercontent.com/-KwEZ1Z4ZXmE/AAAAAAAAAAI/AAAAAAAAQTA/EmWe2YYRCLo/s50-c-k-no/photo.jpg",
            "userId": "103957503016432867835"
          }
        }
      },
      "cell_type": "code",
      "source": [
        "print(r'\\tTab')"
      ],
      "execution_count": 4,
      "outputs": [
        {
          "output_type": "stream",
          "text": [
            "\\tTab\n"
          ],
          "name": "stdout"
        }
      ]
    },
    {
      "metadata": {
        "id": "RxkuUyCrb4-v",
        "colab_type": "text"
      },
      "cell_type": "markdown",
      "source": [
        "So **raw string literals** are the string literals marked by an 'r' before the opening quote. So in raw string we do not have any special treatment for escape sequence such as newline, tabs, backspaces, form-feeds, and so on. "
      ]
    },
    {
      "metadata": {
        "id": "3smFFMZ7ibBV",
        "colab_type": "text"
      },
      "cell_type": "markdown",
      "source": [
        "### re.compile()"
      ]
    },
    {
      "metadata": {
        "id": "3B1K5EWecyjw",
        "colab_type": "text"
      },
      "cell_type": "markdown",
      "source": [
        "We are going to use the **compile** method which let us to seperate our pattern as a vartiable and let us reuse it for multiple searches."
      ]
    },
    {
      "metadata": {
        "id": "OBmmQZ6TcbO3",
        "colab_type": "text"
      },
      "cell_type": "markdown",
      "source": [
        "re.**compile**(pattern, flags=0)\n",
        "\n",
        "> Compile a regular expression pattern into a regular expression object, which can be used for matching using its match() and search() methods, described below.\n",
        "\n"
      ]
    },
    {
      "metadata": {
        "id": "UsXSpKLZife2",
        "colab_type": "text"
      },
      "cell_type": "markdown",
      "source": [
        "### re.finditer()"
      ]
    },
    {
      "metadata": {
        "id": "u2bkXXlAdauS",
        "colab_type": "text"
      },
      "cell_type": "markdown",
      "source": [
        "First we are going to search for simple string literal **abc**.\n",
        "\n",
        "We are going to use **finditer**, which returns us an iterator of all the matches."
      ]
    },
    {
      "metadata": {
        "id": "UZNPcj2Jd5xB",
        "colab_type": "text"
      },
      "cell_type": "markdown",
      "source": [
        "re.**finditer**(pattern, string, flags=0)\n",
        "\n",
        "> Return an iterator yielding MatchObject instances over all non-overlapping matches for the RE pattern in string. The string is scanned left-to-right, and matches are returned in the order found. Empty matches are included in the result. See also the note about findall()."
      ]
    },
    {
      "metadata": {
        "id": "ndhyY8s_bPsY",
        "colab_type": "code",
        "colab": {
          "autoexec": {
            "startup": false,
            "wait_interval": 0
          },
          "base_uri": "https://localhost:8080/",
          "height": 34
        },
        "outputId": "962da0f4-53e3-41b2-cd71-a2d568106df0",
        "executionInfo": {
          "status": "ok",
          "timestamp": 1528655078529,
          "user_tz": -330,
          "elapsed": 1395,
          "user": {
            "displayName": "Debakar Roy",
            "photoUrl": "//lh5.googleusercontent.com/-KwEZ1Z4ZXmE/AAAAAAAAAAI/AAAAAAAAQTA/EmWe2YYRCLo/s50-c-k-no/photo.jpg",
            "userId": "103957503016432867835"
          }
        }
      },
      "cell_type": "code",
      "source": [
        "pattern = re.compile(r'abc')\n",
        "\n",
        "matches = pattern.finditer(text_to_search)\n",
        "\n",
        "for match in matches:\n",
        "  print(match)"
      ],
      "execution_count": 5,
      "outputs": [
        {
          "output_type": "stream",
          "text": [
            "<_sre.SRE_Match object; span=(1, 4), match='abc'>\n"
          ],
          "name": "stdout"
        }
      ]
    },
    {
      "metadata": {
        "id": "Ye30tu4_ik7x",
        "colab_type": "text"
      },
      "cell_type": "markdown",
      "source": [
        "### string slicing"
      ]
    },
    {
      "metadata": {
        "id": "D9cLoskxeB4Z",
        "colab_type": "text"
      },
      "cell_type": "markdown",
      "source": [
        "Now, here we see that the substring from index 1 to 4(excluded) contains a match. And there is only one match. We can use **string slicing** to find the match."
      ]
    },
    {
      "metadata": {
        "id": "zzuByCBDeON2",
        "colab_type": "code",
        "colab": {
          "autoexec": {
            "startup": false,
            "wait_interval": 0
          },
          "base_uri": "https://localhost:8080/",
          "height": 34
        },
        "outputId": "2ef4c7a4-019b-4be1-be43-e81b80f58511",
        "executionInfo": {
          "status": "ok",
          "timestamp": 1528655080694,
          "user_tz": -330,
          "elapsed": 1668,
          "user": {
            "displayName": "Debakar Roy",
            "photoUrl": "//lh5.googleusercontent.com/-KwEZ1Z4ZXmE/AAAAAAAAAAI/AAAAAAAAQTA/EmWe2YYRCLo/s50-c-k-no/photo.jpg",
            "userId": "103957503016432867835"
          }
        }
      },
      "cell_type": "code",
      "source": [
        "text_to_search[1:4]"
      ],
      "execution_count": 6,
      "outputs": [
        {
          "output_type": "execute_result",
          "data": {
            "text/plain": [
              "'abc'"
            ]
          },
          "metadata": {
            "tags": []
          },
          "execution_count": 6
        }
      ]
    },
    {
      "metadata": {
        "id": "a_Cn_fk0ellO",
        "colab_type": "text"
      },
      "cell_type": "markdown",
      "source": [
        "Now if we just search for **cba**, then we will not have any match."
      ]
    },
    {
      "metadata": {
        "id": "a5STSxOVeuPW",
        "colab_type": "code",
        "colab": {
          "autoexec": {
            "startup": false,
            "wait_interval": 0
          },
          "base_uri": "https://localhost:8080/",
          "height": 34
        },
        "outputId": "ca35179c-2397-473e-b300-2f2f320a75ef",
        "executionInfo": {
          "status": "ok",
          "timestamp": 1528655083000,
          "user_tz": -330,
          "elapsed": 1412,
          "user": {
            "displayName": "Debakar Roy",
            "photoUrl": "//lh5.googleusercontent.com/-KwEZ1Z4ZXmE/AAAAAAAAAAI/AAAAAAAAQTA/EmWe2YYRCLo/s50-c-k-no/photo.jpg",
            "userId": "103957503016432867835"
          }
        }
      },
      "cell_type": "code",
      "source": [
        "pattern = re.compile(r'cba')\n",
        "\n",
        "matches = pattern.finditer(text_to_search)\n",
        "\n",
        "len(list(matches))"
      ],
      "execution_count": 7,
      "outputs": [
        {
          "output_type": "execute_result",
          "data": {
            "text/plain": [
              "0"
            ]
          },
          "metadata": {
            "tags": []
          },
          "execution_count": 7
        }
      ]
    },
    {
      "metadata": {
        "id": "tpuYjqyafLGL",
        "colab_type": "text"
      },
      "cell_type": "markdown",
      "source": [
        "If we search for **.** we see that it matches almost everything."
      ]
    },
    {
      "metadata": {
        "id": "__hURxpWe0K7",
        "colab_type": "code",
        "colab": {
          "autoexec": {
            "startup": false,
            "wait_interval": 0
          },
          "base_uri": "https://localhost:8080/",
          "height": 4437
        },
        "outputId": "a91065e1-8197-4e1b-b66a-b04d9f3e747d",
        "executionInfo": {
          "status": "ok",
          "timestamp": 1528655084012,
          "user_tz": -330,
          "elapsed": 621,
          "user": {
            "displayName": "Debakar Roy",
            "photoUrl": "//lh5.googleusercontent.com/-KwEZ1Z4ZXmE/AAAAAAAAAAI/AAAAAAAAQTA/EmWe2YYRCLo/s50-c-k-no/photo.jpg",
            "userId": "103957503016432867835"
          }
        }
      },
      "cell_type": "code",
      "source": [
        "pattern = re.compile(r'.')\n",
        "\n",
        "matches = pattern.finditer(text_to_search)\n",
        "\n",
        "for match in matches:\n",
        "  print(match)"
      ],
      "execution_count": 8,
      "outputs": [
        {
          "output_type": "stream",
          "text": [
            "<_sre.SRE_Match object; span=(1, 2), match='a'>\n",
            "<_sre.SRE_Match object; span=(2, 3), match='b'>\n",
            "<_sre.SRE_Match object; span=(3, 4), match='c'>\n",
            "<_sre.SRE_Match object; span=(4, 5), match='d'>\n",
            "<_sre.SRE_Match object; span=(5, 6), match='e'>\n",
            "<_sre.SRE_Match object; span=(6, 7), match='f'>\n",
            "<_sre.SRE_Match object; span=(7, 8), match='g'>\n",
            "<_sre.SRE_Match object; span=(8, 9), match='h'>\n",
            "<_sre.SRE_Match object; span=(9, 10), match='i'>\n",
            "<_sre.SRE_Match object; span=(10, 11), match='j'>\n",
            "<_sre.SRE_Match object; span=(11, 12), match='k'>\n",
            "<_sre.SRE_Match object; span=(12, 13), match='l'>\n",
            "<_sre.SRE_Match object; span=(13, 14), match='m'>\n",
            "<_sre.SRE_Match object; span=(14, 15), match='n'>\n",
            "<_sre.SRE_Match object; span=(15, 16), match='o'>\n",
            "<_sre.SRE_Match object; span=(16, 17), match='p'>\n",
            "<_sre.SRE_Match object; span=(17, 18), match='q'>\n",
            "<_sre.SRE_Match object; span=(18, 19), match='u'>\n",
            "<_sre.SRE_Match object; span=(19, 20), match='r'>\n",
            "<_sre.SRE_Match object; span=(20, 21), match='t'>\n",
            "<_sre.SRE_Match object; span=(21, 22), match='u'>\n",
            "<_sre.SRE_Match object; span=(22, 23), match='v'>\n",
            "<_sre.SRE_Match object; span=(23, 24), match='w'>\n",
            "<_sre.SRE_Match object; span=(24, 25), match='x'>\n",
            "<_sre.SRE_Match object; span=(25, 26), match='y'>\n",
            "<_sre.SRE_Match object; span=(26, 27), match='z'>\n",
            "<_sre.SRE_Match object; span=(28, 29), match='A'>\n",
            "<_sre.SRE_Match object; span=(29, 30), match='B'>\n",
            "<_sre.SRE_Match object; span=(30, 31), match='C'>\n",
            "<_sre.SRE_Match object; span=(31, 32), match='D'>\n",
            "<_sre.SRE_Match object; span=(32, 33), match='E'>\n",
            "<_sre.SRE_Match object; span=(33, 34), match='F'>\n",
            "<_sre.SRE_Match object; span=(34, 35), match='G'>\n",
            "<_sre.SRE_Match object; span=(35, 36), match='H'>\n",
            "<_sre.SRE_Match object; span=(36, 37), match='I'>\n",
            "<_sre.SRE_Match object; span=(37, 38), match='J'>\n",
            "<_sre.SRE_Match object; span=(38, 39), match='K'>\n",
            "<_sre.SRE_Match object; span=(39, 40), match='L'>\n",
            "<_sre.SRE_Match object; span=(40, 41), match='M'>\n",
            "<_sre.SRE_Match object; span=(41, 42), match='N'>\n",
            "<_sre.SRE_Match object; span=(42, 43), match='O'>\n",
            "<_sre.SRE_Match object; span=(43, 44), match='P'>\n",
            "<_sre.SRE_Match object; span=(44, 45), match='Q'>\n",
            "<_sre.SRE_Match object; span=(45, 46), match='R'>\n",
            "<_sre.SRE_Match object; span=(46, 47), match='S'>\n",
            "<_sre.SRE_Match object; span=(47, 48), match='T'>\n",
            "<_sre.SRE_Match object; span=(48, 49), match='U'>\n",
            "<_sre.SRE_Match object; span=(49, 50), match='V'>\n",
            "<_sre.SRE_Match object; span=(50, 51), match='W'>\n",
            "<_sre.SRE_Match object; span=(51, 52), match='X'>\n",
            "<_sre.SRE_Match object; span=(52, 53), match='Y'>\n",
            "<_sre.SRE_Match object; span=(53, 54), match='Z'>\n",
            "<_sre.SRE_Match object; span=(55, 56), match='1'>\n",
            "<_sre.SRE_Match object; span=(56, 57), match='2'>\n",
            "<_sre.SRE_Match object; span=(57, 58), match='3'>\n",
            "<_sre.SRE_Match object; span=(58, 59), match='4'>\n",
            "<_sre.SRE_Match object; span=(59, 60), match='5'>\n",
            "<_sre.SRE_Match object; span=(60, 61), match='6'>\n",
            "<_sre.SRE_Match object; span=(61, 62), match='7'>\n",
            "<_sre.SRE_Match object; span=(62, 63), match='8'>\n",
            "<_sre.SRE_Match object; span=(63, 64), match='9'>\n",
            "<_sre.SRE_Match object; span=(64, 65), match='0'>\n",
            "<_sre.SRE_Match object; span=(67, 68), match='H'>\n",
            "<_sre.SRE_Match object; span=(68, 69), match='a'>\n",
            "<_sre.SRE_Match object; span=(69, 70), match=' '>\n",
            "<_sre.SRE_Match object; span=(70, 71), match='H'>\n",
            "<_sre.SRE_Match object; span=(71, 72), match='a'>\n",
            "<_sre.SRE_Match object; span=(72, 73), match='H'>\n",
            "<_sre.SRE_Match object; span=(73, 74), match='a'>\n",
            "<_sre.SRE_Match object; span=(76, 77), match='M'>\n",
            "<_sre.SRE_Match object; span=(77, 78), match='e'>\n",
            "<_sre.SRE_Match object; span=(78, 79), match='t'>\n",
            "<_sre.SRE_Match object; span=(79, 80), match='a'>\n",
            "<_sre.SRE_Match object; span=(80, 81), match='C'>\n",
            "<_sre.SRE_Match object; span=(81, 82), match='h'>\n",
            "<_sre.SRE_Match object; span=(82, 83), match='a'>\n",
            "<_sre.SRE_Match object; span=(83, 84), match='r'>\n",
            "<_sre.SRE_Match object; span=(84, 85), match='a'>\n",
            "<_sre.SRE_Match object; span=(85, 86), match='c'>\n",
            "<_sre.SRE_Match object; span=(86, 87), match='t'>\n",
            "<_sre.SRE_Match object; span=(87, 88), match='e'>\n",
            "<_sre.SRE_Match object; span=(88, 89), match='r'>\n",
            "<_sre.SRE_Match object; span=(89, 90), match='s'>\n",
            "<_sre.SRE_Match object; span=(90, 91), match=' '>\n",
            "<_sre.SRE_Match object; span=(91, 92), match='('>\n",
            "<_sre.SRE_Match object; span=(92, 93), match='N'>\n",
            "<_sre.SRE_Match object; span=(93, 94), match='e'>\n",
            "<_sre.SRE_Match object; span=(94, 95), match='e'>\n",
            "<_sre.SRE_Match object; span=(95, 96), match='d'>\n",
            "<_sre.SRE_Match object; span=(96, 97), match=' '>\n",
            "<_sre.SRE_Match object; span=(97, 98), match='t'>\n",
            "<_sre.SRE_Match object; span=(98, 99), match='o'>\n",
            "<_sre.SRE_Match object; span=(99, 100), match=' '>\n",
            "<_sre.SRE_Match object; span=(100, 101), match='b'>\n",
            "<_sre.SRE_Match object; span=(101, 102), match='e'>\n",
            "<_sre.SRE_Match object; span=(102, 103), match=' '>\n",
            "<_sre.SRE_Match object; span=(103, 104), match='e'>\n",
            "<_sre.SRE_Match object; span=(104, 105), match='s'>\n",
            "<_sre.SRE_Match object; span=(105, 106), match='c'>\n",
            "<_sre.SRE_Match object; span=(106, 107), match='a'>\n",
            "<_sre.SRE_Match object; span=(107, 108), match='p'>\n",
            "<_sre.SRE_Match object; span=(108, 109), match='e'>\n",
            "<_sre.SRE_Match object; span=(109, 110), match='d'>\n",
            "<_sre.SRE_Match object; span=(110, 111), match=')'>\n",
            "<_sre.SRE_Match object; span=(111, 112), match=':'>\n",
            "<_sre.SRE_Match object; span=(114, 115), match='.'>\n",
            "<_sre.SRE_Match object; span=(115, 116), match=' '>\n",
            "<_sre.SRE_Match object; span=(116, 117), match='^'>\n",
            "<_sre.SRE_Match object; span=(117, 118), match=' '>\n",
            "<_sre.SRE_Match object; span=(118, 119), match='$'>\n",
            "<_sre.SRE_Match object; span=(119, 120), match=' '>\n",
            "<_sre.SRE_Match object; span=(120, 121), match='*'>\n",
            "<_sre.SRE_Match object; span=(121, 122), match=' '>\n",
            "<_sre.SRE_Match object; span=(122, 123), match='+'>\n",
            "<_sre.SRE_Match object; span=(123, 124), match=' '>\n",
            "<_sre.SRE_Match object; span=(124, 125), match='?'>\n",
            "<_sre.SRE_Match object; span=(125, 126), match=' '>\n",
            "<_sre.SRE_Match object; span=(126, 127), match='{'>\n",
            "<_sre.SRE_Match object; span=(127, 128), match=' '>\n",
            "<_sre.SRE_Match object; span=(128, 129), match='}'>\n",
            "<_sre.SRE_Match object; span=(129, 130), match=' '>\n",
            "<_sre.SRE_Match object; span=(130, 131), match='['>\n",
            "<_sre.SRE_Match object; span=(131, 132), match=' '>\n",
            "<_sre.SRE_Match object; span=(132, 133), match=']'>\n",
            "<_sre.SRE_Match object; span=(133, 134), match=' '>\n",
            "<_sre.SRE_Match object; span=(134, 135), match='\\\\'>\n",
            "<_sre.SRE_Match object; span=(135, 136), match=' '>\n",
            "<_sre.SRE_Match object; span=(136, 137), match='|'>\n",
            "<_sre.SRE_Match object; span=(137, 138), match=' '>\n",
            "<_sre.SRE_Match object; span=(138, 139), match='('>\n",
            "<_sre.SRE_Match object; span=(139, 140), match=' '>\n",
            "<_sre.SRE_Match object; span=(140, 141), match=')'>\n",
            "<_sre.SRE_Match object; span=(143, 144), match='e'>\n",
            "<_sre.SRE_Match object; span=(144, 145), match='x'>\n",
            "<_sre.SRE_Match object; span=(145, 146), match='a'>\n",
            "<_sre.SRE_Match object; span=(146, 147), match='m'>\n",
            "<_sre.SRE_Match object; span=(147, 148), match='p'>\n",
            "<_sre.SRE_Match object; span=(148, 149), match='l'>\n",
            "<_sre.SRE_Match object; span=(149, 150), match='e'>\n",
            "<_sre.SRE_Match object; span=(150, 151), match='.'>\n",
            "<_sre.SRE_Match object; span=(151, 152), match='c'>\n",
            "<_sre.SRE_Match object; span=(152, 153), match='o'>\n",
            "<_sre.SRE_Match object; span=(153, 154), match='m'>\n",
            "<_sre.SRE_Match object; span=(156, 157), match='3'>\n",
            "<_sre.SRE_Match object; span=(157, 158), match='2'>\n",
            "<_sre.SRE_Match object; span=(158, 159), match='1'>\n",
            "<_sre.SRE_Match object; span=(159, 160), match='-'>\n",
            "<_sre.SRE_Match object; span=(160, 161), match='5'>\n",
            "<_sre.SRE_Match object; span=(161, 162), match='5'>\n",
            "<_sre.SRE_Match object; span=(162, 163), match='5'>\n",
            "<_sre.SRE_Match object; span=(163, 164), match='-'>\n",
            "<_sre.SRE_Match object; span=(164, 165), match='4'>\n",
            "<_sre.SRE_Match object; span=(165, 166), match='3'>\n",
            "<_sre.SRE_Match object; span=(166, 167), match='2'>\n",
            "<_sre.SRE_Match object; span=(167, 168), match='1'>\n",
            "<_sre.SRE_Match object; span=(169, 170), match='1'>\n",
            "<_sre.SRE_Match object; span=(170, 171), match='2'>\n",
            "<_sre.SRE_Match object; span=(171, 172), match='3'>\n",
            "<_sre.SRE_Match object; span=(172, 173), match='.'>\n",
            "<_sre.SRE_Match object; span=(173, 174), match='5'>\n",
            "<_sre.SRE_Match object; span=(174, 175), match='5'>\n",
            "<_sre.SRE_Match object; span=(175, 176), match='5'>\n",
            "<_sre.SRE_Match object; span=(176, 177), match='.'>\n",
            "<_sre.SRE_Match object; span=(177, 178), match='1'>\n",
            "<_sre.SRE_Match object; span=(178, 179), match='2'>\n",
            "<_sre.SRE_Match object; span=(179, 180), match='3'>\n",
            "<_sre.SRE_Match object; span=(180, 181), match='4'>\n",
            "<_sre.SRE_Match object; span=(182, 183), match='1'>\n",
            "<_sre.SRE_Match object; span=(183, 184), match='2'>\n",
            "<_sre.SRE_Match object; span=(184, 185), match='3'>\n",
            "<_sre.SRE_Match object; span=(185, 186), match='*'>\n",
            "<_sre.SRE_Match object; span=(186, 187), match='5'>\n",
            "<_sre.SRE_Match object; span=(187, 188), match='5'>\n",
            "<_sre.SRE_Match object; span=(188, 189), match='5'>\n",
            "<_sre.SRE_Match object; span=(189, 190), match='*'>\n",
            "<_sre.SRE_Match object; span=(190, 191), match='1'>\n",
            "<_sre.SRE_Match object; span=(191, 192), match='2'>\n",
            "<_sre.SRE_Match object; span=(192, 193), match='3'>\n",
            "<_sre.SRE_Match object; span=(193, 194), match='4'>\n",
            "<_sre.SRE_Match object; span=(195, 196), match='8'>\n",
            "<_sre.SRE_Match object; span=(196, 197), match='0'>\n",
            "<_sre.SRE_Match object; span=(197, 198), match='0'>\n",
            "<_sre.SRE_Match object; span=(198, 199), match='-'>\n",
            "<_sre.SRE_Match object; span=(199, 200), match='5'>\n",
            "<_sre.SRE_Match object; span=(200, 201), match='5'>\n",
            "<_sre.SRE_Match object; span=(201, 202), match='5'>\n",
            "<_sre.SRE_Match object; span=(202, 203), match='-'>\n",
            "<_sre.SRE_Match object; span=(203, 204), match='1'>\n",
            "<_sre.SRE_Match object; span=(204, 205), match='2'>\n",
            "<_sre.SRE_Match object; span=(205, 206), match='3'>\n",
            "<_sre.SRE_Match object; span=(206, 207), match='4'>\n",
            "<_sre.SRE_Match object; span=(208, 209), match='9'>\n",
            "<_sre.SRE_Match object; span=(209, 210), match='0'>\n",
            "<_sre.SRE_Match object; span=(210, 211), match='0'>\n",
            "<_sre.SRE_Match object; span=(211, 212), match='-'>\n",
            "<_sre.SRE_Match object; span=(212, 213), match='5'>\n",
            "<_sre.SRE_Match object; span=(213, 214), match='5'>\n",
            "<_sre.SRE_Match object; span=(214, 215), match='5'>\n",
            "<_sre.SRE_Match object; span=(215, 216), match='-'>\n",
            "<_sre.SRE_Match object; span=(216, 217), match='1'>\n",
            "<_sre.SRE_Match object; span=(217, 218), match='2'>\n",
            "<_sre.SRE_Match object; span=(218, 219), match='3'>\n",
            "<_sre.SRE_Match object; span=(219, 220), match='4'>\n",
            "<_sre.SRE_Match object; span=(222, 223), match='M'>\n",
            "<_sre.SRE_Match object; span=(223, 224), match='r'>\n",
            "<_sre.SRE_Match object; span=(224, 225), match='.'>\n",
            "<_sre.SRE_Match object; span=(225, 226), match=' '>\n",
            "<_sre.SRE_Match object; span=(226, 227), match='S'>\n",
            "<_sre.SRE_Match object; span=(227, 228), match='c'>\n",
            "<_sre.SRE_Match object; span=(228, 229), match='h'>\n",
            "<_sre.SRE_Match object; span=(229, 230), match='a'>\n",
            "<_sre.SRE_Match object; span=(230, 231), match='f'>\n",
            "<_sre.SRE_Match object; span=(231, 232), match='e'>\n",
            "<_sre.SRE_Match object; span=(232, 233), match='r'>\n",
            "<_sre.SRE_Match object; span=(234, 235), match='M'>\n",
            "<_sre.SRE_Match object; span=(235, 236), match='r'>\n",
            "<_sre.SRE_Match object; span=(236, 237), match=' '>\n",
            "<_sre.SRE_Match object; span=(237, 238), match='S'>\n",
            "<_sre.SRE_Match object; span=(238, 239), match='m'>\n",
            "<_sre.SRE_Match object; span=(239, 240), match='i'>\n",
            "<_sre.SRE_Match object; span=(240, 241), match='t'>\n",
            "<_sre.SRE_Match object; span=(241, 242), match='h'>\n",
            "<_sre.SRE_Match object; span=(243, 244), match='M'>\n",
            "<_sre.SRE_Match object; span=(244, 245), match='s'>\n",
            "<_sre.SRE_Match object; span=(245, 246), match=' '>\n",
            "<_sre.SRE_Match object; span=(246, 247), match='D'>\n",
            "<_sre.SRE_Match object; span=(247, 248), match='a'>\n",
            "<_sre.SRE_Match object; span=(248, 249), match='v'>\n",
            "<_sre.SRE_Match object; span=(249, 250), match='i'>\n",
            "<_sre.SRE_Match object; span=(250, 251), match='s'>\n",
            "<_sre.SRE_Match object; span=(252, 253), match='M'>\n",
            "<_sre.SRE_Match object; span=(253, 254), match='r'>\n",
            "<_sre.SRE_Match object; span=(254, 255), match='s'>\n",
            "<_sre.SRE_Match object; span=(255, 256), match='.'>\n",
            "<_sre.SRE_Match object; span=(256, 257), match=' '>\n",
            "<_sre.SRE_Match object; span=(257, 258), match='R'>\n",
            "<_sre.SRE_Match object; span=(258, 259), match='o'>\n",
            "<_sre.SRE_Match object; span=(259, 260), match='b'>\n",
            "<_sre.SRE_Match object; span=(260, 261), match='i'>\n",
            "<_sre.SRE_Match object; span=(261, 262), match='n'>\n",
            "<_sre.SRE_Match object; span=(262, 263), match='s'>\n",
            "<_sre.SRE_Match object; span=(263, 264), match='o'>\n",
            "<_sre.SRE_Match object; span=(264, 265), match='n'>\n",
            "<_sre.SRE_Match object; span=(266, 267), match='M'>\n",
            "<_sre.SRE_Match object; span=(267, 268), match='r'>\n",
            "<_sre.SRE_Match object; span=(268, 269), match='.'>\n",
            "<_sre.SRE_Match object; span=(269, 270), match=' '>\n",
            "<_sre.SRE_Match object; span=(270, 271), match='T'>\n",
            "<_sre.SRE_Match object; span=(273, 274), match='c'>\n",
            "<_sre.SRE_Match object; span=(274, 275), match='a'>\n",
            "<_sre.SRE_Match object; span=(275, 276), match='t'>\n",
            "<_sre.SRE_Match object; span=(277, 278), match='m'>\n",
            "<_sre.SRE_Match object; span=(278, 279), match='a'>\n",
            "<_sre.SRE_Match object; span=(279, 280), match='t'>\n",
            "<_sre.SRE_Match object; span=(281, 282), match='p'>\n",
            "<_sre.SRE_Match object; span=(282, 283), match='a'>\n",
            "<_sre.SRE_Match object; span=(283, 284), match='t'>\n",
            "<_sre.SRE_Match object; span=(285, 286), match='b'>\n",
            "<_sre.SRE_Match object; span=(286, 287), match='a'>\n",
            "<_sre.SRE_Match object; span=(287, 288), match='t'>\n"
          ],
          "name": "stdout"
        }
      ]
    },
    {
      "metadata": {
        "id": "K6SFxOV9fzx4",
        "colab_type": "text"
      },
      "cell_type": "markdown",
      "source": [
        "So instead if we wnat to search for **.** we need to pass **\\\\.**"
      ]
    },
    {
      "metadata": {
        "id": "NLdTWiWOfXj3",
        "colab_type": "code",
        "colab": {
          "autoexec": {
            "startup": false,
            "wait_interval": 0
          },
          "base_uri": "https://localhost:8080/",
          "height": 136
        },
        "outputId": "d3a6f228-6430-4595-a88d-56732e298c39",
        "executionInfo": {
          "status": "ok",
          "timestamp": 1528655085248,
          "user_tz": -330,
          "elapsed": 913,
          "user": {
            "displayName": "Debakar Roy",
            "photoUrl": "//lh5.googleusercontent.com/-KwEZ1Z4ZXmE/AAAAAAAAAAI/AAAAAAAAQTA/EmWe2YYRCLo/s50-c-k-no/photo.jpg",
            "userId": "103957503016432867835"
          }
        }
      },
      "cell_type": "code",
      "source": [
        "pattern = re.compile(r'\\.')\n",
        "\n",
        "matches = pattern.finditer(text_to_search)\n",
        "\n",
        "for match in matches:\n",
        "  print(match)"
      ],
      "execution_count": 9,
      "outputs": [
        {
          "output_type": "stream",
          "text": [
            "<_sre.SRE_Match object; span=(114, 115), match='.'>\n",
            "<_sre.SRE_Match object; span=(150, 151), match='.'>\n",
            "<_sre.SRE_Match object; span=(172, 173), match='.'>\n",
            "<_sre.SRE_Match object; span=(176, 177), match='.'>\n",
            "<_sre.SRE_Match object; span=(224, 225), match='.'>\n",
            "<_sre.SRE_Match object; span=(255, 256), match='.'>\n",
            "<_sre.SRE_Match object; span=(268, 269), match='.'>\n"
          ],
          "name": "stdout"
        }
      ]
    },
    {
      "metadata": {
        "id": "b7oy-BtIgI1U",
        "colab_type": "text"
      },
      "cell_type": "markdown",
      "source": [
        "One practical example would be a url"
      ]
    },
    {
      "metadata": {
        "id": "y-V64zsjf-_p",
        "colab_type": "code",
        "colab": {
          "autoexec": {
            "startup": false,
            "wait_interval": 0
          },
          "base_uri": "https://localhost:8080/",
          "height": 34
        },
        "outputId": "0bbb95a6-1d4f-45d0-86ea-6be1782334a9",
        "executionInfo": {
          "status": "ok",
          "timestamp": 1528655086450,
          "user_tz": -330,
          "elapsed": 788,
          "user": {
            "displayName": "Debakar Roy",
            "photoUrl": "//lh5.googleusercontent.com/-KwEZ1Z4ZXmE/AAAAAAAAAAI/AAAAAAAAQTA/EmWe2YYRCLo/s50-c-k-no/photo.jpg",
            "userId": "103957503016432867835"
          }
        }
      },
      "cell_type": "code",
      "source": [
        "pattern = re.compile(r'example\\.com')\n",
        "\n",
        "matches = pattern.finditer(text_to_search)\n",
        "\n",
        "for match in matches:\n",
        "  print(match)"
      ],
      "execution_count": 10,
      "outputs": [
        {
          "output_type": "stream",
          "text": [
            "<_sre.SRE_Match object; span=(143, 154), match='example.com'>\n"
          ],
          "name": "stdout"
        }
      ]
    },
    {
      "metadata": {
        "id": "8_NhdAKlirJi",
        "colab_type": "text"
      },
      "cell_type": "markdown",
      "source": [
        "### MetaCharacters"
      ]
    },
    {
      "metadata": {
        "id": "TS2f3RRcglv_",
        "colab_type": "text"
      },
      "cell_type": "markdown",
      "source": [
        "So few regular expression **MetaCharacters**:\n",
        "\n",
        "\n",
        "```\n",
        ".       - Any Character Except New Line\n",
        "\\d      - Digit (0-9)\n",
        "\\D      - Not a Digit (0-9)\n",
        "\\w      - Word Character (a-z, A-Z, 0-9, _)\n",
        "\\W      - Not a Word Character\n",
        "\\s      - Whitespace (space, tab, newline)\n",
        "\\S      - Not Whitespace (space, tab, newline)\n",
        "\n",
        "\\b      - Word Boundary\n",
        "\\B      - Not a Word Boundary\n",
        "^       - Beginning of a String\n",
        "$       - End of a String\n",
        "\n",
        "[]      - Matches Characters in brackets\n",
        "[^ ]    - Matches Characters NOT in brackets\n",
        "|       - Either Or\n",
        "( )     - Group\n",
        "```\n",
        "\n"
      ]
    },
    {
      "metadata": {
        "id": "40XOVJp89O_T",
        "colab_type": "text"
      },
      "cell_type": "markdown",
      "source": [
        "#### \\d"
      ]
    },
    {
      "metadata": {
        "id": "81uK0il9jflX",
        "colab_type": "text"
      },
      "cell_type": "markdown",
      "source": [
        "**\\d** give us all the matches which are digit."
      ]
    },
    {
      "metadata": {
        "id": "U9Tu074SgVdl",
        "colab_type": "code",
        "colab": {
          "autoexec": {
            "startup": false,
            "wait_interval": 0
          },
          "base_uri": "https://localhost:8080/",
          "height": 1037
        },
        "outputId": "c74a6dad-b234-493f-c06c-861be27a8e02",
        "executionInfo": {
          "status": "ok",
          "timestamp": 1528655088165,
          "user_tz": -330,
          "elapsed": 1023,
          "user": {
            "displayName": "Debakar Roy",
            "photoUrl": "//lh5.googleusercontent.com/-KwEZ1Z4ZXmE/AAAAAAAAAAI/AAAAAAAAQTA/EmWe2YYRCLo/s50-c-k-no/photo.jpg",
            "userId": "103957503016432867835"
          }
        }
      },
      "cell_type": "code",
      "source": [
        "pattern = re.compile(r'\\d')\n",
        "\n",
        "matches = pattern.finditer(text_to_search)\n",
        "\n",
        "for match in matches:\n",
        "  print(match)"
      ],
      "execution_count": 11,
      "outputs": [
        {
          "output_type": "stream",
          "text": [
            "<_sre.SRE_Match object; span=(55, 56), match='1'>\n",
            "<_sre.SRE_Match object; span=(56, 57), match='2'>\n",
            "<_sre.SRE_Match object; span=(57, 58), match='3'>\n",
            "<_sre.SRE_Match object; span=(58, 59), match='4'>\n",
            "<_sre.SRE_Match object; span=(59, 60), match='5'>\n",
            "<_sre.SRE_Match object; span=(60, 61), match='6'>\n",
            "<_sre.SRE_Match object; span=(61, 62), match='7'>\n",
            "<_sre.SRE_Match object; span=(62, 63), match='8'>\n",
            "<_sre.SRE_Match object; span=(63, 64), match='9'>\n",
            "<_sre.SRE_Match object; span=(64, 65), match='0'>\n",
            "<_sre.SRE_Match object; span=(156, 157), match='3'>\n",
            "<_sre.SRE_Match object; span=(157, 158), match='2'>\n",
            "<_sre.SRE_Match object; span=(158, 159), match='1'>\n",
            "<_sre.SRE_Match object; span=(160, 161), match='5'>\n",
            "<_sre.SRE_Match object; span=(161, 162), match='5'>\n",
            "<_sre.SRE_Match object; span=(162, 163), match='5'>\n",
            "<_sre.SRE_Match object; span=(164, 165), match='4'>\n",
            "<_sre.SRE_Match object; span=(165, 166), match='3'>\n",
            "<_sre.SRE_Match object; span=(166, 167), match='2'>\n",
            "<_sre.SRE_Match object; span=(167, 168), match='1'>\n",
            "<_sre.SRE_Match object; span=(169, 170), match='1'>\n",
            "<_sre.SRE_Match object; span=(170, 171), match='2'>\n",
            "<_sre.SRE_Match object; span=(171, 172), match='3'>\n",
            "<_sre.SRE_Match object; span=(173, 174), match='5'>\n",
            "<_sre.SRE_Match object; span=(174, 175), match='5'>\n",
            "<_sre.SRE_Match object; span=(175, 176), match='5'>\n",
            "<_sre.SRE_Match object; span=(177, 178), match='1'>\n",
            "<_sre.SRE_Match object; span=(178, 179), match='2'>\n",
            "<_sre.SRE_Match object; span=(179, 180), match='3'>\n",
            "<_sre.SRE_Match object; span=(180, 181), match='4'>\n",
            "<_sre.SRE_Match object; span=(182, 183), match='1'>\n",
            "<_sre.SRE_Match object; span=(183, 184), match='2'>\n",
            "<_sre.SRE_Match object; span=(184, 185), match='3'>\n",
            "<_sre.SRE_Match object; span=(186, 187), match='5'>\n",
            "<_sre.SRE_Match object; span=(187, 188), match='5'>\n",
            "<_sre.SRE_Match object; span=(188, 189), match='5'>\n",
            "<_sre.SRE_Match object; span=(190, 191), match='1'>\n",
            "<_sre.SRE_Match object; span=(191, 192), match='2'>\n",
            "<_sre.SRE_Match object; span=(192, 193), match='3'>\n",
            "<_sre.SRE_Match object; span=(193, 194), match='4'>\n",
            "<_sre.SRE_Match object; span=(195, 196), match='8'>\n",
            "<_sre.SRE_Match object; span=(196, 197), match='0'>\n",
            "<_sre.SRE_Match object; span=(197, 198), match='0'>\n",
            "<_sre.SRE_Match object; span=(199, 200), match='5'>\n",
            "<_sre.SRE_Match object; span=(200, 201), match='5'>\n",
            "<_sre.SRE_Match object; span=(201, 202), match='5'>\n",
            "<_sre.SRE_Match object; span=(203, 204), match='1'>\n",
            "<_sre.SRE_Match object; span=(204, 205), match='2'>\n",
            "<_sre.SRE_Match object; span=(205, 206), match='3'>\n",
            "<_sre.SRE_Match object; span=(206, 207), match='4'>\n",
            "<_sre.SRE_Match object; span=(208, 209), match='9'>\n",
            "<_sre.SRE_Match object; span=(209, 210), match='0'>\n",
            "<_sre.SRE_Match object; span=(210, 211), match='0'>\n",
            "<_sre.SRE_Match object; span=(212, 213), match='5'>\n",
            "<_sre.SRE_Match object; span=(213, 214), match='5'>\n",
            "<_sre.SRE_Match object; span=(214, 215), match='5'>\n",
            "<_sre.SRE_Match object; span=(216, 217), match='1'>\n",
            "<_sre.SRE_Match object; span=(217, 218), match='2'>\n",
            "<_sre.SRE_Match object; span=(218, 219), match='3'>\n",
            "<_sre.SRE_Match object; span=(219, 220), match='4'>\n"
          ],
          "name": "stdout"
        }
      ]
    },
    {
      "metadata": {
        "id": "cyjZBjpL9T5i",
        "colab_type": "text"
      },
      "cell_type": "markdown",
      "source": [
        "#### \\D"
      ]
    },
    {
      "metadata": {
        "id": "0cVwuVTIj8iL",
        "colab_type": "text"
      },
      "cell_type": "markdown",
      "source": [
        "**\\D** give us all the matches which are not digit."
      ]
    },
    {
      "metadata": {
        "id": "3b5Bo37njtm8",
        "colab_type": "code",
        "colab": {
          "autoexec": {
            "startup": false,
            "wait_interval": 0
          },
          "base_uri": "https://localhost:8080/",
          "height": 1037
        },
        "outputId": "2cb8df4d-6757-4158-d965-a821bee562b3",
        "executionInfo": {
          "status": "ok",
          "timestamp": 1528655092395,
          "user_tz": -330,
          "elapsed": 3807,
          "user": {
            "displayName": "Debakar Roy",
            "photoUrl": "//lh5.googleusercontent.com/-KwEZ1Z4ZXmE/AAAAAAAAAAI/AAAAAAAAQTA/EmWe2YYRCLo/s50-c-k-no/photo.jpg",
            "userId": "103957503016432867835"
          }
        }
      },
      "cell_type": "code",
      "source": [
        "pattern = re.compile(r'\\d')\n",
        "\n",
        "matches = pattern.finditer(text_to_search)\n",
        "\n",
        "for match in matches:\n",
        "  print(match)"
      ],
      "execution_count": 12,
      "outputs": [
        {
          "output_type": "stream",
          "text": [
            "<_sre.SRE_Match object; span=(55, 56), match='1'>\n",
            "<_sre.SRE_Match object; span=(56, 57), match='2'>\n",
            "<_sre.SRE_Match object; span=(57, 58), match='3'>\n",
            "<_sre.SRE_Match object; span=(58, 59), match='4'>\n",
            "<_sre.SRE_Match object; span=(59, 60), match='5'>\n",
            "<_sre.SRE_Match object; span=(60, 61), match='6'>\n",
            "<_sre.SRE_Match object; span=(61, 62), match='7'>\n",
            "<_sre.SRE_Match object; span=(62, 63), match='8'>\n",
            "<_sre.SRE_Match object; span=(63, 64), match='9'>\n",
            "<_sre.SRE_Match object; span=(64, 65), match='0'>\n",
            "<_sre.SRE_Match object; span=(156, 157), match='3'>\n",
            "<_sre.SRE_Match object; span=(157, 158), match='2'>\n",
            "<_sre.SRE_Match object; span=(158, 159), match='1'>\n",
            "<_sre.SRE_Match object; span=(160, 161), match='5'>\n",
            "<_sre.SRE_Match object; span=(161, 162), match='5'>\n",
            "<_sre.SRE_Match object; span=(162, 163), match='5'>\n",
            "<_sre.SRE_Match object; span=(164, 165), match='4'>\n",
            "<_sre.SRE_Match object; span=(165, 166), match='3'>\n",
            "<_sre.SRE_Match object; span=(166, 167), match='2'>\n",
            "<_sre.SRE_Match object; span=(167, 168), match='1'>\n",
            "<_sre.SRE_Match object; span=(169, 170), match='1'>\n",
            "<_sre.SRE_Match object; span=(170, 171), match='2'>\n",
            "<_sre.SRE_Match object; span=(171, 172), match='3'>\n",
            "<_sre.SRE_Match object; span=(173, 174), match='5'>\n",
            "<_sre.SRE_Match object; span=(174, 175), match='5'>\n",
            "<_sre.SRE_Match object; span=(175, 176), match='5'>\n",
            "<_sre.SRE_Match object; span=(177, 178), match='1'>\n",
            "<_sre.SRE_Match object; span=(178, 179), match='2'>\n",
            "<_sre.SRE_Match object; span=(179, 180), match='3'>\n",
            "<_sre.SRE_Match object; span=(180, 181), match='4'>\n",
            "<_sre.SRE_Match object; span=(182, 183), match='1'>\n",
            "<_sre.SRE_Match object; span=(183, 184), match='2'>\n",
            "<_sre.SRE_Match object; span=(184, 185), match='3'>\n",
            "<_sre.SRE_Match object; span=(186, 187), match='5'>\n",
            "<_sre.SRE_Match object; span=(187, 188), match='5'>\n",
            "<_sre.SRE_Match object; span=(188, 189), match='5'>\n",
            "<_sre.SRE_Match object; span=(190, 191), match='1'>\n",
            "<_sre.SRE_Match object; span=(191, 192), match='2'>\n",
            "<_sre.SRE_Match object; span=(192, 193), match='3'>\n",
            "<_sre.SRE_Match object; span=(193, 194), match='4'>\n",
            "<_sre.SRE_Match object; span=(195, 196), match='8'>\n",
            "<_sre.SRE_Match object; span=(196, 197), match='0'>\n",
            "<_sre.SRE_Match object; span=(197, 198), match='0'>\n",
            "<_sre.SRE_Match object; span=(199, 200), match='5'>\n",
            "<_sre.SRE_Match object; span=(200, 201), match='5'>\n",
            "<_sre.SRE_Match object; span=(201, 202), match='5'>\n",
            "<_sre.SRE_Match object; span=(203, 204), match='1'>\n",
            "<_sre.SRE_Match object; span=(204, 205), match='2'>\n",
            "<_sre.SRE_Match object; span=(205, 206), match='3'>\n",
            "<_sre.SRE_Match object; span=(206, 207), match='4'>\n",
            "<_sre.SRE_Match object; span=(208, 209), match='9'>\n",
            "<_sre.SRE_Match object; span=(209, 210), match='0'>\n",
            "<_sre.SRE_Match object; span=(210, 211), match='0'>\n",
            "<_sre.SRE_Match object; span=(212, 213), match='5'>\n",
            "<_sre.SRE_Match object; span=(213, 214), match='5'>\n",
            "<_sre.SRE_Match object; span=(214, 215), match='5'>\n",
            "<_sre.SRE_Match object; span=(216, 217), match='1'>\n",
            "<_sre.SRE_Match object; span=(217, 218), match='2'>\n",
            "<_sre.SRE_Match object; span=(218, 219), match='3'>\n",
            "<_sre.SRE_Match object; span=(219, 220), match='4'>\n"
          ],
          "name": "stdout"
        }
      ]
    },
    {
      "metadata": {
        "id": "sRj8grp69XqY",
        "colab_type": "text"
      },
      "cell_type": "markdown",
      "source": [
        "#### \\w"
      ]
    },
    {
      "metadata": {
        "id": "4eFFyeECkwnr",
        "colab_type": "text"
      },
      "cell_type": "markdown",
      "source": [
        "**\\w** give us all the matches which are Word Character (a-z, A-Z, 0-9, _)."
      ]
    },
    {
      "metadata": {
        "id": "TB67Wd5ykSBJ",
        "colab_type": "code",
        "colab": {
          "autoexec": {
            "startup": false,
            "wait_interval": 0
          },
          "base_uri": "https://localhost:8080/",
          "height": 3519
        },
        "outputId": "36c67a25-04fa-44ff-e404-25fa18baafec",
        "executionInfo": {
          "status": "ok",
          "timestamp": 1528655094163,
          "user_tz": -330,
          "elapsed": 1274,
          "user": {
            "displayName": "Debakar Roy",
            "photoUrl": "//lh5.googleusercontent.com/-KwEZ1Z4ZXmE/AAAAAAAAAAI/AAAAAAAAQTA/EmWe2YYRCLo/s50-c-k-no/photo.jpg",
            "userId": "103957503016432867835"
          }
        }
      },
      "cell_type": "code",
      "source": [
        "pattern = re.compile(r'\\w')\n",
        "\n",
        "matches = pattern.finditer(text_to_search)\n",
        "\n",
        "for match in matches:\n",
        "  print(match)"
      ],
      "execution_count": 13,
      "outputs": [
        {
          "output_type": "stream",
          "text": [
            "<_sre.SRE_Match object; span=(1, 2), match='a'>\n",
            "<_sre.SRE_Match object; span=(2, 3), match='b'>\n",
            "<_sre.SRE_Match object; span=(3, 4), match='c'>\n",
            "<_sre.SRE_Match object; span=(4, 5), match='d'>\n",
            "<_sre.SRE_Match object; span=(5, 6), match='e'>\n",
            "<_sre.SRE_Match object; span=(6, 7), match='f'>\n",
            "<_sre.SRE_Match object; span=(7, 8), match='g'>\n",
            "<_sre.SRE_Match object; span=(8, 9), match='h'>\n",
            "<_sre.SRE_Match object; span=(9, 10), match='i'>\n",
            "<_sre.SRE_Match object; span=(10, 11), match='j'>\n",
            "<_sre.SRE_Match object; span=(11, 12), match='k'>\n",
            "<_sre.SRE_Match object; span=(12, 13), match='l'>\n",
            "<_sre.SRE_Match object; span=(13, 14), match='m'>\n",
            "<_sre.SRE_Match object; span=(14, 15), match='n'>\n",
            "<_sre.SRE_Match object; span=(15, 16), match='o'>\n",
            "<_sre.SRE_Match object; span=(16, 17), match='p'>\n",
            "<_sre.SRE_Match object; span=(17, 18), match='q'>\n",
            "<_sre.SRE_Match object; span=(18, 19), match='u'>\n",
            "<_sre.SRE_Match object; span=(19, 20), match='r'>\n",
            "<_sre.SRE_Match object; span=(20, 21), match='t'>\n",
            "<_sre.SRE_Match object; span=(21, 22), match='u'>\n",
            "<_sre.SRE_Match object; span=(22, 23), match='v'>\n",
            "<_sre.SRE_Match object; span=(23, 24), match='w'>\n",
            "<_sre.SRE_Match object; span=(24, 25), match='x'>\n",
            "<_sre.SRE_Match object; span=(25, 26), match='y'>\n",
            "<_sre.SRE_Match object; span=(26, 27), match='z'>\n",
            "<_sre.SRE_Match object; span=(28, 29), match='A'>\n",
            "<_sre.SRE_Match object; span=(29, 30), match='B'>\n",
            "<_sre.SRE_Match object; span=(30, 31), match='C'>\n",
            "<_sre.SRE_Match object; span=(31, 32), match='D'>\n",
            "<_sre.SRE_Match object; span=(32, 33), match='E'>\n",
            "<_sre.SRE_Match object; span=(33, 34), match='F'>\n",
            "<_sre.SRE_Match object; span=(34, 35), match='G'>\n",
            "<_sre.SRE_Match object; span=(35, 36), match='H'>\n",
            "<_sre.SRE_Match object; span=(36, 37), match='I'>\n",
            "<_sre.SRE_Match object; span=(37, 38), match='J'>\n",
            "<_sre.SRE_Match object; span=(38, 39), match='K'>\n",
            "<_sre.SRE_Match object; span=(39, 40), match='L'>\n",
            "<_sre.SRE_Match object; span=(40, 41), match='M'>\n",
            "<_sre.SRE_Match object; span=(41, 42), match='N'>\n",
            "<_sre.SRE_Match object; span=(42, 43), match='O'>\n",
            "<_sre.SRE_Match object; span=(43, 44), match='P'>\n",
            "<_sre.SRE_Match object; span=(44, 45), match='Q'>\n",
            "<_sre.SRE_Match object; span=(45, 46), match='R'>\n",
            "<_sre.SRE_Match object; span=(46, 47), match='S'>\n",
            "<_sre.SRE_Match object; span=(47, 48), match='T'>\n",
            "<_sre.SRE_Match object; span=(48, 49), match='U'>\n",
            "<_sre.SRE_Match object; span=(49, 50), match='V'>\n",
            "<_sre.SRE_Match object; span=(50, 51), match='W'>\n",
            "<_sre.SRE_Match object; span=(51, 52), match='X'>\n",
            "<_sre.SRE_Match object; span=(52, 53), match='Y'>\n",
            "<_sre.SRE_Match object; span=(53, 54), match='Z'>\n",
            "<_sre.SRE_Match object; span=(55, 56), match='1'>\n",
            "<_sre.SRE_Match object; span=(56, 57), match='2'>\n",
            "<_sre.SRE_Match object; span=(57, 58), match='3'>\n",
            "<_sre.SRE_Match object; span=(58, 59), match='4'>\n",
            "<_sre.SRE_Match object; span=(59, 60), match='5'>\n",
            "<_sre.SRE_Match object; span=(60, 61), match='6'>\n",
            "<_sre.SRE_Match object; span=(61, 62), match='7'>\n",
            "<_sre.SRE_Match object; span=(62, 63), match='8'>\n",
            "<_sre.SRE_Match object; span=(63, 64), match='9'>\n",
            "<_sre.SRE_Match object; span=(64, 65), match='0'>\n",
            "<_sre.SRE_Match object; span=(67, 68), match='H'>\n",
            "<_sre.SRE_Match object; span=(68, 69), match='a'>\n",
            "<_sre.SRE_Match object; span=(70, 71), match='H'>\n",
            "<_sre.SRE_Match object; span=(71, 72), match='a'>\n",
            "<_sre.SRE_Match object; span=(72, 73), match='H'>\n",
            "<_sre.SRE_Match object; span=(73, 74), match='a'>\n",
            "<_sre.SRE_Match object; span=(76, 77), match='M'>\n",
            "<_sre.SRE_Match object; span=(77, 78), match='e'>\n",
            "<_sre.SRE_Match object; span=(78, 79), match='t'>\n",
            "<_sre.SRE_Match object; span=(79, 80), match='a'>\n",
            "<_sre.SRE_Match object; span=(80, 81), match='C'>\n",
            "<_sre.SRE_Match object; span=(81, 82), match='h'>\n",
            "<_sre.SRE_Match object; span=(82, 83), match='a'>\n",
            "<_sre.SRE_Match object; span=(83, 84), match='r'>\n",
            "<_sre.SRE_Match object; span=(84, 85), match='a'>\n",
            "<_sre.SRE_Match object; span=(85, 86), match='c'>\n",
            "<_sre.SRE_Match object; span=(86, 87), match='t'>\n",
            "<_sre.SRE_Match object; span=(87, 88), match='e'>\n",
            "<_sre.SRE_Match object; span=(88, 89), match='r'>\n",
            "<_sre.SRE_Match object; span=(89, 90), match='s'>\n",
            "<_sre.SRE_Match object; span=(92, 93), match='N'>\n",
            "<_sre.SRE_Match object; span=(93, 94), match='e'>\n",
            "<_sre.SRE_Match object; span=(94, 95), match='e'>\n",
            "<_sre.SRE_Match object; span=(95, 96), match='d'>\n",
            "<_sre.SRE_Match object; span=(97, 98), match='t'>\n",
            "<_sre.SRE_Match object; span=(98, 99), match='o'>\n",
            "<_sre.SRE_Match object; span=(100, 101), match='b'>\n",
            "<_sre.SRE_Match object; span=(101, 102), match='e'>\n",
            "<_sre.SRE_Match object; span=(103, 104), match='e'>\n",
            "<_sre.SRE_Match object; span=(104, 105), match='s'>\n",
            "<_sre.SRE_Match object; span=(105, 106), match='c'>\n",
            "<_sre.SRE_Match object; span=(106, 107), match='a'>\n",
            "<_sre.SRE_Match object; span=(107, 108), match='p'>\n",
            "<_sre.SRE_Match object; span=(108, 109), match='e'>\n",
            "<_sre.SRE_Match object; span=(109, 110), match='d'>\n",
            "<_sre.SRE_Match object; span=(143, 144), match='e'>\n",
            "<_sre.SRE_Match object; span=(144, 145), match='x'>\n",
            "<_sre.SRE_Match object; span=(145, 146), match='a'>\n",
            "<_sre.SRE_Match object; span=(146, 147), match='m'>\n",
            "<_sre.SRE_Match object; span=(147, 148), match='p'>\n",
            "<_sre.SRE_Match object; span=(148, 149), match='l'>\n",
            "<_sre.SRE_Match object; span=(149, 150), match='e'>\n",
            "<_sre.SRE_Match object; span=(151, 152), match='c'>\n",
            "<_sre.SRE_Match object; span=(152, 153), match='o'>\n",
            "<_sre.SRE_Match object; span=(153, 154), match='m'>\n",
            "<_sre.SRE_Match object; span=(156, 157), match='3'>\n",
            "<_sre.SRE_Match object; span=(157, 158), match='2'>\n",
            "<_sre.SRE_Match object; span=(158, 159), match='1'>\n",
            "<_sre.SRE_Match object; span=(160, 161), match='5'>\n",
            "<_sre.SRE_Match object; span=(161, 162), match='5'>\n",
            "<_sre.SRE_Match object; span=(162, 163), match='5'>\n",
            "<_sre.SRE_Match object; span=(164, 165), match='4'>\n",
            "<_sre.SRE_Match object; span=(165, 166), match='3'>\n",
            "<_sre.SRE_Match object; span=(166, 167), match='2'>\n",
            "<_sre.SRE_Match object; span=(167, 168), match='1'>\n",
            "<_sre.SRE_Match object; span=(169, 170), match='1'>\n",
            "<_sre.SRE_Match object; span=(170, 171), match='2'>\n",
            "<_sre.SRE_Match object; span=(171, 172), match='3'>\n",
            "<_sre.SRE_Match object; span=(173, 174), match='5'>\n",
            "<_sre.SRE_Match object; span=(174, 175), match='5'>\n",
            "<_sre.SRE_Match object; span=(175, 176), match='5'>\n",
            "<_sre.SRE_Match object; span=(177, 178), match='1'>\n",
            "<_sre.SRE_Match object; span=(178, 179), match='2'>\n",
            "<_sre.SRE_Match object; span=(179, 180), match='3'>\n",
            "<_sre.SRE_Match object; span=(180, 181), match='4'>\n",
            "<_sre.SRE_Match object; span=(182, 183), match='1'>\n",
            "<_sre.SRE_Match object; span=(183, 184), match='2'>\n",
            "<_sre.SRE_Match object; span=(184, 185), match='3'>\n",
            "<_sre.SRE_Match object; span=(186, 187), match='5'>\n",
            "<_sre.SRE_Match object; span=(187, 188), match='5'>\n",
            "<_sre.SRE_Match object; span=(188, 189), match='5'>\n",
            "<_sre.SRE_Match object; span=(190, 191), match='1'>\n",
            "<_sre.SRE_Match object; span=(191, 192), match='2'>\n",
            "<_sre.SRE_Match object; span=(192, 193), match='3'>\n",
            "<_sre.SRE_Match object; span=(193, 194), match='4'>\n",
            "<_sre.SRE_Match object; span=(195, 196), match='8'>\n",
            "<_sre.SRE_Match object; span=(196, 197), match='0'>\n",
            "<_sre.SRE_Match object; span=(197, 198), match='0'>\n",
            "<_sre.SRE_Match object; span=(199, 200), match='5'>\n",
            "<_sre.SRE_Match object; span=(200, 201), match='5'>\n",
            "<_sre.SRE_Match object; span=(201, 202), match='5'>\n",
            "<_sre.SRE_Match object; span=(203, 204), match='1'>\n",
            "<_sre.SRE_Match object; span=(204, 205), match='2'>\n",
            "<_sre.SRE_Match object; span=(205, 206), match='3'>\n",
            "<_sre.SRE_Match object; span=(206, 207), match='4'>\n",
            "<_sre.SRE_Match object; span=(208, 209), match='9'>\n",
            "<_sre.SRE_Match object; span=(209, 210), match='0'>\n",
            "<_sre.SRE_Match object; span=(210, 211), match='0'>\n",
            "<_sre.SRE_Match object; span=(212, 213), match='5'>\n",
            "<_sre.SRE_Match object; span=(213, 214), match='5'>\n",
            "<_sre.SRE_Match object; span=(214, 215), match='5'>\n",
            "<_sre.SRE_Match object; span=(216, 217), match='1'>\n",
            "<_sre.SRE_Match object; span=(217, 218), match='2'>\n",
            "<_sre.SRE_Match object; span=(218, 219), match='3'>\n",
            "<_sre.SRE_Match object; span=(219, 220), match='4'>\n",
            "<_sre.SRE_Match object; span=(222, 223), match='M'>\n",
            "<_sre.SRE_Match object; span=(223, 224), match='r'>\n",
            "<_sre.SRE_Match object; span=(226, 227), match='S'>\n",
            "<_sre.SRE_Match object; span=(227, 228), match='c'>\n",
            "<_sre.SRE_Match object; span=(228, 229), match='h'>\n",
            "<_sre.SRE_Match object; span=(229, 230), match='a'>\n",
            "<_sre.SRE_Match object; span=(230, 231), match='f'>\n",
            "<_sre.SRE_Match object; span=(231, 232), match='e'>\n",
            "<_sre.SRE_Match object; span=(232, 233), match='r'>\n",
            "<_sre.SRE_Match object; span=(234, 235), match='M'>\n",
            "<_sre.SRE_Match object; span=(235, 236), match='r'>\n",
            "<_sre.SRE_Match object; span=(237, 238), match='S'>\n",
            "<_sre.SRE_Match object; span=(238, 239), match='m'>\n",
            "<_sre.SRE_Match object; span=(239, 240), match='i'>\n",
            "<_sre.SRE_Match object; span=(240, 241), match='t'>\n",
            "<_sre.SRE_Match object; span=(241, 242), match='h'>\n",
            "<_sre.SRE_Match object; span=(243, 244), match='M'>\n",
            "<_sre.SRE_Match object; span=(244, 245), match='s'>\n",
            "<_sre.SRE_Match object; span=(246, 247), match='D'>\n",
            "<_sre.SRE_Match object; span=(247, 248), match='a'>\n",
            "<_sre.SRE_Match object; span=(248, 249), match='v'>\n",
            "<_sre.SRE_Match object; span=(249, 250), match='i'>\n",
            "<_sre.SRE_Match object; span=(250, 251), match='s'>\n",
            "<_sre.SRE_Match object; span=(252, 253), match='M'>\n",
            "<_sre.SRE_Match object; span=(253, 254), match='r'>\n",
            "<_sre.SRE_Match object; span=(254, 255), match='s'>\n",
            "<_sre.SRE_Match object; span=(257, 258), match='R'>\n",
            "<_sre.SRE_Match object; span=(258, 259), match='o'>\n",
            "<_sre.SRE_Match object; span=(259, 260), match='b'>\n",
            "<_sre.SRE_Match object; span=(260, 261), match='i'>\n",
            "<_sre.SRE_Match object; span=(261, 262), match='n'>\n",
            "<_sre.SRE_Match object; span=(262, 263), match='s'>\n",
            "<_sre.SRE_Match object; span=(263, 264), match='o'>\n",
            "<_sre.SRE_Match object; span=(264, 265), match='n'>\n",
            "<_sre.SRE_Match object; span=(266, 267), match='M'>\n",
            "<_sre.SRE_Match object; span=(267, 268), match='r'>\n",
            "<_sre.SRE_Match object; span=(270, 271), match='T'>\n",
            "<_sre.SRE_Match object; span=(273, 274), match='c'>\n",
            "<_sre.SRE_Match object; span=(274, 275), match='a'>\n",
            "<_sre.SRE_Match object; span=(275, 276), match='t'>\n",
            "<_sre.SRE_Match object; span=(277, 278), match='m'>\n",
            "<_sre.SRE_Match object; span=(278, 279), match='a'>\n",
            "<_sre.SRE_Match object; span=(279, 280), match='t'>\n",
            "<_sre.SRE_Match object; span=(281, 282), match='p'>\n",
            "<_sre.SRE_Match object; span=(282, 283), match='a'>\n",
            "<_sre.SRE_Match object; span=(283, 284), match='t'>\n",
            "<_sre.SRE_Match object; span=(285, 286), match='b'>\n",
            "<_sre.SRE_Match object; span=(286, 287), match='a'>\n",
            "<_sre.SRE_Match object; span=(287, 288), match='t'>\n"
          ],
          "name": "stdout"
        }
      ]
    },
    {
      "metadata": {
        "id": "BtHjCt149aYE",
        "colab_type": "text"
      },
      "cell_type": "markdown",
      "source": [
        "#### \\W"
      ]
    },
    {
      "metadata": {
        "id": "BSuULaf3lAK0",
        "colab_type": "text"
      },
      "cell_type": "markdown",
      "source": [
        "**\\W** give us all the matches which are not Word Character."
      ]
    },
    {
      "metadata": {
        "id": "2PwPNx4QkdcK",
        "colab_type": "code",
        "colab": {
          "autoexec": {
            "startup": false,
            "wait_interval": 0
          },
          "base_uri": "https://localhost:8080/",
          "height": 1428
        },
        "outputId": "87a89890-6994-4d63-90e8-6677893afe42",
        "executionInfo": {
          "status": "ok",
          "timestamp": 1528655095584,
          "user_tz": -330,
          "elapsed": 1149,
          "user": {
            "displayName": "Debakar Roy",
            "photoUrl": "//lh5.googleusercontent.com/-KwEZ1Z4ZXmE/AAAAAAAAAAI/AAAAAAAAQTA/EmWe2YYRCLo/s50-c-k-no/photo.jpg",
            "userId": "103957503016432867835"
          }
        }
      },
      "cell_type": "code",
      "source": [
        "pattern = re.compile(r'\\W')\n",
        "\n",
        "matches = pattern.finditer(text_to_search)\n",
        "\n",
        "for match in matches:\n",
        "  print(match)"
      ],
      "execution_count": 14,
      "outputs": [
        {
          "output_type": "stream",
          "text": [
            "<_sre.SRE_Match object; span=(0, 1), match='\\n'>\n",
            "<_sre.SRE_Match object; span=(27, 28), match='\\n'>\n",
            "<_sre.SRE_Match object; span=(54, 55), match='\\n'>\n",
            "<_sre.SRE_Match object; span=(65, 66), match='\\n'>\n",
            "<_sre.SRE_Match object; span=(66, 67), match='\\n'>\n",
            "<_sre.SRE_Match object; span=(69, 70), match=' '>\n",
            "<_sre.SRE_Match object; span=(74, 75), match='\\n'>\n",
            "<_sre.SRE_Match object; span=(75, 76), match='\\n'>\n",
            "<_sre.SRE_Match object; span=(90, 91), match=' '>\n",
            "<_sre.SRE_Match object; span=(91, 92), match='('>\n",
            "<_sre.SRE_Match object; span=(96, 97), match=' '>\n",
            "<_sre.SRE_Match object; span=(99, 100), match=' '>\n",
            "<_sre.SRE_Match object; span=(102, 103), match=' '>\n",
            "<_sre.SRE_Match object; span=(110, 111), match=')'>\n",
            "<_sre.SRE_Match object; span=(111, 112), match=':'>\n",
            "<_sre.SRE_Match object; span=(112, 113), match='\\n'>\n",
            "<_sre.SRE_Match object; span=(113, 114), match='\\n'>\n",
            "<_sre.SRE_Match object; span=(114, 115), match='.'>\n",
            "<_sre.SRE_Match object; span=(115, 116), match=' '>\n",
            "<_sre.SRE_Match object; span=(116, 117), match='^'>\n",
            "<_sre.SRE_Match object; span=(117, 118), match=' '>\n",
            "<_sre.SRE_Match object; span=(118, 119), match='$'>\n",
            "<_sre.SRE_Match object; span=(119, 120), match=' '>\n",
            "<_sre.SRE_Match object; span=(120, 121), match='*'>\n",
            "<_sre.SRE_Match object; span=(121, 122), match=' '>\n",
            "<_sre.SRE_Match object; span=(122, 123), match='+'>\n",
            "<_sre.SRE_Match object; span=(123, 124), match=' '>\n",
            "<_sre.SRE_Match object; span=(124, 125), match='?'>\n",
            "<_sre.SRE_Match object; span=(125, 126), match=' '>\n",
            "<_sre.SRE_Match object; span=(126, 127), match='{'>\n",
            "<_sre.SRE_Match object; span=(127, 128), match=' '>\n",
            "<_sre.SRE_Match object; span=(128, 129), match='}'>\n",
            "<_sre.SRE_Match object; span=(129, 130), match=' '>\n",
            "<_sre.SRE_Match object; span=(130, 131), match='['>\n",
            "<_sre.SRE_Match object; span=(131, 132), match=' '>\n",
            "<_sre.SRE_Match object; span=(132, 133), match=']'>\n",
            "<_sre.SRE_Match object; span=(133, 134), match=' '>\n",
            "<_sre.SRE_Match object; span=(134, 135), match='\\\\'>\n",
            "<_sre.SRE_Match object; span=(135, 136), match=' '>\n",
            "<_sre.SRE_Match object; span=(136, 137), match='|'>\n",
            "<_sre.SRE_Match object; span=(137, 138), match=' '>\n",
            "<_sre.SRE_Match object; span=(138, 139), match='('>\n",
            "<_sre.SRE_Match object; span=(139, 140), match=' '>\n",
            "<_sre.SRE_Match object; span=(140, 141), match=')'>\n",
            "<_sre.SRE_Match object; span=(141, 142), match='\\n'>\n",
            "<_sre.SRE_Match object; span=(142, 143), match='\\n'>\n",
            "<_sre.SRE_Match object; span=(150, 151), match='.'>\n",
            "<_sre.SRE_Match object; span=(154, 155), match='\\n'>\n",
            "<_sre.SRE_Match object; span=(155, 156), match='\\n'>\n",
            "<_sre.SRE_Match object; span=(159, 160), match='-'>\n",
            "<_sre.SRE_Match object; span=(163, 164), match='-'>\n",
            "<_sre.SRE_Match object; span=(168, 169), match='\\n'>\n",
            "<_sre.SRE_Match object; span=(172, 173), match='.'>\n",
            "<_sre.SRE_Match object; span=(176, 177), match='.'>\n",
            "<_sre.SRE_Match object; span=(181, 182), match='\\n'>\n",
            "<_sre.SRE_Match object; span=(185, 186), match='*'>\n",
            "<_sre.SRE_Match object; span=(189, 190), match='*'>\n",
            "<_sre.SRE_Match object; span=(194, 195), match='\\n'>\n",
            "<_sre.SRE_Match object; span=(198, 199), match='-'>\n",
            "<_sre.SRE_Match object; span=(202, 203), match='-'>\n",
            "<_sre.SRE_Match object; span=(207, 208), match='\\n'>\n",
            "<_sre.SRE_Match object; span=(211, 212), match='-'>\n",
            "<_sre.SRE_Match object; span=(215, 216), match='-'>\n",
            "<_sre.SRE_Match object; span=(220, 221), match='\\n'>\n",
            "<_sre.SRE_Match object; span=(221, 222), match='\\n'>\n",
            "<_sre.SRE_Match object; span=(224, 225), match='.'>\n",
            "<_sre.SRE_Match object; span=(225, 226), match=' '>\n",
            "<_sre.SRE_Match object; span=(233, 234), match='\\n'>\n",
            "<_sre.SRE_Match object; span=(236, 237), match=' '>\n",
            "<_sre.SRE_Match object; span=(242, 243), match='\\n'>\n",
            "<_sre.SRE_Match object; span=(245, 246), match=' '>\n",
            "<_sre.SRE_Match object; span=(251, 252), match='\\n'>\n",
            "<_sre.SRE_Match object; span=(255, 256), match='.'>\n",
            "<_sre.SRE_Match object; span=(256, 257), match=' '>\n",
            "<_sre.SRE_Match object; span=(265, 266), match='\\n'>\n",
            "<_sre.SRE_Match object; span=(268, 269), match='.'>\n",
            "<_sre.SRE_Match object; span=(269, 270), match=' '>\n",
            "<_sre.SRE_Match object; span=(271, 272), match='\\n'>\n",
            "<_sre.SRE_Match object; span=(272, 273), match='\\n'>\n",
            "<_sre.SRE_Match object; span=(276, 277), match='\\n'>\n",
            "<_sre.SRE_Match object; span=(280, 281), match='\\n'>\n",
            "<_sre.SRE_Match object; span=(284, 285), match='\\n'>\n",
            "<_sre.SRE_Match object; span=(288, 289), match='\\n'>\n"
          ],
          "name": "stdout"
        }
      ]
    },
    {
      "metadata": {
        "id": "84QnXPAt9ciY",
        "colab_type": "text"
      },
      "cell_type": "markdown",
      "source": [
        "#### \\s"
      ]
    },
    {
      "metadata": {
        "id": "RtjSZXjHlGVf",
        "colab_type": "text"
      },
      "cell_type": "markdown",
      "source": [
        "**\\s** give us all the matches which are Whitespace (space, tab, newline)."
      ]
    },
    {
      "metadata": {
        "id": "XdHqzQ_GkfT0",
        "colab_type": "code",
        "colab": {
          "autoexec": {
            "startup": false,
            "wait_interval": 0
          },
          "base_uri": "https://localhost:8080/",
          "height": 901
        },
        "outputId": "a27a0b9e-2de5-4241-e156-1cd75759c9ac",
        "executionInfo": {
          "status": "ok",
          "timestamp": 1528655098057,
          "user_tz": -330,
          "elapsed": 2041,
          "user": {
            "displayName": "Debakar Roy",
            "photoUrl": "//lh5.googleusercontent.com/-KwEZ1Z4ZXmE/AAAAAAAAAAI/AAAAAAAAQTA/EmWe2YYRCLo/s50-c-k-no/photo.jpg",
            "userId": "103957503016432867835"
          }
        }
      },
      "cell_type": "code",
      "source": [
        "pattern = re.compile(r'\\s')\n",
        "\n",
        "matches = pattern.finditer(text_to_search)\n",
        "\n",
        "for match in matches:\n",
        "  print(match)"
      ],
      "execution_count": 15,
      "outputs": [
        {
          "output_type": "stream",
          "text": [
            "<_sre.SRE_Match object; span=(0, 1), match='\\n'>\n",
            "<_sre.SRE_Match object; span=(27, 28), match='\\n'>\n",
            "<_sre.SRE_Match object; span=(54, 55), match='\\n'>\n",
            "<_sre.SRE_Match object; span=(65, 66), match='\\n'>\n",
            "<_sre.SRE_Match object; span=(66, 67), match='\\n'>\n",
            "<_sre.SRE_Match object; span=(69, 70), match=' '>\n",
            "<_sre.SRE_Match object; span=(74, 75), match='\\n'>\n",
            "<_sre.SRE_Match object; span=(75, 76), match='\\n'>\n",
            "<_sre.SRE_Match object; span=(90, 91), match=' '>\n",
            "<_sre.SRE_Match object; span=(96, 97), match=' '>\n",
            "<_sre.SRE_Match object; span=(99, 100), match=' '>\n",
            "<_sre.SRE_Match object; span=(102, 103), match=' '>\n",
            "<_sre.SRE_Match object; span=(112, 113), match='\\n'>\n",
            "<_sre.SRE_Match object; span=(113, 114), match='\\n'>\n",
            "<_sre.SRE_Match object; span=(115, 116), match=' '>\n",
            "<_sre.SRE_Match object; span=(117, 118), match=' '>\n",
            "<_sre.SRE_Match object; span=(119, 120), match=' '>\n",
            "<_sre.SRE_Match object; span=(121, 122), match=' '>\n",
            "<_sre.SRE_Match object; span=(123, 124), match=' '>\n",
            "<_sre.SRE_Match object; span=(125, 126), match=' '>\n",
            "<_sre.SRE_Match object; span=(127, 128), match=' '>\n",
            "<_sre.SRE_Match object; span=(129, 130), match=' '>\n",
            "<_sre.SRE_Match object; span=(131, 132), match=' '>\n",
            "<_sre.SRE_Match object; span=(133, 134), match=' '>\n",
            "<_sre.SRE_Match object; span=(135, 136), match=' '>\n",
            "<_sre.SRE_Match object; span=(137, 138), match=' '>\n",
            "<_sre.SRE_Match object; span=(139, 140), match=' '>\n",
            "<_sre.SRE_Match object; span=(141, 142), match='\\n'>\n",
            "<_sre.SRE_Match object; span=(142, 143), match='\\n'>\n",
            "<_sre.SRE_Match object; span=(154, 155), match='\\n'>\n",
            "<_sre.SRE_Match object; span=(155, 156), match='\\n'>\n",
            "<_sre.SRE_Match object; span=(168, 169), match='\\n'>\n",
            "<_sre.SRE_Match object; span=(181, 182), match='\\n'>\n",
            "<_sre.SRE_Match object; span=(194, 195), match='\\n'>\n",
            "<_sre.SRE_Match object; span=(207, 208), match='\\n'>\n",
            "<_sre.SRE_Match object; span=(220, 221), match='\\n'>\n",
            "<_sre.SRE_Match object; span=(221, 222), match='\\n'>\n",
            "<_sre.SRE_Match object; span=(225, 226), match=' '>\n",
            "<_sre.SRE_Match object; span=(233, 234), match='\\n'>\n",
            "<_sre.SRE_Match object; span=(236, 237), match=' '>\n",
            "<_sre.SRE_Match object; span=(242, 243), match='\\n'>\n",
            "<_sre.SRE_Match object; span=(245, 246), match=' '>\n",
            "<_sre.SRE_Match object; span=(251, 252), match='\\n'>\n",
            "<_sre.SRE_Match object; span=(256, 257), match=' '>\n",
            "<_sre.SRE_Match object; span=(265, 266), match='\\n'>\n",
            "<_sre.SRE_Match object; span=(269, 270), match=' '>\n",
            "<_sre.SRE_Match object; span=(271, 272), match='\\n'>\n",
            "<_sre.SRE_Match object; span=(272, 273), match='\\n'>\n",
            "<_sre.SRE_Match object; span=(276, 277), match='\\n'>\n",
            "<_sre.SRE_Match object; span=(280, 281), match='\\n'>\n",
            "<_sre.SRE_Match object; span=(284, 285), match='\\n'>\n",
            "<_sre.SRE_Match object; span=(288, 289), match='\\n'>\n"
          ],
          "name": "stdout"
        }
      ]
    },
    {
      "metadata": {
        "id": "19GIPrBi9gLF",
        "colab_type": "text"
      },
      "cell_type": "markdown",
      "source": [
        "#### \\S"
      ]
    },
    {
      "metadata": {
        "id": "UGSYBYB9lMK6",
        "colab_type": "text"
      },
      "cell_type": "markdown",
      "source": [
        "**\\S** give us all the matches which are not Whitespace (space, tab, newline)."
      ]
    },
    {
      "metadata": {
        "id": "_pk68b0VkhPZ",
        "colab_type": "code",
        "colab": {
          "autoexec": {
            "startup": false,
            "wait_interval": 0
          },
          "base_uri": "https://localhost:8080/",
          "height": 4046
        },
        "outputId": "40484005-315d-4078-ea8f-8ad942399873",
        "executionInfo": {
          "status": "ok",
          "timestamp": 1528655099435,
          "user_tz": -330,
          "elapsed": 871,
          "user": {
            "displayName": "Debakar Roy",
            "photoUrl": "//lh5.googleusercontent.com/-KwEZ1Z4ZXmE/AAAAAAAAAAI/AAAAAAAAQTA/EmWe2YYRCLo/s50-c-k-no/photo.jpg",
            "userId": "103957503016432867835"
          }
        }
      },
      "cell_type": "code",
      "source": [
        "pattern = re.compile(r'\\S')\n",
        "\n",
        "matches = pattern.finditer(text_to_search)\n",
        "\n",
        "for match in matches:\n",
        "  print(match)"
      ],
      "execution_count": 16,
      "outputs": [
        {
          "output_type": "stream",
          "text": [
            "<_sre.SRE_Match object; span=(1, 2), match='a'>\n",
            "<_sre.SRE_Match object; span=(2, 3), match='b'>\n",
            "<_sre.SRE_Match object; span=(3, 4), match='c'>\n",
            "<_sre.SRE_Match object; span=(4, 5), match='d'>\n",
            "<_sre.SRE_Match object; span=(5, 6), match='e'>\n",
            "<_sre.SRE_Match object; span=(6, 7), match='f'>\n",
            "<_sre.SRE_Match object; span=(7, 8), match='g'>\n",
            "<_sre.SRE_Match object; span=(8, 9), match='h'>\n",
            "<_sre.SRE_Match object; span=(9, 10), match='i'>\n",
            "<_sre.SRE_Match object; span=(10, 11), match='j'>\n",
            "<_sre.SRE_Match object; span=(11, 12), match='k'>\n",
            "<_sre.SRE_Match object; span=(12, 13), match='l'>\n",
            "<_sre.SRE_Match object; span=(13, 14), match='m'>\n",
            "<_sre.SRE_Match object; span=(14, 15), match='n'>\n",
            "<_sre.SRE_Match object; span=(15, 16), match='o'>\n",
            "<_sre.SRE_Match object; span=(16, 17), match='p'>\n",
            "<_sre.SRE_Match object; span=(17, 18), match='q'>\n",
            "<_sre.SRE_Match object; span=(18, 19), match='u'>\n",
            "<_sre.SRE_Match object; span=(19, 20), match='r'>\n",
            "<_sre.SRE_Match object; span=(20, 21), match='t'>\n",
            "<_sre.SRE_Match object; span=(21, 22), match='u'>\n",
            "<_sre.SRE_Match object; span=(22, 23), match='v'>\n",
            "<_sre.SRE_Match object; span=(23, 24), match='w'>\n",
            "<_sre.SRE_Match object; span=(24, 25), match='x'>\n",
            "<_sre.SRE_Match object; span=(25, 26), match='y'>\n",
            "<_sre.SRE_Match object; span=(26, 27), match='z'>\n",
            "<_sre.SRE_Match object; span=(28, 29), match='A'>\n",
            "<_sre.SRE_Match object; span=(29, 30), match='B'>\n",
            "<_sre.SRE_Match object; span=(30, 31), match='C'>\n",
            "<_sre.SRE_Match object; span=(31, 32), match='D'>\n",
            "<_sre.SRE_Match object; span=(32, 33), match='E'>\n",
            "<_sre.SRE_Match object; span=(33, 34), match='F'>\n",
            "<_sre.SRE_Match object; span=(34, 35), match='G'>\n",
            "<_sre.SRE_Match object; span=(35, 36), match='H'>\n",
            "<_sre.SRE_Match object; span=(36, 37), match='I'>\n",
            "<_sre.SRE_Match object; span=(37, 38), match='J'>\n",
            "<_sre.SRE_Match object; span=(38, 39), match='K'>\n",
            "<_sre.SRE_Match object; span=(39, 40), match='L'>\n",
            "<_sre.SRE_Match object; span=(40, 41), match='M'>\n",
            "<_sre.SRE_Match object; span=(41, 42), match='N'>\n",
            "<_sre.SRE_Match object; span=(42, 43), match='O'>\n",
            "<_sre.SRE_Match object; span=(43, 44), match='P'>\n",
            "<_sre.SRE_Match object; span=(44, 45), match='Q'>\n",
            "<_sre.SRE_Match object; span=(45, 46), match='R'>\n",
            "<_sre.SRE_Match object; span=(46, 47), match='S'>\n",
            "<_sre.SRE_Match object; span=(47, 48), match='T'>\n",
            "<_sre.SRE_Match object; span=(48, 49), match='U'>\n",
            "<_sre.SRE_Match object; span=(49, 50), match='V'>\n",
            "<_sre.SRE_Match object; span=(50, 51), match='W'>\n",
            "<_sre.SRE_Match object; span=(51, 52), match='X'>\n",
            "<_sre.SRE_Match object; span=(52, 53), match='Y'>\n",
            "<_sre.SRE_Match object; span=(53, 54), match='Z'>\n",
            "<_sre.SRE_Match object; span=(55, 56), match='1'>\n",
            "<_sre.SRE_Match object; span=(56, 57), match='2'>\n",
            "<_sre.SRE_Match object; span=(57, 58), match='3'>\n",
            "<_sre.SRE_Match object; span=(58, 59), match='4'>\n",
            "<_sre.SRE_Match object; span=(59, 60), match='5'>\n",
            "<_sre.SRE_Match object; span=(60, 61), match='6'>\n",
            "<_sre.SRE_Match object; span=(61, 62), match='7'>\n",
            "<_sre.SRE_Match object; span=(62, 63), match='8'>\n",
            "<_sre.SRE_Match object; span=(63, 64), match='9'>\n",
            "<_sre.SRE_Match object; span=(64, 65), match='0'>\n",
            "<_sre.SRE_Match object; span=(67, 68), match='H'>\n",
            "<_sre.SRE_Match object; span=(68, 69), match='a'>\n",
            "<_sre.SRE_Match object; span=(70, 71), match='H'>\n",
            "<_sre.SRE_Match object; span=(71, 72), match='a'>\n",
            "<_sre.SRE_Match object; span=(72, 73), match='H'>\n",
            "<_sre.SRE_Match object; span=(73, 74), match='a'>\n",
            "<_sre.SRE_Match object; span=(76, 77), match='M'>\n",
            "<_sre.SRE_Match object; span=(77, 78), match='e'>\n",
            "<_sre.SRE_Match object; span=(78, 79), match='t'>\n",
            "<_sre.SRE_Match object; span=(79, 80), match='a'>\n",
            "<_sre.SRE_Match object; span=(80, 81), match='C'>\n",
            "<_sre.SRE_Match object; span=(81, 82), match='h'>\n",
            "<_sre.SRE_Match object; span=(82, 83), match='a'>\n",
            "<_sre.SRE_Match object; span=(83, 84), match='r'>\n",
            "<_sre.SRE_Match object; span=(84, 85), match='a'>\n",
            "<_sre.SRE_Match object; span=(85, 86), match='c'>\n",
            "<_sre.SRE_Match object; span=(86, 87), match='t'>\n",
            "<_sre.SRE_Match object; span=(87, 88), match='e'>\n",
            "<_sre.SRE_Match object; span=(88, 89), match='r'>\n",
            "<_sre.SRE_Match object; span=(89, 90), match='s'>\n",
            "<_sre.SRE_Match object; span=(91, 92), match='('>\n",
            "<_sre.SRE_Match object; span=(92, 93), match='N'>\n",
            "<_sre.SRE_Match object; span=(93, 94), match='e'>\n",
            "<_sre.SRE_Match object; span=(94, 95), match='e'>\n",
            "<_sre.SRE_Match object; span=(95, 96), match='d'>\n",
            "<_sre.SRE_Match object; span=(97, 98), match='t'>\n",
            "<_sre.SRE_Match object; span=(98, 99), match='o'>\n",
            "<_sre.SRE_Match object; span=(100, 101), match='b'>\n",
            "<_sre.SRE_Match object; span=(101, 102), match='e'>\n",
            "<_sre.SRE_Match object; span=(103, 104), match='e'>\n",
            "<_sre.SRE_Match object; span=(104, 105), match='s'>\n",
            "<_sre.SRE_Match object; span=(105, 106), match='c'>\n",
            "<_sre.SRE_Match object; span=(106, 107), match='a'>\n",
            "<_sre.SRE_Match object; span=(107, 108), match='p'>\n",
            "<_sre.SRE_Match object; span=(108, 109), match='e'>\n",
            "<_sre.SRE_Match object; span=(109, 110), match='d'>\n",
            "<_sre.SRE_Match object; span=(110, 111), match=')'>\n",
            "<_sre.SRE_Match object; span=(111, 112), match=':'>\n",
            "<_sre.SRE_Match object; span=(114, 115), match='.'>\n",
            "<_sre.SRE_Match object; span=(116, 117), match='^'>\n",
            "<_sre.SRE_Match object; span=(118, 119), match='$'>\n",
            "<_sre.SRE_Match object; span=(120, 121), match='*'>\n",
            "<_sre.SRE_Match object; span=(122, 123), match='+'>\n",
            "<_sre.SRE_Match object; span=(124, 125), match='?'>\n",
            "<_sre.SRE_Match object; span=(126, 127), match='{'>\n",
            "<_sre.SRE_Match object; span=(128, 129), match='}'>\n",
            "<_sre.SRE_Match object; span=(130, 131), match='['>\n",
            "<_sre.SRE_Match object; span=(132, 133), match=']'>\n",
            "<_sre.SRE_Match object; span=(134, 135), match='\\\\'>\n",
            "<_sre.SRE_Match object; span=(136, 137), match='|'>\n",
            "<_sre.SRE_Match object; span=(138, 139), match='('>\n",
            "<_sre.SRE_Match object; span=(140, 141), match=')'>\n",
            "<_sre.SRE_Match object; span=(143, 144), match='e'>\n",
            "<_sre.SRE_Match object; span=(144, 145), match='x'>\n",
            "<_sre.SRE_Match object; span=(145, 146), match='a'>\n",
            "<_sre.SRE_Match object; span=(146, 147), match='m'>\n",
            "<_sre.SRE_Match object; span=(147, 148), match='p'>\n",
            "<_sre.SRE_Match object; span=(148, 149), match='l'>\n",
            "<_sre.SRE_Match object; span=(149, 150), match='e'>\n",
            "<_sre.SRE_Match object; span=(150, 151), match='.'>\n",
            "<_sre.SRE_Match object; span=(151, 152), match='c'>\n",
            "<_sre.SRE_Match object; span=(152, 153), match='o'>\n",
            "<_sre.SRE_Match object; span=(153, 154), match='m'>\n",
            "<_sre.SRE_Match object; span=(156, 157), match='3'>\n",
            "<_sre.SRE_Match object; span=(157, 158), match='2'>\n",
            "<_sre.SRE_Match object; span=(158, 159), match='1'>\n",
            "<_sre.SRE_Match object; span=(159, 160), match='-'>\n",
            "<_sre.SRE_Match object; span=(160, 161), match='5'>\n",
            "<_sre.SRE_Match object; span=(161, 162), match='5'>\n",
            "<_sre.SRE_Match object; span=(162, 163), match='5'>\n",
            "<_sre.SRE_Match object; span=(163, 164), match='-'>\n",
            "<_sre.SRE_Match object; span=(164, 165), match='4'>\n",
            "<_sre.SRE_Match object; span=(165, 166), match='3'>\n",
            "<_sre.SRE_Match object; span=(166, 167), match='2'>\n",
            "<_sre.SRE_Match object; span=(167, 168), match='1'>\n",
            "<_sre.SRE_Match object; span=(169, 170), match='1'>\n",
            "<_sre.SRE_Match object; span=(170, 171), match='2'>\n",
            "<_sre.SRE_Match object; span=(171, 172), match='3'>\n",
            "<_sre.SRE_Match object; span=(172, 173), match='.'>\n",
            "<_sre.SRE_Match object; span=(173, 174), match='5'>\n",
            "<_sre.SRE_Match object; span=(174, 175), match='5'>\n",
            "<_sre.SRE_Match object; span=(175, 176), match='5'>\n",
            "<_sre.SRE_Match object; span=(176, 177), match='.'>\n",
            "<_sre.SRE_Match object; span=(177, 178), match='1'>\n",
            "<_sre.SRE_Match object; span=(178, 179), match='2'>\n",
            "<_sre.SRE_Match object; span=(179, 180), match='3'>\n",
            "<_sre.SRE_Match object; span=(180, 181), match='4'>\n",
            "<_sre.SRE_Match object; span=(182, 183), match='1'>\n",
            "<_sre.SRE_Match object; span=(183, 184), match='2'>\n",
            "<_sre.SRE_Match object; span=(184, 185), match='3'>\n",
            "<_sre.SRE_Match object; span=(185, 186), match='*'>\n",
            "<_sre.SRE_Match object; span=(186, 187), match='5'>\n",
            "<_sre.SRE_Match object; span=(187, 188), match='5'>\n",
            "<_sre.SRE_Match object; span=(188, 189), match='5'>\n",
            "<_sre.SRE_Match object; span=(189, 190), match='*'>\n",
            "<_sre.SRE_Match object; span=(190, 191), match='1'>\n",
            "<_sre.SRE_Match object; span=(191, 192), match='2'>\n",
            "<_sre.SRE_Match object; span=(192, 193), match='3'>\n",
            "<_sre.SRE_Match object; span=(193, 194), match='4'>\n",
            "<_sre.SRE_Match object; span=(195, 196), match='8'>\n",
            "<_sre.SRE_Match object; span=(196, 197), match='0'>\n",
            "<_sre.SRE_Match object; span=(197, 198), match='0'>\n",
            "<_sre.SRE_Match object; span=(198, 199), match='-'>\n",
            "<_sre.SRE_Match object; span=(199, 200), match='5'>\n",
            "<_sre.SRE_Match object; span=(200, 201), match='5'>\n",
            "<_sre.SRE_Match object; span=(201, 202), match='5'>\n",
            "<_sre.SRE_Match object; span=(202, 203), match='-'>\n",
            "<_sre.SRE_Match object; span=(203, 204), match='1'>\n",
            "<_sre.SRE_Match object; span=(204, 205), match='2'>\n",
            "<_sre.SRE_Match object; span=(205, 206), match='3'>\n",
            "<_sre.SRE_Match object; span=(206, 207), match='4'>\n",
            "<_sre.SRE_Match object; span=(208, 209), match='9'>\n",
            "<_sre.SRE_Match object; span=(209, 210), match='0'>\n",
            "<_sre.SRE_Match object; span=(210, 211), match='0'>\n",
            "<_sre.SRE_Match object; span=(211, 212), match='-'>\n",
            "<_sre.SRE_Match object; span=(212, 213), match='5'>\n",
            "<_sre.SRE_Match object; span=(213, 214), match='5'>\n",
            "<_sre.SRE_Match object; span=(214, 215), match='5'>\n",
            "<_sre.SRE_Match object; span=(215, 216), match='-'>\n",
            "<_sre.SRE_Match object; span=(216, 217), match='1'>\n",
            "<_sre.SRE_Match object; span=(217, 218), match='2'>\n",
            "<_sre.SRE_Match object; span=(218, 219), match='3'>\n",
            "<_sre.SRE_Match object; span=(219, 220), match='4'>\n",
            "<_sre.SRE_Match object; span=(222, 223), match='M'>\n",
            "<_sre.SRE_Match object; span=(223, 224), match='r'>\n",
            "<_sre.SRE_Match object; span=(224, 225), match='.'>\n",
            "<_sre.SRE_Match object; span=(226, 227), match='S'>\n",
            "<_sre.SRE_Match object; span=(227, 228), match='c'>\n",
            "<_sre.SRE_Match object; span=(228, 229), match='h'>\n",
            "<_sre.SRE_Match object; span=(229, 230), match='a'>\n",
            "<_sre.SRE_Match object; span=(230, 231), match='f'>\n",
            "<_sre.SRE_Match object; span=(231, 232), match='e'>\n",
            "<_sre.SRE_Match object; span=(232, 233), match='r'>\n",
            "<_sre.SRE_Match object; span=(234, 235), match='M'>\n",
            "<_sre.SRE_Match object; span=(235, 236), match='r'>\n",
            "<_sre.SRE_Match object; span=(237, 238), match='S'>\n",
            "<_sre.SRE_Match object; span=(238, 239), match='m'>\n",
            "<_sre.SRE_Match object; span=(239, 240), match='i'>\n",
            "<_sre.SRE_Match object; span=(240, 241), match='t'>\n",
            "<_sre.SRE_Match object; span=(241, 242), match='h'>\n",
            "<_sre.SRE_Match object; span=(243, 244), match='M'>\n",
            "<_sre.SRE_Match object; span=(244, 245), match='s'>\n",
            "<_sre.SRE_Match object; span=(246, 247), match='D'>\n",
            "<_sre.SRE_Match object; span=(247, 248), match='a'>\n",
            "<_sre.SRE_Match object; span=(248, 249), match='v'>\n",
            "<_sre.SRE_Match object; span=(249, 250), match='i'>\n",
            "<_sre.SRE_Match object; span=(250, 251), match='s'>\n",
            "<_sre.SRE_Match object; span=(252, 253), match='M'>\n",
            "<_sre.SRE_Match object; span=(253, 254), match='r'>\n",
            "<_sre.SRE_Match object; span=(254, 255), match='s'>\n",
            "<_sre.SRE_Match object; span=(255, 256), match='.'>\n",
            "<_sre.SRE_Match object; span=(257, 258), match='R'>\n",
            "<_sre.SRE_Match object; span=(258, 259), match='o'>\n",
            "<_sre.SRE_Match object; span=(259, 260), match='b'>\n",
            "<_sre.SRE_Match object; span=(260, 261), match='i'>\n",
            "<_sre.SRE_Match object; span=(261, 262), match='n'>\n",
            "<_sre.SRE_Match object; span=(262, 263), match='s'>\n",
            "<_sre.SRE_Match object; span=(263, 264), match='o'>\n",
            "<_sre.SRE_Match object; span=(264, 265), match='n'>\n",
            "<_sre.SRE_Match object; span=(266, 267), match='M'>\n",
            "<_sre.SRE_Match object; span=(267, 268), match='r'>\n",
            "<_sre.SRE_Match object; span=(268, 269), match='.'>\n",
            "<_sre.SRE_Match object; span=(270, 271), match='T'>\n",
            "<_sre.SRE_Match object; span=(273, 274), match='c'>\n",
            "<_sre.SRE_Match object; span=(274, 275), match='a'>\n",
            "<_sre.SRE_Match object; span=(275, 276), match='t'>\n",
            "<_sre.SRE_Match object; span=(277, 278), match='m'>\n",
            "<_sre.SRE_Match object; span=(278, 279), match='a'>\n",
            "<_sre.SRE_Match object; span=(279, 280), match='t'>\n",
            "<_sre.SRE_Match object; span=(281, 282), match='p'>\n",
            "<_sre.SRE_Match object; span=(282, 283), match='a'>\n",
            "<_sre.SRE_Match object; span=(283, 284), match='t'>\n",
            "<_sre.SRE_Match object; span=(285, 286), match='b'>\n",
            "<_sre.SRE_Match object; span=(286, 287), match='a'>\n",
            "<_sre.SRE_Match object; span=(287, 288), match='t'>\n"
          ],
          "name": "stdout"
        }
      ]
    },
    {
      "metadata": {
        "id": "SKqFI9B49nUD",
        "colab_type": "text"
      },
      "cell_type": "markdown",
      "source": [
        "#### \\b"
      ]
    },
    {
      "metadata": {
        "id": "05B7tOVelnls",
        "colab_type": "text"
      },
      "cell_type": "markdown",
      "source": [
        "**\\b** give us all the matches which have Word Boundary."
      ]
    },
    {
      "metadata": {
        "id": "ZS0Lr_OqkjaG",
        "colab_type": "code",
        "colab": {
          "autoexec": {
            "startup": false,
            "wait_interval": 0
          },
          "base_uri": "https://localhost:8080/",
          "height": 51
        },
        "outputId": "a79e7669-e676-4a19-c567-410ccafa89e5",
        "executionInfo": {
          "status": "ok",
          "timestamp": 1528655100822,
          "user_tz": -330,
          "elapsed": 824,
          "user": {
            "displayName": "Debakar Roy",
            "photoUrl": "//lh5.googleusercontent.com/-KwEZ1Z4ZXmE/AAAAAAAAAAI/AAAAAAAAQTA/EmWe2YYRCLo/s50-c-k-no/photo.jpg",
            "userId": "103957503016432867835"
          }
        }
      },
      "cell_type": "code",
      "source": [
        "pattern = re.compile(r'\\bHa')\n",
        "\n",
        "matches = pattern.finditer(text_to_search)\n",
        "\n",
        "for match in matches:\n",
        "  print(match)"
      ],
      "execution_count": 17,
      "outputs": [
        {
          "output_type": "stream",
          "text": [
            "<_sre.SRE_Match object; span=(67, 69), match='Ha'>\n",
            "<_sre.SRE_Match object; span=(70, 72), match='Ha'>\n"
          ],
          "name": "stdout"
        }
      ]
    },
    {
      "metadata": {
        "id": "F_pCNSpklyfa",
        "colab_type": "text"
      },
      "cell_type": "markdown",
      "source": [
        "The two matches are:\n",
        "\n",
        "...\n",
        "1234567890\n",
        "\n",
        "**Ha** **Ha**Ha\n",
        "\n",
        "MetaCharacters\n",
        "..."
      ]
    },
    {
      "metadata": {
        "id": "010_LiRF9qJ2",
        "colab_type": "text"
      },
      "cell_type": "markdown",
      "source": [
        "#### \\B"
      ]
    },
    {
      "metadata": {
        "id": "otj5xOOAmF12",
        "colab_type": "text"
      },
      "cell_type": "markdown",
      "source": [
        "Similarly, **\\B** give us all the matches which do not have Word Boundary."
      ]
    },
    {
      "metadata": {
        "id": "X0u0yx8glxM_",
        "colab_type": "code",
        "colab": {
          "autoexec": {
            "startup": false,
            "wait_interval": 0
          },
          "base_uri": "https://localhost:8080/",
          "height": 34
        },
        "outputId": "26fef31a-df40-460b-84f0-7507d0464552",
        "executionInfo": {
          "status": "ok",
          "timestamp": 1528655102631,
          "user_tz": -330,
          "elapsed": 1282,
          "user": {
            "displayName": "Debakar Roy",
            "photoUrl": "//lh5.googleusercontent.com/-KwEZ1Z4ZXmE/AAAAAAAAAAI/AAAAAAAAQTA/EmWe2YYRCLo/s50-c-k-no/photo.jpg",
            "userId": "103957503016432867835"
          }
        }
      },
      "cell_type": "code",
      "source": [
        "pattern = re.compile(r'\\BHa')\n",
        "\n",
        "matches = pattern.finditer(text_to_search)\n",
        "\n",
        "for match in matches:\n",
        "  print(match)"
      ],
      "execution_count": 18,
      "outputs": [
        {
          "output_type": "stream",
          "text": [
            "<_sre.SRE_Match object; span=(72, 74), match='Ha'>\n"
          ],
          "name": "stdout"
        }
      ]
    },
    {
      "metadata": {
        "id": "x4Q6f7jamdeC",
        "colab_type": "text"
      },
      "cell_type": "markdown",
      "source": [
        "The match is:\n",
        "\n",
        "...\n",
        "1234567890\n",
        "\n",
        "Ha Ha**Ha**\n",
        "\n",
        "MetaCharacters\n",
        "..."
      ]
    },
    {
      "metadata": {
        "id": "y94UCS9qmuSB",
        "colab_type": "text"
      },
      "cell_type": "markdown",
      "source": [
        "We can also do something like this:"
      ]
    },
    {
      "metadata": {
        "id": "lrtCz7XcmaJ_",
        "colab_type": "code",
        "colab": {
          "autoexec": {
            "startup": false,
            "wait_interval": 0
          },
          "base_uri": "https://localhost:8080/",
          "height": 34
        },
        "outputId": "7cb32b84-5e0d-4ce5-edc2-32d1f91dcb01",
        "executionInfo": {
          "status": "ok",
          "timestamp": 1528655104737,
          "user_tz": -330,
          "elapsed": 1597,
          "user": {
            "displayName": "Debakar Roy",
            "photoUrl": "//lh5.googleusercontent.com/-KwEZ1Z4ZXmE/AAAAAAAAAAI/AAAAAAAAQTA/EmWe2YYRCLo/s50-c-k-no/photo.jpg",
            "userId": "103957503016432867835"
          }
        }
      },
      "cell_type": "code",
      "source": [
        "pattern = re.compile(r'\\bHa\\b')\n",
        "\n",
        "matches = pattern.finditer(text_to_search)\n",
        "\n",
        "for match in matches:\n",
        "  print(match)"
      ],
      "execution_count": 19,
      "outputs": [
        {
          "output_type": "stream",
          "text": [
            "<_sre.SRE_Match object; span=(67, 69), match='Ha'>\n"
          ],
          "name": "stdout"
        }
      ]
    },
    {
      "metadata": {
        "id": "-gsZI5V-m05U",
        "colab_type": "text"
      },
      "cell_type": "markdown",
      "source": [
        "Only one **Ha** have boundary on both the sides:\n",
        "\n",
        "...\n",
        "1234567890\n",
        "\n",
        "**Ha** HaHa\n",
        "\n",
        "MetaCharacters\n",
        "..."
      ]
    },
    {
      "metadata": {
        "id": "JDnmYwKZ9vKr",
        "colab_type": "text"
      },
      "cell_type": "markdown",
      "source": [
        "#### ^ and $"
      ]
    },
    {
      "metadata": {
        "id": "8tSpMu5JnFAv",
        "colab_type": "text"
      },
      "cell_type": "markdown",
      "source": [
        "To see how **^** and **$** works, let's take an string."
      ]
    },
    {
      "metadata": {
        "id": "p93HKMFDmze5",
        "colab_type": "code",
        "colab": {
          "autoexec": {
            "startup": false,
            "wait_interval": 0
          }
        }
      },
      "cell_type": "code",
      "source": [
        "sentence = 'Start a sentence and then bring it to an end'"
      ],
      "execution_count": 0,
      "outputs": []
    },
    {
      "metadata": {
        "id": "Nckksjz8nQY_",
        "colab_type": "text"
      },
      "cell_type": "markdown",
      "source": [
        "Now if we want to check whether a string **begins with something**, we can use **^**, and if we want to see if a string **ends with something** we can use **$**."
      ]
    },
    {
      "metadata": {
        "id": "4b2JDwVJnhCV",
        "colab_type": "code",
        "colab": {
          "autoexec": {
            "startup": false,
            "wait_interval": 0
          },
          "base_uri": "https://localhost:8080/",
          "height": 34
        },
        "outputId": "8edd3ba9-a5ba-47e3-ff89-f2a575bd394e",
        "executionInfo": {
          "status": "ok",
          "timestamp": 1528655112240,
          "user_tz": -330,
          "elapsed": 5686,
          "user": {
            "displayName": "Debakar Roy",
            "photoUrl": "//lh5.googleusercontent.com/-KwEZ1Z4ZXmE/AAAAAAAAAAI/AAAAAAAAQTA/EmWe2YYRCLo/s50-c-k-no/photo.jpg",
            "userId": "103957503016432867835"
          }
        }
      },
      "cell_type": "code",
      "source": [
        "pattern = re.compile(r'^Start')\n",
        "\n",
        "matches = pattern.finditer(sentence)\n",
        "\n",
        "for match in matches:\n",
        "  print(match)"
      ],
      "execution_count": 21,
      "outputs": [
        {
          "output_type": "stream",
          "text": [
            "<_sre.SRE_Match object; span=(0, 5), match='Start'>\n"
          ],
          "name": "stdout"
        }
      ]
    },
    {
      "metadata": {
        "id": "Xnf2LJe-nuVl",
        "colab_type": "code",
        "colab": {
          "autoexec": {
            "startup": false,
            "wait_interval": 0
          },
          "base_uri": "https://localhost:8080/",
          "height": 34
        },
        "outputId": "661606f3-8f36-4b6c-bd8f-231042507a72",
        "executionInfo": {
          "status": "ok",
          "timestamp": 1528655113526,
          "user_tz": -330,
          "elapsed": 916,
          "user": {
            "displayName": "Debakar Roy",
            "photoUrl": "//lh5.googleusercontent.com/-KwEZ1Z4ZXmE/AAAAAAAAAAI/AAAAAAAAQTA/EmWe2YYRCLo/s50-c-k-no/photo.jpg",
            "userId": "103957503016432867835"
          }
        }
      },
      "cell_type": "code",
      "source": [
        "pattern = re.compile(r'end$')\n",
        "\n",
        "matches = pattern.finditer(sentence)\n",
        "\n",
        "for match in matches:\n",
        "  print(match)"
      ],
      "execution_count": 22,
      "outputs": [
        {
          "output_type": "stream",
          "text": [
            "<_sre.SRE_Match object; span=(41, 44), match='end'>\n"
          ],
          "name": "stdout"
        }
      ]
    },
    {
      "metadata": {
        "id": "S4-LIqJln-V0",
        "colab_type": "text"
      },
      "cell_type": "markdown",
      "source": [
        "Let us check whether **and**, is in the beginning or end of the string."
      ]
    },
    {
      "metadata": {
        "id": "c4-UVvE4nyML",
        "colab_type": "code",
        "colab": {
          "autoexec": {
            "startup": false,
            "wait_interval": 0
          }
        }
      },
      "cell_type": "code",
      "source": [
        "pattern = re.compile(r'^and')\n",
        "\n",
        "matches = pattern.finditer(sentence)\n",
        "\n",
        "for match in matches:\n",
        "  print(match)"
      ],
      "execution_count": 0,
      "outputs": []
    },
    {
      "metadata": {
        "id": "dRd-7i3En62b",
        "colab_type": "code",
        "colab": {
          "autoexec": {
            "startup": false,
            "wait_interval": 0
          }
        }
      },
      "cell_type": "code",
      "source": [
        "pattern = re.compile(r'and$')\n",
        "\n",
        "matches = pattern.finditer(sentence)\n",
        "\n",
        "for match in matches:\n",
        "  print(match)"
      ],
      "execution_count": 0,
      "outputs": []
    },
    {
      "metadata": {
        "id": "nYpNfUPZoRQP",
        "colab_type": "text"
      },
      "cell_type": "markdown",
      "source": [
        "Now let look for some practicle examples (phone number search)"
      ]
    },
    {
      "metadata": {
        "id": "iSwzL24UoiqV",
        "colab_type": "text"
      },
      "cell_type": "markdown",
      "source": [
        "Let's try by matching any character between numbers."
      ]
    },
    {
      "metadata": {
        "id": "xmbtDpwmn9An",
        "colab_type": "code",
        "colab": {
          "autoexec": {
            "startup": false,
            "wait_interval": 0
          },
          "base_uri": "https://localhost:8080/",
          "height": 102
        },
        "outputId": "afe24356-56d9-44f2-b420-839be18b78a9",
        "executionInfo": {
          "status": "ok",
          "timestamp": 1528655117370,
          "user_tz": -330,
          "elapsed": 804,
          "user": {
            "displayName": "Debakar Roy",
            "photoUrl": "//lh5.googleusercontent.com/-KwEZ1Z4ZXmE/AAAAAAAAAAI/AAAAAAAAQTA/EmWe2YYRCLo/s50-c-k-no/photo.jpg",
            "userId": "103957503016432867835"
          }
        }
      },
      "cell_type": "code",
      "source": [
        "pattern = re.compile(r'\\d\\d\\d.\\d\\d\\d.\\d\\d\\d\\d')\n",
        "\n",
        "matches = pattern.finditer(text_to_search)\n",
        "\n",
        "for match in matches:\n",
        "  print(match)"
      ],
      "execution_count": 25,
      "outputs": [
        {
          "output_type": "stream",
          "text": [
            "<_sre.SRE_Match object; span=(156, 168), match='321-555-4321'>\n",
            "<_sre.SRE_Match object; span=(169, 181), match='123.555.1234'>\n",
            "<_sre.SRE_Match object; span=(182, 194), match='123*555*1234'>\n",
            "<_sre.SRE_Match object; span=(195, 207), match='800-555-1234'>\n",
            "<_sre.SRE_Match object; span=(208, 220), match='900-555-1234'>\n"
          ],
          "name": "stdout"
        }
      ]
    },
    {
      "metadata": {
        "id": "ANwAW5Raorek",
        "colab_type": "text"
      },
      "cell_type": "markdown",
      "source": [
        "Now, **123\\*555\\*1234** is not a valid phone number. Valid numbers only have **.** and **-** in between."
      ]
    },
    {
      "metadata": {
        "id": "0FKkqsic96qd",
        "colab_type": "text"
      },
      "cell_type": "markdown",
      "source": [
        "#### character set - []"
      ]
    },
    {
      "metadata": {
        "id": "aGppNmB8opbt",
        "colab_type": "code",
        "colab": {
          "autoexec": {
            "startup": false,
            "wait_interval": 0
          },
          "base_uri": "https://localhost:8080/",
          "height": 85
        },
        "outputId": "cf4f24c8-330d-4699-8aab-c634da99c1ca",
        "executionInfo": {
          "status": "ok",
          "timestamp": 1528655118538,
          "user_tz": -330,
          "elapsed": 803,
          "user": {
            "displayName": "Debakar Roy",
            "photoUrl": "//lh5.googleusercontent.com/-KwEZ1Z4ZXmE/AAAAAAAAAAI/AAAAAAAAQTA/EmWe2YYRCLo/s50-c-k-no/photo.jpg",
            "userId": "103957503016432867835"
          }
        }
      },
      "cell_type": "code",
      "source": [
        "pattern = re.compile(r'\\d\\d\\d[.-]\\d\\d\\d[.-]\\d\\d\\d\\d')\n",
        "\n",
        "matches = pattern.finditer(text_to_search)\n",
        "\n",
        "for match in matches:\n",
        "  print(match)"
      ],
      "execution_count": 26,
      "outputs": [
        {
          "output_type": "stream",
          "text": [
            "<_sre.SRE_Match object; span=(156, 168), match='321-555-4321'>\n",
            "<_sre.SRE_Match object; span=(169, 181), match='123.555.1234'>\n",
            "<_sre.SRE_Match object; span=(195, 207), match='800-555-1234'>\n",
            "<_sre.SRE_Match object; span=(208, 220), match='900-555-1234'>\n"
          ],
          "name": "stdout"
        }
      ]
    },
    {
      "metadata": {
        "id": "6IW7YdOxpb1T",
        "colab_type": "text"
      },
      "cell_type": "markdown",
      "source": [
        "Here, **[.-]** is a character set. It uses square brackets **[]**. Inside this we can have many characters, but it only matches one charcters."
      ]
    },
    {
      "metadata": {
        "id": "Z5fJPzbmqACr",
        "colab_type": "text"
      },
      "cell_type": "markdown",
      "source": [
        "Now, if we only want to match only 800 or 900 number, we can do something like this."
      ]
    },
    {
      "metadata": {
        "id": "KpFOI75TpY6E",
        "colab_type": "code",
        "colab": {
          "autoexec": {
            "startup": false,
            "wait_interval": 0
          },
          "base_uri": "https://localhost:8080/",
          "height": 51
        },
        "outputId": "2dfeb02f-72db-4224-fcea-42fb0c09b87c",
        "executionInfo": {
          "status": "ok",
          "timestamp": 1528655119909,
          "user_tz": -330,
          "elapsed": 927,
          "user": {
            "displayName": "Debakar Roy",
            "photoUrl": "//lh5.googleusercontent.com/-KwEZ1Z4ZXmE/AAAAAAAAAAI/AAAAAAAAQTA/EmWe2YYRCLo/s50-c-k-no/photo.jpg",
            "userId": "103957503016432867835"
          }
        }
      },
      "cell_type": "code",
      "source": [
        "pattern = re.compile(r'[89]00[.-]\\d\\d\\d[.-]\\d\\d\\d\\d')\n",
        "\n",
        "matches = pattern.finditer(text_to_search)\n",
        "\n",
        "for match in matches:\n",
        "  print(match)"
      ],
      "execution_count": 27,
      "outputs": [
        {
          "output_type": "stream",
          "text": [
            "<_sre.SRE_Match object; span=(195, 207), match='800-555-1234'>\n",
            "<_sre.SRE_Match object; span=(208, 220), match='900-555-1234'>\n"
          ],
          "name": "stdout"
        }
      ]
    },
    {
      "metadata": {
        "id": "WNdxyloRqVRG",
        "colab_type": "text"
      },
      "cell_type": "markdown",
      "source": [
        "Within charcater set the **-** can also be used to specify a range."
      ]
    },
    {
      "metadata": {
        "id": "kBha9Je1qllE",
        "colab_type": "text"
      },
      "cell_type": "markdown",
      "source": [
        "If we want to search only digit 1 to 5 we can write:"
      ]
    },
    {
      "metadata": {
        "id": "qTwweF2zqOu0",
        "colab_type": "code",
        "colab": {
          "autoexec": {
            "startup": false,
            "wait_interval": 0
          },
          "base_uri": "https://localhost:8080/",
          "height": 850
        },
        "outputId": "c12c741f-5bc5-4748-80ac-adb8116c8261",
        "executionInfo": {
          "status": "ok",
          "timestamp": 1528655122211,
          "user_tz": -330,
          "elapsed": 1745,
          "user": {
            "displayName": "Debakar Roy",
            "photoUrl": "//lh5.googleusercontent.com/-KwEZ1Z4ZXmE/AAAAAAAAAAI/AAAAAAAAQTA/EmWe2YYRCLo/s50-c-k-no/photo.jpg",
            "userId": "103957503016432867835"
          }
        }
      },
      "cell_type": "code",
      "source": [
        "pattern = re.compile(r'[1-5]')\n",
        "\n",
        "matches = pattern.finditer(text_to_search)\n",
        "\n",
        "for match in matches:\n",
        "  print(match)"
      ],
      "execution_count": 28,
      "outputs": [
        {
          "output_type": "stream",
          "text": [
            "<_sre.SRE_Match object; span=(55, 56), match='1'>\n",
            "<_sre.SRE_Match object; span=(56, 57), match='2'>\n",
            "<_sre.SRE_Match object; span=(57, 58), match='3'>\n",
            "<_sre.SRE_Match object; span=(58, 59), match='4'>\n",
            "<_sre.SRE_Match object; span=(59, 60), match='5'>\n",
            "<_sre.SRE_Match object; span=(156, 157), match='3'>\n",
            "<_sre.SRE_Match object; span=(157, 158), match='2'>\n",
            "<_sre.SRE_Match object; span=(158, 159), match='1'>\n",
            "<_sre.SRE_Match object; span=(160, 161), match='5'>\n",
            "<_sre.SRE_Match object; span=(161, 162), match='5'>\n",
            "<_sre.SRE_Match object; span=(162, 163), match='5'>\n",
            "<_sre.SRE_Match object; span=(164, 165), match='4'>\n",
            "<_sre.SRE_Match object; span=(165, 166), match='3'>\n",
            "<_sre.SRE_Match object; span=(166, 167), match='2'>\n",
            "<_sre.SRE_Match object; span=(167, 168), match='1'>\n",
            "<_sre.SRE_Match object; span=(169, 170), match='1'>\n",
            "<_sre.SRE_Match object; span=(170, 171), match='2'>\n",
            "<_sre.SRE_Match object; span=(171, 172), match='3'>\n",
            "<_sre.SRE_Match object; span=(173, 174), match='5'>\n",
            "<_sre.SRE_Match object; span=(174, 175), match='5'>\n",
            "<_sre.SRE_Match object; span=(175, 176), match='5'>\n",
            "<_sre.SRE_Match object; span=(177, 178), match='1'>\n",
            "<_sre.SRE_Match object; span=(178, 179), match='2'>\n",
            "<_sre.SRE_Match object; span=(179, 180), match='3'>\n",
            "<_sre.SRE_Match object; span=(180, 181), match='4'>\n",
            "<_sre.SRE_Match object; span=(182, 183), match='1'>\n",
            "<_sre.SRE_Match object; span=(183, 184), match='2'>\n",
            "<_sre.SRE_Match object; span=(184, 185), match='3'>\n",
            "<_sre.SRE_Match object; span=(186, 187), match='5'>\n",
            "<_sre.SRE_Match object; span=(187, 188), match='5'>\n",
            "<_sre.SRE_Match object; span=(188, 189), match='5'>\n",
            "<_sre.SRE_Match object; span=(190, 191), match='1'>\n",
            "<_sre.SRE_Match object; span=(191, 192), match='2'>\n",
            "<_sre.SRE_Match object; span=(192, 193), match='3'>\n",
            "<_sre.SRE_Match object; span=(193, 194), match='4'>\n",
            "<_sre.SRE_Match object; span=(199, 200), match='5'>\n",
            "<_sre.SRE_Match object; span=(200, 201), match='5'>\n",
            "<_sre.SRE_Match object; span=(201, 202), match='5'>\n",
            "<_sre.SRE_Match object; span=(203, 204), match='1'>\n",
            "<_sre.SRE_Match object; span=(204, 205), match='2'>\n",
            "<_sre.SRE_Match object; span=(205, 206), match='3'>\n",
            "<_sre.SRE_Match object; span=(206, 207), match='4'>\n",
            "<_sre.SRE_Match object; span=(212, 213), match='5'>\n",
            "<_sre.SRE_Match object; span=(213, 214), match='5'>\n",
            "<_sre.SRE_Match object; span=(214, 215), match='5'>\n",
            "<_sre.SRE_Match object; span=(216, 217), match='1'>\n",
            "<_sre.SRE_Match object; span=(217, 218), match='2'>\n",
            "<_sre.SRE_Match object; span=(218, 219), match='3'>\n",
            "<_sre.SRE_Match object; span=(219, 220), match='4'>\n"
          ],
          "name": "stdout"
        }
      ]
    },
    {
      "metadata": {
        "id": "kPkAQomFquW0",
        "colab_type": "text"
      },
      "cell_type": "markdown",
      "source": [
        "If we want to search only alphabet a to p we can write:"
      ]
    },
    {
      "metadata": {
        "id": "_B8rFR7fqhlL",
        "colab_type": "code",
        "colab": {
          "autoexec": {
            "startup": false,
            "wait_interval": 0
          },
          "base_uri": "https://localhost:8080/",
          "height": 1224
        },
        "outputId": "cc4e3488-4b31-4149-f152-6819a148acc1",
        "executionInfo": {
          "status": "ok",
          "timestamp": 1528655123418,
          "user_tz": -330,
          "elapsed": 864,
          "user": {
            "displayName": "Debakar Roy",
            "photoUrl": "//lh5.googleusercontent.com/-KwEZ1Z4ZXmE/AAAAAAAAAAI/AAAAAAAAQTA/EmWe2YYRCLo/s50-c-k-no/photo.jpg",
            "userId": "103957503016432867835"
          }
        }
      },
      "cell_type": "code",
      "source": [
        "pattern = re.compile(r'[a-p]')\n",
        "\n",
        "matches = pattern.finditer(text_to_search)\n",
        "\n",
        "for match in matches:\n",
        "  print(match)"
      ],
      "execution_count": 29,
      "outputs": [
        {
          "output_type": "stream",
          "text": [
            "<_sre.SRE_Match object; span=(1, 2), match='a'>\n",
            "<_sre.SRE_Match object; span=(2, 3), match='b'>\n",
            "<_sre.SRE_Match object; span=(3, 4), match='c'>\n",
            "<_sre.SRE_Match object; span=(4, 5), match='d'>\n",
            "<_sre.SRE_Match object; span=(5, 6), match='e'>\n",
            "<_sre.SRE_Match object; span=(6, 7), match='f'>\n",
            "<_sre.SRE_Match object; span=(7, 8), match='g'>\n",
            "<_sre.SRE_Match object; span=(8, 9), match='h'>\n",
            "<_sre.SRE_Match object; span=(9, 10), match='i'>\n",
            "<_sre.SRE_Match object; span=(10, 11), match='j'>\n",
            "<_sre.SRE_Match object; span=(11, 12), match='k'>\n",
            "<_sre.SRE_Match object; span=(12, 13), match='l'>\n",
            "<_sre.SRE_Match object; span=(13, 14), match='m'>\n",
            "<_sre.SRE_Match object; span=(14, 15), match='n'>\n",
            "<_sre.SRE_Match object; span=(15, 16), match='o'>\n",
            "<_sre.SRE_Match object; span=(16, 17), match='p'>\n",
            "<_sre.SRE_Match object; span=(68, 69), match='a'>\n",
            "<_sre.SRE_Match object; span=(71, 72), match='a'>\n",
            "<_sre.SRE_Match object; span=(73, 74), match='a'>\n",
            "<_sre.SRE_Match object; span=(77, 78), match='e'>\n",
            "<_sre.SRE_Match object; span=(79, 80), match='a'>\n",
            "<_sre.SRE_Match object; span=(81, 82), match='h'>\n",
            "<_sre.SRE_Match object; span=(82, 83), match='a'>\n",
            "<_sre.SRE_Match object; span=(84, 85), match='a'>\n",
            "<_sre.SRE_Match object; span=(85, 86), match='c'>\n",
            "<_sre.SRE_Match object; span=(87, 88), match='e'>\n",
            "<_sre.SRE_Match object; span=(93, 94), match='e'>\n",
            "<_sre.SRE_Match object; span=(94, 95), match='e'>\n",
            "<_sre.SRE_Match object; span=(95, 96), match='d'>\n",
            "<_sre.SRE_Match object; span=(98, 99), match='o'>\n",
            "<_sre.SRE_Match object; span=(100, 101), match='b'>\n",
            "<_sre.SRE_Match object; span=(101, 102), match='e'>\n",
            "<_sre.SRE_Match object; span=(103, 104), match='e'>\n",
            "<_sre.SRE_Match object; span=(105, 106), match='c'>\n",
            "<_sre.SRE_Match object; span=(106, 107), match='a'>\n",
            "<_sre.SRE_Match object; span=(107, 108), match='p'>\n",
            "<_sre.SRE_Match object; span=(108, 109), match='e'>\n",
            "<_sre.SRE_Match object; span=(109, 110), match='d'>\n",
            "<_sre.SRE_Match object; span=(143, 144), match='e'>\n",
            "<_sre.SRE_Match object; span=(145, 146), match='a'>\n",
            "<_sre.SRE_Match object; span=(146, 147), match='m'>\n",
            "<_sre.SRE_Match object; span=(147, 148), match='p'>\n",
            "<_sre.SRE_Match object; span=(148, 149), match='l'>\n",
            "<_sre.SRE_Match object; span=(149, 150), match='e'>\n",
            "<_sre.SRE_Match object; span=(151, 152), match='c'>\n",
            "<_sre.SRE_Match object; span=(152, 153), match='o'>\n",
            "<_sre.SRE_Match object; span=(153, 154), match='m'>\n",
            "<_sre.SRE_Match object; span=(227, 228), match='c'>\n",
            "<_sre.SRE_Match object; span=(228, 229), match='h'>\n",
            "<_sre.SRE_Match object; span=(229, 230), match='a'>\n",
            "<_sre.SRE_Match object; span=(230, 231), match='f'>\n",
            "<_sre.SRE_Match object; span=(231, 232), match='e'>\n",
            "<_sre.SRE_Match object; span=(238, 239), match='m'>\n",
            "<_sre.SRE_Match object; span=(239, 240), match='i'>\n",
            "<_sre.SRE_Match object; span=(241, 242), match='h'>\n",
            "<_sre.SRE_Match object; span=(247, 248), match='a'>\n",
            "<_sre.SRE_Match object; span=(249, 250), match='i'>\n",
            "<_sre.SRE_Match object; span=(258, 259), match='o'>\n",
            "<_sre.SRE_Match object; span=(259, 260), match='b'>\n",
            "<_sre.SRE_Match object; span=(260, 261), match='i'>\n",
            "<_sre.SRE_Match object; span=(261, 262), match='n'>\n",
            "<_sre.SRE_Match object; span=(263, 264), match='o'>\n",
            "<_sre.SRE_Match object; span=(264, 265), match='n'>\n",
            "<_sre.SRE_Match object; span=(273, 274), match='c'>\n",
            "<_sre.SRE_Match object; span=(274, 275), match='a'>\n",
            "<_sre.SRE_Match object; span=(277, 278), match='m'>\n",
            "<_sre.SRE_Match object; span=(278, 279), match='a'>\n",
            "<_sre.SRE_Match object; span=(281, 282), match='p'>\n",
            "<_sre.SRE_Match object; span=(282, 283), match='a'>\n",
            "<_sre.SRE_Match object; span=(285, 286), match='b'>\n",
            "<_sre.SRE_Match object; span=(286, 287), match='a'>\n"
          ],
          "name": "stdout"
        }
      ]
    },
    {
      "metadata": {
        "id": "zDoFVLyh-OvR",
        "colab_type": "text"
      },
      "cell_type": "markdown",
      "source": [
        "#### [] with ^"
      ]
    },
    {
      "metadata": {
        "id": "CnXpKUHWq071",
        "colab_type": "text"
      },
      "cell_type": "markdown",
      "source": [
        "Now if we want to search anything which does not match say anyhting between **a to z** or **A to Z**, then we can use **^** inside the character set."
      ]
    },
    {
      "metadata": {
        "id": "XPmshAgJrOEO",
        "colab_type": "code",
        "colab": {
          "autoexec": {
            "startup": false,
            "wait_interval": 0
          },
          "base_uri": "https://localhost:8080/",
          "height": 2448
        },
        "outputId": "364875bd-8051-47da-d330-0ef6e56fbaa5",
        "executionInfo": {
          "status": "ok",
          "timestamp": 1528655125418,
          "user_tz": -330,
          "elapsed": 1208,
          "user": {
            "displayName": "Debakar Roy",
            "photoUrl": "//lh5.googleusercontent.com/-KwEZ1Z4ZXmE/AAAAAAAAAAI/AAAAAAAAQTA/EmWe2YYRCLo/s50-c-k-no/photo.jpg",
            "userId": "103957503016432867835"
          }
        }
      },
      "cell_type": "code",
      "source": [
        "pattern = re.compile(r'[^a-zA-Z]')\n",
        "\n",
        "matches = pattern.finditer(text_to_search)\n",
        "\n",
        "for match in matches:\n",
        "  print(match)"
      ],
      "execution_count": 30,
      "outputs": [
        {
          "output_type": "stream",
          "text": [
            "<_sre.SRE_Match object; span=(0, 1), match='\\n'>\n",
            "<_sre.SRE_Match object; span=(27, 28), match='\\n'>\n",
            "<_sre.SRE_Match object; span=(54, 55), match='\\n'>\n",
            "<_sre.SRE_Match object; span=(55, 56), match='1'>\n",
            "<_sre.SRE_Match object; span=(56, 57), match='2'>\n",
            "<_sre.SRE_Match object; span=(57, 58), match='3'>\n",
            "<_sre.SRE_Match object; span=(58, 59), match='4'>\n",
            "<_sre.SRE_Match object; span=(59, 60), match='5'>\n",
            "<_sre.SRE_Match object; span=(60, 61), match='6'>\n",
            "<_sre.SRE_Match object; span=(61, 62), match='7'>\n",
            "<_sre.SRE_Match object; span=(62, 63), match='8'>\n",
            "<_sre.SRE_Match object; span=(63, 64), match='9'>\n",
            "<_sre.SRE_Match object; span=(64, 65), match='0'>\n",
            "<_sre.SRE_Match object; span=(65, 66), match='\\n'>\n",
            "<_sre.SRE_Match object; span=(66, 67), match='\\n'>\n",
            "<_sre.SRE_Match object; span=(69, 70), match=' '>\n",
            "<_sre.SRE_Match object; span=(74, 75), match='\\n'>\n",
            "<_sre.SRE_Match object; span=(75, 76), match='\\n'>\n",
            "<_sre.SRE_Match object; span=(90, 91), match=' '>\n",
            "<_sre.SRE_Match object; span=(91, 92), match='('>\n",
            "<_sre.SRE_Match object; span=(96, 97), match=' '>\n",
            "<_sre.SRE_Match object; span=(99, 100), match=' '>\n",
            "<_sre.SRE_Match object; span=(102, 103), match=' '>\n",
            "<_sre.SRE_Match object; span=(110, 111), match=')'>\n",
            "<_sre.SRE_Match object; span=(111, 112), match=':'>\n",
            "<_sre.SRE_Match object; span=(112, 113), match='\\n'>\n",
            "<_sre.SRE_Match object; span=(113, 114), match='\\n'>\n",
            "<_sre.SRE_Match object; span=(114, 115), match='.'>\n",
            "<_sre.SRE_Match object; span=(115, 116), match=' '>\n",
            "<_sre.SRE_Match object; span=(116, 117), match='^'>\n",
            "<_sre.SRE_Match object; span=(117, 118), match=' '>\n",
            "<_sre.SRE_Match object; span=(118, 119), match='$'>\n",
            "<_sre.SRE_Match object; span=(119, 120), match=' '>\n",
            "<_sre.SRE_Match object; span=(120, 121), match='*'>\n",
            "<_sre.SRE_Match object; span=(121, 122), match=' '>\n",
            "<_sre.SRE_Match object; span=(122, 123), match='+'>\n",
            "<_sre.SRE_Match object; span=(123, 124), match=' '>\n",
            "<_sre.SRE_Match object; span=(124, 125), match='?'>\n",
            "<_sre.SRE_Match object; span=(125, 126), match=' '>\n",
            "<_sre.SRE_Match object; span=(126, 127), match='{'>\n",
            "<_sre.SRE_Match object; span=(127, 128), match=' '>\n",
            "<_sre.SRE_Match object; span=(128, 129), match='}'>\n",
            "<_sre.SRE_Match object; span=(129, 130), match=' '>\n",
            "<_sre.SRE_Match object; span=(130, 131), match='['>\n",
            "<_sre.SRE_Match object; span=(131, 132), match=' '>\n",
            "<_sre.SRE_Match object; span=(132, 133), match=']'>\n",
            "<_sre.SRE_Match object; span=(133, 134), match=' '>\n",
            "<_sre.SRE_Match object; span=(134, 135), match='\\\\'>\n",
            "<_sre.SRE_Match object; span=(135, 136), match=' '>\n",
            "<_sre.SRE_Match object; span=(136, 137), match='|'>\n",
            "<_sre.SRE_Match object; span=(137, 138), match=' '>\n",
            "<_sre.SRE_Match object; span=(138, 139), match='('>\n",
            "<_sre.SRE_Match object; span=(139, 140), match=' '>\n",
            "<_sre.SRE_Match object; span=(140, 141), match=')'>\n",
            "<_sre.SRE_Match object; span=(141, 142), match='\\n'>\n",
            "<_sre.SRE_Match object; span=(142, 143), match='\\n'>\n",
            "<_sre.SRE_Match object; span=(150, 151), match='.'>\n",
            "<_sre.SRE_Match object; span=(154, 155), match='\\n'>\n",
            "<_sre.SRE_Match object; span=(155, 156), match='\\n'>\n",
            "<_sre.SRE_Match object; span=(156, 157), match='3'>\n",
            "<_sre.SRE_Match object; span=(157, 158), match='2'>\n",
            "<_sre.SRE_Match object; span=(158, 159), match='1'>\n",
            "<_sre.SRE_Match object; span=(159, 160), match='-'>\n",
            "<_sre.SRE_Match object; span=(160, 161), match='5'>\n",
            "<_sre.SRE_Match object; span=(161, 162), match='5'>\n",
            "<_sre.SRE_Match object; span=(162, 163), match='5'>\n",
            "<_sre.SRE_Match object; span=(163, 164), match='-'>\n",
            "<_sre.SRE_Match object; span=(164, 165), match='4'>\n",
            "<_sre.SRE_Match object; span=(165, 166), match='3'>\n",
            "<_sre.SRE_Match object; span=(166, 167), match='2'>\n",
            "<_sre.SRE_Match object; span=(167, 168), match='1'>\n",
            "<_sre.SRE_Match object; span=(168, 169), match='\\n'>\n",
            "<_sre.SRE_Match object; span=(169, 170), match='1'>\n",
            "<_sre.SRE_Match object; span=(170, 171), match='2'>\n",
            "<_sre.SRE_Match object; span=(171, 172), match='3'>\n",
            "<_sre.SRE_Match object; span=(172, 173), match='.'>\n",
            "<_sre.SRE_Match object; span=(173, 174), match='5'>\n",
            "<_sre.SRE_Match object; span=(174, 175), match='5'>\n",
            "<_sre.SRE_Match object; span=(175, 176), match='5'>\n",
            "<_sre.SRE_Match object; span=(176, 177), match='.'>\n",
            "<_sre.SRE_Match object; span=(177, 178), match='1'>\n",
            "<_sre.SRE_Match object; span=(178, 179), match='2'>\n",
            "<_sre.SRE_Match object; span=(179, 180), match='3'>\n",
            "<_sre.SRE_Match object; span=(180, 181), match='4'>\n",
            "<_sre.SRE_Match object; span=(181, 182), match='\\n'>\n",
            "<_sre.SRE_Match object; span=(182, 183), match='1'>\n",
            "<_sre.SRE_Match object; span=(183, 184), match='2'>\n",
            "<_sre.SRE_Match object; span=(184, 185), match='3'>\n",
            "<_sre.SRE_Match object; span=(185, 186), match='*'>\n",
            "<_sre.SRE_Match object; span=(186, 187), match='5'>\n",
            "<_sre.SRE_Match object; span=(187, 188), match='5'>\n",
            "<_sre.SRE_Match object; span=(188, 189), match='5'>\n",
            "<_sre.SRE_Match object; span=(189, 190), match='*'>\n",
            "<_sre.SRE_Match object; span=(190, 191), match='1'>\n",
            "<_sre.SRE_Match object; span=(191, 192), match='2'>\n",
            "<_sre.SRE_Match object; span=(192, 193), match='3'>\n",
            "<_sre.SRE_Match object; span=(193, 194), match='4'>\n",
            "<_sre.SRE_Match object; span=(194, 195), match='\\n'>\n",
            "<_sre.SRE_Match object; span=(195, 196), match='8'>\n",
            "<_sre.SRE_Match object; span=(196, 197), match='0'>\n",
            "<_sre.SRE_Match object; span=(197, 198), match='0'>\n",
            "<_sre.SRE_Match object; span=(198, 199), match='-'>\n",
            "<_sre.SRE_Match object; span=(199, 200), match='5'>\n",
            "<_sre.SRE_Match object; span=(200, 201), match='5'>\n",
            "<_sre.SRE_Match object; span=(201, 202), match='5'>\n",
            "<_sre.SRE_Match object; span=(202, 203), match='-'>\n",
            "<_sre.SRE_Match object; span=(203, 204), match='1'>\n",
            "<_sre.SRE_Match object; span=(204, 205), match='2'>\n",
            "<_sre.SRE_Match object; span=(205, 206), match='3'>\n",
            "<_sre.SRE_Match object; span=(206, 207), match='4'>\n",
            "<_sre.SRE_Match object; span=(207, 208), match='\\n'>\n",
            "<_sre.SRE_Match object; span=(208, 209), match='9'>\n",
            "<_sre.SRE_Match object; span=(209, 210), match='0'>\n",
            "<_sre.SRE_Match object; span=(210, 211), match='0'>\n",
            "<_sre.SRE_Match object; span=(211, 212), match='-'>\n",
            "<_sre.SRE_Match object; span=(212, 213), match='5'>\n",
            "<_sre.SRE_Match object; span=(213, 214), match='5'>\n",
            "<_sre.SRE_Match object; span=(214, 215), match='5'>\n",
            "<_sre.SRE_Match object; span=(215, 216), match='-'>\n",
            "<_sre.SRE_Match object; span=(216, 217), match='1'>\n",
            "<_sre.SRE_Match object; span=(217, 218), match='2'>\n",
            "<_sre.SRE_Match object; span=(218, 219), match='3'>\n",
            "<_sre.SRE_Match object; span=(219, 220), match='4'>\n",
            "<_sre.SRE_Match object; span=(220, 221), match='\\n'>\n",
            "<_sre.SRE_Match object; span=(221, 222), match='\\n'>\n",
            "<_sre.SRE_Match object; span=(224, 225), match='.'>\n",
            "<_sre.SRE_Match object; span=(225, 226), match=' '>\n",
            "<_sre.SRE_Match object; span=(233, 234), match='\\n'>\n",
            "<_sre.SRE_Match object; span=(236, 237), match=' '>\n",
            "<_sre.SRE_Match object; span=(242, 243), match='\\n'>\n",
            "<_sre.SRE_Match object; span=(245, 246), match=' '>\n",
            "<_sre.SRE_Match object; span=(251, 252), match='\\n'>\n",
            "<_sre.SRE_Match object; span=(255, 256), match='.'>\n",
            "<_sre.SRE_Match object; span=(256, 257), match=' '>\n",
            "<_sre.SRE_Match object; span=(265, 266), match='\\n'>\n",
            "<_sre.SRE_Match object; span=(268, 269), match='.'>\n",
            "<_sre.SRE_Match object; span=(269, 270), match=' '>\n",
            "<_sre.SRE_Match object; span=(271, 272), match='\\n'>\n",
            "<_sre.SRE_Match object; span=(272, 273), match='\\n'>\n",
            "<_sre.SRE_Match object; span=(276, 277), match='\\n'>\n",
            "<_sre.SRE_Match object; span=(280, 281), match='\\n'>\n",
            "<_sre.SRE_Match object; span=(284, 285), match='\\n'>\n",
            "<_sre.SRE_Match object; span=(288, 289), match='\\n'>\n"
          ],
          "name": "stdout"
        }
      ]
    },
    {
      "metadata": {
        "id": "NFDrjsgrr-tD",
        "colab_type": "text"
      },
      "cell_type": "markdown",
      "source": [
        "Now if we want to search a 3 letter word which have a ending **at** but not begin with **b**. \n",
        "So we wan to have somthing like this\n",
        "\n",
        "...\n",
        "**cat**\n",
        "\n",
        "**mat**\n",
        "\n",
        "**pat**\n",
        "\n",
        "bat\n",
        "...\n",
        "\n",
        "We can do something like this:"
      ]
    },
    {
      "metadata": {
        "id": "y1p65BIirXNo",
        "colab_type": "code",
        "colab": {
          "autoexec": {
            "startup": false,
            "wait_interval": 0
          },
          "base_uri": "https://localhost:8080/",
          "height": 68
        },
        "outputId": "faa7ec44-f589-407a-c975-14df1c236753",
        "executionInfo": {
          "status": "ok",
          "timestamp": 1528655126555,
          "user_tz": -330,
          "elapsed": 770,
          "user": {
            "displayName": "Debakar Roy",
            "photoUrl": "//lh5.googleusercontent.com/-KwEZ1Z4ZXmE/AAAAAAAAAAI/AAAAAAAAQTA/EmWe2YYRCLo/s50-c-k-no/photo.jpg",
            "userId": "103957503016432867835"
          }
        }
      },
      "cell_type": "code",
      "source": [
        "pattern = re.compile(r'[^b]at')\n",
        "\n",
        "matches = pattern.finditer(text_to_search)\n",
        "\n",
        "for match in matches:\n",
        "  print(match)"
      ],
      "execution_count": 31,
      "outputs": [
        {
          "output_type": "stream",
          "text": [
            "<_sre.SRE_Match object; span=(273, 276), match='cat'>\n",
            "<_sre.SRE_Match object; span=(277, 280), match='mat'>\n",
            "<_sre.SRE_Match object; span=(281, 284), match='pat'>\n"
          ],
          "name": "stdout"
        }
      ]
    },
    {
      "metadata": {
        "id": "nM8cVwsnstLx",
        "colab_type": "text"
      },
      "cell_type": "markdown",
      "source": [
        "### Quantifiers"
      ]
    },
    {
      "metadata": {
        "id": "hO5p0XsxswCe",
        "colab_type": "text"
      },
      "cell_type": "markdown",
      "source": [
        "```\n",
        "*       - 0 or More\n",
        "+       - 1 or More\n",
        "?       - 0 or One\n",
        "{3}     - Exact Number\n",
        "{3,4}   - Range of Numbers (Minimum, Maximum)\n",
        "```"
      ]
    },
    {
      "metadata": {
        "id": "Blh1syal_FEg",
        "colab_type": "text"
      },
      "cell_type": "markdown",
      "source": [
        "#### regex on Phone Numbers"
      ]
    },
    {
      "metadata": {
        "id": "N2g2MUdXs9NQ",
        "colab_type": "text"
      },
      "cell_type": "markdown",
      "source": [
        "So for phone number we can use exact number quantifier."
      ]
    },
    {
      "metadata": {
        "id": "80Byuk-Q-ZMX",
        "colab_type": "text"
      },
      "cell_type": "markdown",
      "source": [
        "#### {}"
      ]
    },
    {
      "metadata": {
        "id": "AYfEtxtjspLZ",
        "colab_type": "code",
        "colab": {
          "autoexec": {
            "startup": false,
            "wait_interval": 0
          },
          "base_uri": "https://localhost:8080/",
          "height": 85
        },
        "outputId": "7288f0ad-64a0-4ff7-be5a-46a51c57055b",
        "executionInfo": {
          "status": "ok",
          "timestamp": 1528655128085,
          "user_tz": -330,
          "elapsed": 1218,
          "user": {
            "displayName": "Debakar Roy",
            "photoUrl": "//lh5.googleusercontent.com/-KwEZ1Z4ZXmE/AAAAAAAAAAI/AAAAAAAAQTA/EmWe2YYRCLo/s50-c-k-no/photo.jpg",
            "userId": "103957503016432867835"
          }
        }
      },
      "cell_type": "code",
      "source": [
        "pattern = re.compile(r'\\d{3}[.-]\\d{3}[.-]\\d{4}')\n",
        "\n",
        "matches = pattern.finditer(text_to_search)\n",
        "\n",
        "for match in matches:\n",
        "  print(match)"
      ],
      "execution_count": 32,
      "outputs": [
        {
          "output_type": "stream",
          "text": [
            "<_sre.SRE_Match object; span=(156, 168), match='321-555-4321'>\n",
            "<_sre.SRE_Match object; span=(169, 181), match='123.555.1234'>\n",
            "<_sre.SRE_Match object; span=(195, 207), match='800-555-1234'>\n",
            "<_sre.SRE_Match object; span=(208, 220), match='900-555-1234'>\n"
          ],
          "name": "stdout"
        }
      ]
    },
    {
      "metadata": {
        "id": "GEHsa9NetW9t",
        "colab_type": "text"
      },
      "cell_type": "markdown",
      "source": [
        "Now, let's try to match the Mr name in the very bottom of text_to_search"
      ]
    },
    {
      "metadata": {
        "id": "YBG0791J-eu0",
        "colab_type": "text"
      },
      "cell_type": "markdown",
      "source": [
        "#### \\*, + and ?"
      ]
    },
    {
      "metadata": {
        "id": "Ku303fJKtPpN",
        "colab_type": "code",
        "colab": {
          "autoexec": {
            "startup": false,
            "wait_interval": 0
          },
          "base_uri": "https://localhost:8080/",
          "height": 68
        },
        "outputId": "6ae52d42-b057-4dba-ac29-a6224c8bbecd",
        "executionInfo": {
          "status": "ok",
          "timestamp": 1528655129946,
          "user_tz": -330,
          "elapsed": 1453,
          "user": {
            "displayName": "Debakar Roy",
            "photoUrl": "//lh5.googleusercontent.com/-KwEZ1Z4ZXmE/AAAAAAAAAAI/AAAAAAAAQTA/EmWe2YYRCLo/s50-c-k-no/photo.jpg",
            "userId": "103957503016432867835"
          }
        }
      },
      "cell_type": "code",
      "source": [
        "pattern = re.compile(r'Mr\\.?\\s[A-Z]\\w*')\n",
        "\n",
        "matches = pattern.finditer(text_to_search)\n",
        "\n",
        "for match in matches:\n",
        "  print(match)"
      ],
      "execution_count": 33,
      "outputs": [
        {
          "output_type": "stream",
          "text": [
            "<_sre.SRE_Match object; span=(222, 233), match='Mr. Schafer'>\n",
            "<_sre.SRE_Match object; span=(234, 242), match='Mr Smith'>\n",
            "<_sre.SRE_Match object; span=(266, 271), match='Mr. T'>\n"
          ],
          "name": "stdout"
        }
      ]
    },
    {
      "metadata": {
        "id": "HdKhPJVatuTR",
        "colab_type": "text"
      },
      "cell_type": "markdown",
      "source": [
        "Here, **?** after **\\\\.** is a quantifier specifying that we want 0 or One **.** after **Mr**\n",
        "\n",
        "Also **\\*** after **\\\\w** is a quantifier specifying that we want 0 or more character after the first initial of the Name."
      ]
    },
    {
      "metadata": {
        "id": "X17V5yfzulOb",
        "colab_type": "text"
      },
      "cell_type": "markdown",
      "source": [
        "Now to match all the names we can do something like this:"
      ]
    },
    {
      "metadata": {
        "id": "6qvFdq4Ktr56",
        "colab_type": "code",
        "colab": {
          "autoexec": {
            "startup": false,
            "wait_interval": 0
          },
          "base_uri": "https://localhost:8080/",
          "height": 102
        },
        "outputId": "43290716-72a8-4018-b67a-9ad35fab3993",
        "executionInfo": {
          "status": "ok",
          "timestamp": 1528655132177,
          "user_tz": -330,
          "elapsed": 1653,
          "user": {
            "displayName": "Debakar Roy",
            "photoUrl": "//lh5.googleusercontent.com/-KwEZ1Z4ZXmE/AAAAAAAAAAI/AAAAAAAAQTA/EmWe2YYRCLo/s50-c-k-no/photo.jpg",
            "userId": "103957503016432867835"
          }
        }
      },
      "cell_type": "code",
      "source": [
        "pattern = re.compile(r'M(r|s|rs)\\.?\\s[A-Z]\\w*')\n",
        "\n",
        "matches = pattern.finditer(text_to_search)\n",
        "\n",
        "for match in matches:\n",
        "  print(match)"
      ],
      "execution_count": 34,
      "outputs": [
        {
          "output_type": "stream",
          "text": [
            "<_sre.SRE_Match object; span=(222, 233), match='Mr. Schafer'>\n",
            "<_sre.SRE_Match object; span=(234, 242), match='Mr Smith'>\n",
            "<_sre.SRE_Match object; span=(243, 251), match='Ms Davis'>\n",
            "<_sre.SRE_Match object; span=(252, 265), match='Mrs. Robinson'>\n",
            "<_sre.SRE_Match object; span=(266, 271), match='Mr. T'>\n"
          ],
          "name": "stdout"
        }
      ]
    },
    {
      "metadata": {
        "id": "2p6GwRjau0bn",
        "colab_type": "text"
      },
      "cell_type": "markdown",
      "source": [
        "Here **(r|s|rs)** denotes a group. It allow us to match several different pattern. Here **|** represent **or**. So it says, **M** followed by either **r**, or **s** or **rs**."
      ]
    },
    {
      "metadata": {
        "id": "tJnwWxcjvgsl",
        "colab_type": "text"
      },
      "cell_type": "markdown",
      "source": [
        "Now let's try to implement everything we learn so far by matching emails"
      ]
    },
    {
      "metadata": {
        "id": "dKN4FXpqux62",
        "colab_type": "code",
        "colab": {
          "autoexec": {
            "startup": false,
            "wait_interval": 0
          }
        }
      },
      "cell_type": "code",
      "source": [
        "emails = '''\n",
        "ExampleMail@gmail.com\n",
        "example.mail@university.edu\n",
        "example-321-mail@my-work.net\n",
        "'''"
      ],
      "execution_count": 0,
      "outputs": []
    },
    {
      "metadata": {
        "id": "Zk_243a-v0GE",
        "colab_type": "text"
      },
      "cell_type": "markdown",
      "source": [
        "Let's try to match the firat email. It seams simple. We just need to match alphabets before **@** and the again alphabets till **.** followed by **com**."
      ]
    },
    {
      "metadata": {
        "id": "ZzxpEPUhvo8k",
        "colab_type": "code",
        "colab": {
          "autoexec": {
            "startup": false,
            "wait_interval": 0
          },
          "base_uri": "https://localhost:8080/",
          "height": 34
        },
        "outputId": "d3a8fa54-7263-4728-962f-153ea7947160",
        "executionInfo": {
          "status": "ok",
          "timestamp": 1528655134624,
          "user_tz": -330,
          "elapsed": 816,
          "user": {
            "displayName": "Debakar Roy",
            "photoUrl": "//lh5.googleusercontent.com/-KwEZ1Z4ZXmE/AAAAAAAAAAI/AAAAAAAAQTA/EmWe2YYRCLo/s50-c-k-no/photo.jpg",
            "userId": "103957503016432867835"
          }
        }
      },
      "cell_type": "code",
      "source": [
        "pattern = re.compile(r'[a-zA-Z]+@[a-zA-Z]+\\.com')\n",
        "\n",
        "matches = pattern.finditer(emails)\n",
        "\n",
        "for match in matches:\n",
        "  print(match)"
      ],
      "execution_count": 36,
      "outputs": [
        {
          "output_type": "stream",
          "text": [
            "<_sre.SRE_Match object; span=(1, 22), match='ExampleMail@gmail.com'>\n"
          ],
          "name": "stdout"
        }
      ]
    },
    {
      "metadata": {
        "id": "aScRKJDmxyy_",
        "colab_type": "text"
      },
      "cell_type": "markdown",
      "source": [
        "Here **+** after each **[a-zA-Z]** is a qauntifier specifying that we need one or more alphabets."
      ]
    },
    {
      "metadata": {
        "id": "xALcGokrwx_9",
        "colab_type": "text"
      },
      "cell_type": "markdown",
      "source": [
        "To match the second one, we have to include **.** in between alphabet befor **@** and **edu** at the very end."
      ]
    },
    {
      "metadata": {
        "id": "cwvDgCFZwj6S",
        "colab_type": "code",
        "colab": {
          "autoexec": {
            "startup": false,
            "wait_interval": 0
          },
          "base_uri": "https://localhost:8080/",
          "height": 51
        },
        "outputId": "fd2de8b1-74b2-42ce-e82e-e4c4ecfe66ce",
        "executionInfo": {
          "status": "ok",
          "timestamp": 1528655136495,
          "user_tz": -330,
          "elapsed": 1425,
          "user": {
            "displayName": "Debakar Roy",
            "photoUrl": "//lh5.googleusercontent.com/-KwEZ1Z4ZXmE/AAAAAAAAAAI/AAAAAAAAQTA/EmWe2YYRCLo/s50-c-k-no/photo.jpg",
            "userId": "103957503016432867835"
          }
        }
      },
      "cell_type": "code",
      "source": [
        "pattern = re.compile(r'[a-zA-Z.]+@[a-zA-Z]+\\.(com|edu)')\n",
        "\n",
        "matches = pattern.finditer(emails)\n",
        "\n",
        "for match in matches:\n",
        "  print(match)"
      ],
      "execution_count": 37,
      "outputs": [
        {
          "output_type": "stream",
          "text": [
            "<_sre.SRE_Match object; span=(1, 22), match='ExampleMail@gmail.com'>\n",
            "<_sre.SRE_Match object; span=(23, 50), match='example.mail@university.edu'>\n"
          ],
          "name": "stdout"
        }
      ]
    },
    {
      "metadata": {
        "id": "WTvizxgfxEbf",
        "colab_type": "text"
      },
      "cell_type": "markdown",
      "source": [
        "To match the last one we need to include **-** and **digits** along alphabet and period before **@** also wee need to include **-** between **@** and **.** and lastly we need to have **net** at the end."
      ]
    },
    {
      "metadata": {
        "id": "qnaOlyCuxCSa",
        "colab_type": "code",
        "colab": {
          "autoexec": {
            "startup": false,
            "wait_interval": 0
          },
          "base_uri": "https://localhost:8080/",
          "height": 68
        },
        "outputId": "f719b31b-088c-49f9-eaaa-126df86819d0",
        "executionInfo": {
          "status": "ok",
          "timestamp": 1528655137705,
          "user_tz": -330,
          "elapsed": 889,
          "user": {
            "displayName": "Debakar Roy",
            "photoUrl": "//lh5.googleusercontent.com/-KwEZ1Z4ZXmE/AAAAAAAAAAI/AAAAAAAAQTA/EmWe2YYRCLo/s50-c-k-no/photo.jpg",
            "userId": "103957503016432867835"
          }
        }
      },
      "cell_type": "code",
      "source": [
        "pattern = re.compile(r'[a-zA-Z0-9.-]+@[a-zA-Z-]+\\.(com|edu|net)')\n",
        "\n",
        "matches = pattern.finditer(emails)\n",
        "\n",
        "for match in matches:\n",
        "  print(match)"
      ],
      "execution_count": 38,
      "outputs": [
        {
          "output_type": "stream",
          "text": [
            "<_sre.SRE_Match object; span=(1, 22), match='ExampleMail@gmail.com'>\n",
            "<_sre.SRE_Match object; span=(23, 50), match='example.mail@university.edu'>\n",
            "<_sre.SRE_Match object; span=(51, 79), match='example-321-mail@my-work.net'>\n"
          ],
          "name": "stdout"
        }
      ]
    },
    {
      "metadata": {
        "id": "IcVilP-d-2RJ",
        "colab_type": "text"
      },
      "cell_type": "markdown",
      "source": [
        "#### regex on url"
      ]
    },
    {
      "metadata": {
        "id": "LjIR_zR_yWJ_",
        "colab_type": "text"
      },
      "cell_type": "markdown",
      "source": [
        "Now, fo anothe practicle example let's try to get useful information out of urls"
      ]
    },
    {
      "metadata": {
        "id": "SJZZQ062xbN2",
        "colab_type": "code",
        "colab": {
          "autoexec": {
            "startup": false,
            "wait_interval": 0
          }
        }
      },
      "cell_type": "code",
      "source": [
        "urls = '''\n",
        "https://www.google.com\n",
        "http://example.com\n",
        "https://youtube.com\n",
        "https://www.nasa.gov\n",
        "'''"
      ],
      "execution_count": 0,
      "outputs": []
    },
    {
      "metadata": {
        "id": "Pfkh4sIVylfi",
        "colab_type": "text"
      },
      "cell_type": "markdown",
      "source": [
        "What we need is just the domain name(**google**, **youtube** etc) and the top level domain (**.com**, **.net**, **.edu** etc)."
      ]
    },
    {
      "metadata": {
        "id": "kSK2D7CoyjaN",
        "colab_type": "code",
        "colab": {
          "autoexec": {
            "startup": false,
            "wait_interval": 0
          },
          "base_uri": "https://localhost:8080/",
          "height": 85
        },
        "outputId": "04c1e23d-755a-4d3f-9304-250585d5494f",
        "executionInfo": {
          "status": "ok",
          "timestamp": 1528655140018,
          "user_tz": -330,
          "elapsed": 675,
          "user": {
            "displayName": "Debakar Roy",
            "photoUrl": "//lh5.googleusercontent.com/-KwEZ1Z4ZXmE/AAAAAAAAAAI/AAAAAAAAQTA/EmWe2YYRCLo/s50-c-k-no/photo.jpg",
            "userId": "103957503016432867835"
          }
        }
      },
      "cell_type": "code",
      "source": [
        "pattern = re.compile(r'https?://(www\\.)?\\w+\\.\\w+')\n",
        "\n",
        "matches = pattern.finditer(urls)\n",
        "\n",
        "for match in matches:\n",
        "  print(match)"
      ],
      "execution_count": 40,
      "outputs": [
        {
          "output_type": "stream",
          "text": [
            "<_sre.SRE_Match object; span=(1, 23), match='https://www.google.com'>\n",
            "<_sre.SRE_Match object; span=(24, 42), match='http://example.com'>\n",
            "<_sre.SRE_Match object; span=(43, 62), match='https://youtube.com'>\n",
            "<_sre.SRE_Match object; span=(63, 83), match='https://www.nasa.gov'>\n"
          ],
          "name": "stdout"
        }
      ]
    },
    {
      "metadata": {
        "id": "ZWIrtaKnzgYC",
        "colab_type": "text"
      },
      "cell_type": "markdown",
      "source": [
        "But this is not what we want. Here, we can use group to have seperate domain name and top level domain."
      ]
    },
    {
      "metadata": {
        "id": "xox5PxyuzG6P",
        "colab_type": "code",
        "colab": {
          "autoexec": {
            "startup": false,
            "wait_interval": 0
          },
          "base_uri": "https://localhost:8080/",
          "height": 85
        },
        "outputId": "c989c21c-e4dc-4bcb-cc14-c9aa640c095a",
        "executionInfo": {
          "status": "ok",
          "timestamp": 1528655141297,
          "user_tz": -330,
          "elapsed": 873,
          "user": {
            "displayName": "Debakar Roy",
            "photoUrl": "//lh5.googleusercontent.com/-KwEZ1Z4ZXmE/AAAAAAAAAAI/AAAAAAAAQTA/EmWe2YYRCLo/s50-c-k-no/photo.jpg",
            "userId": "103957503016432867835"
          }
        }
      },
      "cell_type": "code",
      "source": [
        "pattern = re.compile(r'https?://(www\\.)?(\\w+)(\\.\\w+)')\n",
        "\n",
        "matches = pattern.finditer(urls)\n",
        "\n",
        "for match in matches:\n",
        "  print(match)"
      ],
      "execution_count": 41,
      "outputs": [
        {
          "output_type": "stream",
          "text": [
            "<_sre.SRE_Match object; span=(1, 23), match='https://www.google.com'>\n",
            "<_sre.SRE_Match object; span=(24, 42), match='http://example.com'>\n",
            "<_sre.SRE_Match object; span=(43, 62), match='https://youtube.com'>\n",
            "<_sre.SRE_Match object; span=(63, 83), match='https://www.nasa.gov'>\n"
          ],
          "name": "stdout"
        }
      ]
    },
    {
      "metadata": {
        "id": "SzOZMMkxzyrU",
        "colab_type": "text"
      },
      "cell_type": "markdown",
      "source": [
        "Here **(www\\.)** is Group 1, **(\\w+)** is Group 2, and **(\\.\\w+)** is Group 3. Also we have a Group 0, which is every match we found."
      ]
    },
    {
      "metadata": {
        "id": "iqoZNlax0MmP",
        "colab_type": "text"
      },
      "cell_type": "markdown",
      "source": [
        "Now to find the group we can just pass the index of the group. Like if we want to print group 0, we can do something like this:"
      ]
    },
    {
      "metadata": {
        "id": "Fd_VmYLDzwwC",
        "colab_type": "code",
        "colab": {
          "autoexec": {
            "startup": false,
            "wait_interval": 0
          },
          "base_uri": "https://localhost:8080/",
          "height": 85
        },
        "outputId": "dae2a734-1086-4374-d0bc-8a3cb1f4cc78",
        "executionInfo": {
          "status": "ok",
          "timestamp": 1528655142641,
          "user_tz": -330,
          "elapsed": 832,
          "user": {
            "displayName": "Debakar Roy",
            "photoUrl": "//lh5.googleusercontent.com/-KwEZ1Z4ZXmE/AAAAAAAAAAI/AAAAAAAAQTA/EmWe2YYRCLo/s50-c-k-no/photo.jpg",
            "userId": "103957503016432867835"
          }
        }
      },
      "cell_type": "code",
      "source": [
        "pattern = re.compile(r'https?://(www\\.)?(\\w+)(\\.\\w+)')\n",
        "\n",
        "matches = pattern.finditer(urls)\n",
        "\n",
        "for match in matches:\n",
        "  print(match.group(0))"
      ],
      "execution_count": 42,
      "outputs": [
        {
          "output_type": "stream",
          "text": [
            "https://www.google.com\n",
            "http://example.com\n",
            "https://youtube.com\n",
            "https://www.nasa.gov\n"
          ],
          "name": "stdout"
        }
      ]
    },
    {
      "metadata": {
        "id": "OFlYqIV40aSd",
        "colab_type": "text"
      },
      "cell_type": "markdown",
      "source": [
        "For Group 1:"
      ]
    },
    {
      "metadata": {
        "id": "E-kSzBkc0YfN",
        "colab_type": "code",
        "colab": {
          "autoexec": {
            "startup": false,
            "wait_interval": 0
          },
          "base_uri": "https://localhost:8080/",
          "height": 85
        },
        "outputId": "e66f6d24-df62-4a1f-e60f-6bb7d676823c",
        "executionInfo": {
          "status": "ok",
          "timestamp": 1528655144553,
          "user_tz": -330,
          "elapsed": 1376,
          "user": {
            "displayName": "Debakar Roy",
            "photoUrl": "//lh5.googleusercontent.com/-KwEZ1Z4ZXmE/AAAAAAAAAAI/AAAAAAAAQTA/EmWe2YYRCLo/s50-c-k-no/photo.jpg",
            "userId": "103957503016432867835"
          }
        }
      },
      "cell_type": "code",
      "source": [
        "pattern = re.compile(r'https?://(www\\.)?(\\w+)(\\.\\w+)')\n",
        "\n",
        "matches = pattern.finditer(urls)\n",
        "\n",
        "for match in matches:\n",
        "  print(match.group(1))"
      ],
      "execution_count": 43,
      "outputs": [
        {
          "output_type": "stream",
          "text": [
            "www.\n",
            "None\n",
            "None\n",
            "www.\n"
          ],
          "name": "stdout"
        }
      ]
    },
    {
      "metadata": {
        "id": "jCzUPKbY0khY",
        "colab_type": "text"
      },
      "cell_type": "markdown",
      "source": [
        "For Group 2:"
      ]
    },
    {
      "metadata": {
        "id": "72yQcLYX0eH3",
        "colab_type": "code",
        "colab": {
          "autoexec": {
            "startup": false,
            "wait_interval": 0
          },
          "base_uri": "https://localhost:8080/",
          "height": 85
        },
        "outputId": "72f4f4ee-8821-45fc-c9b8-808cbc71eecd",
        "executionInfo": {
          "status": "ok",
          "timestamp": 1528655145799,
          "user_tz": -330,
          "elapsed": 802,
          "user": {
            "displayName": "Debakar Roy",
            "photoUrl": "//lh5.googleusercontent.com/-KwEZ1Z4ZXmE/AAAAAAAAAAI/AAAAAAAAQTA/EmWe2YYRCLo/s50-c-k-no/photo.jpg",
            "userId": "103957503016432867835"
          }
        }
      },
      "cell_type": "code",
      "source": [
        "pattern = re.compile(r'https?://(www\\.)?(\\w+)(\\.\\w+)')\n",
        "\n",
        "matches = pattern.finditer(urls)\n",
        "\n",
        "for match in matches:\n",
        "  print(match.group(2))"
      ],
      "execution_count": 44,
      "outputs": [
        {
          "output_type": "stream",
          "text": [
            "google\n",
            "example\n",
            "youtube\n",
            "nasa\n"
          ],
          "name": "stdout"
        }
      ]
    },
    {
      "metadata": {
        "id": "iIDgkB9e0l4U",
        "colab_type": "text"
      },
      "cell_type": "markdown",
      "source": [
        "For Group 3:"
      ]
    },
    {
      "metadata": {
        "id": "cbLZYZN30grc",
        "colab_type": "code",
        "colab": {
          "autoexec": {
            "startup": false,
            "wait_interval": 0
          },
          "base_uri": "https://localhost:8080/",
          "height": 85
        },
        "outputId": "d82cef78-8abe-4243-ef06-f6e63fc6223a",
        "executionInfo": {
          "status": "ok",
          "timestamp": 1528655148118,
          "user_tz": -330,
          "elapsed": 1848,
          "user": {
            "displayName": "Debakar Roy",
            "photoUrl": "//lh5.googleusercontent.com/-KwEZ1Z4ZXmE/AAAAAAAAAAI/AAAAAAAAQTA/EmWe2YYRCLo/s50-c-k-no/photo.jpg",
            "userId": "103957503016432867835"
          }
        }
      },
      "cell_type": "code",
      "source": [
        "pattern = re.compile(r'https?://(www\\.)?(\\w+)(\\.\\w+)')\n",
        "\n",
        "matches = pattern.finditer(urls)\n",
        "\n",
        "for match in matches:\n",
        "  print(match.group(3))"
      ],
      "execution_count": 45,
      "outputs": [
        {
          "output_type": "stream",
          "text": [
            ".com\n",
            ".com\n",
            ".com\n",
            ".gov\n"
          ],
          "name": "stdout"
        }
      ]
    },
    {
      "metadata": {
        "id": "3PSEdCWt0pJ6",
        "colab_type": "text"
      },
      "cell_type": "markdown",
      "source": [
        "Now we want the domain name (group 2) and top level domain (group 3)"
      ]
    },
    {
      "metadata": {
        "id": "nawS0Vrs0yuc",
        "colab_type": "text"
      },
      "cell_type": "markdown",
      "source": [
        "We can use something called backreference which references a group. We can use **sub()**  method for this"
      ]
    },
    {
      "metadata": {
        "id": "zvCBsYZH0iLg",
        "colab_type": "code",
        "colab": {
          "autoexec": {
            "startup": false,
            "wait_interval": 0
          }
        }
      },
      "cell_type": "code",
      "source": [
        "subbed_urls = pattern.sub(r'\\2\\3', urls)"
      ],
      "execution_count": 0,
      "outputs": []
    },
    {
      "metadata": {
        "id": "6Ke0AYea1Jo1",
        "colab_type": "code",
        "colab": {
          "autoexec": {
            "startup": false,
            "wait_interval": 0
          },
          "base_uri": "https://localhost:8080/",
          "height": 119
        },
        "outputId": "c741ba2c-fb35-42d2-a41d-252485bd4745",
        "executionInfo": {
          "status": "ok",
          "timestamp": 1528655150912,
          "user_tz": -330,
          "elapsed": 820,
          "user": {
            "displayName": "Debakar Roy",
            "photoUrl": "//lh5.googleusercontent.com/-KwEZ1Z4ZXmE/AAAAAAAAAAI/AAAAAAAAQTA/EmWe2YYRCLo/s50-c-k-no/photo.jpg",
            "userId": "103957503016432867835"
          }
        }
      },
      "cell_type": "code",
      "source": [
        "print(subbed_urls)"
      ],
      "execution_count": 47,
      "outputs": [
        {
          "output_type": "stream",
          "text": [
            "\n",
            "google.com\n",
            "example.com\n",
            "youtube.com\n",
            "nasa.gov\n",
            "\n"
          ],
          "name": "stdout"
        }
      ]
    },
    {
      "metadata": {
        "id": "hiWhOgSr1XEf",
        "colab_type": "text"
      },
      "cell_type": "markdown",
      "source": [
        "### re.findall()"
      ]
    },
    {
      "metadata": {
        "id": "gelOaoND2Gg4",
        "colab_type": "text"
      },
      "cell_type": "markdown",
      "source": [
        "re.**findall**(pattern, string, flags=0)\n",
        "\n",
        "> Return all non-overlapping matches of pattern in string, as a list of strings. The string is scanned left-to-right, and matches are returned in the order found. If one or more groups are present in the pattern, return a list of groups; this will be a list of tuples if the pattern has more than one group. Empty matches are included in the result.\n",
        "\n"
      ]
    },
    {
      "metadata": {
        "id": "P3X8tC3I2Q2M",
        "colab_type": "text"
      },
      "cell_type": "markdown",
      "source": [
        "So if we try our name example again."
      ]
    },
    {
      "metadata": {
        "id": "8FTjdrDw1MyB",
        "colab_type": "code",
        "colab": {
          "autoexec": {
            "startup": false,
            "wait_interval": 0
          },
          "base_uri": "https://localhost:8080/",
          "height": 102
        },
        "outputId": "5ab60531-484b-465a-e1f0-6c47ac43b677",
        "executionInfo": {
          "status": "ok",
          "timestamp": 1528655152597,
          "user_tz": -330,
          "elapsed": 1187,
          "user": {
            "displayName": "Debakar Roy",
            "photoUrl": "//lh5.googleusercontent.com/-KwEZ1Z4ZXmE/AAAAAAAAAAI/AAAAAAAAQTA/EmWe2YYRCLo/s50-c-k-no/photo.jpg",
            "userId": "103957503016432867835"
          }
        }
      },
      "cell_type": "code",
      "source": [
        "pattern = re.compile(r'M(r|s|rs)\\.?\\s[A-Z]\\w*')\n",
        "\n",
        "matches = pattern.findall(text_to_search)\n",
        "\n",
        "for match in matches:\n",
        "  print(match)"
      ],
      "execution_count": 48,
      "outputs": [
        {
          "output_type": "stream",
          "text": [
            "r\n",
            "r\n",
            "s\n",
            "rs\n",
            "r\n"
          ],
          "name": "stdout"
        }
      ]
    },
    {
      "metadata": {
        "id": "fgPBYz9h2XJw",
        "colab_type": "text"
      },
      "cell_type": "markdown",
      "source": [
        "We can see that it only returns the group **(r|s|rs)**"
      ]
    },
    {
      "metadata": {
        "id": "WSxvpXzW2heF",
        "colab_type": "text"
      },
      "cell_type": "markdown",
      "source": [
        "Now if there is no group, it returns all the match"
      ]
    },
    {
      "metadata": {
        "id": "YRaeLk-G2oKz",
        "colab_type": "text"
      },
      "cell_type": "markdown",
      "source": [
        "If we go back to our phone numbers example, we can see:"
      ]
    },
    {
      "metadata": {
        "id": "2HNdW-Sc1mTr",
        "colab_type": "code",
        "colab": {
          "autoexec": {
            "startup": false,
            "wait_interval": 0
          },
          "base_uri": "https://localhost:8080/",
          "height": 85
        },
        "outputId": "9e05d4e0-d185-4808-ddbf-2f12af9f1925",
        "executionInfo": {
          "status": "ok",
          "timestamp": 1528655153701,
          "user_tz": -330,
          "elapsed": 799,
          "user": {
            "displayName": "Debakar Roy",
            "photoUrl": "//lh5.googleusercontent.com/-KwEZ1Z4ZXmE/AAAAAAAAAAI/AAAAAAAAQTA/EmWe2YYRCLo/s50-c-k-no/photo.jpg",
            "userId": "103957503016432867835"
          }
        }
      },
      "cell_type": "code",
      "source": [
        "pattern = re.compile(r'\\d{3}[.-]\\d{3}[.-]\\d{4}')\n",
        "\n",
        "matches = pattern.findall(text_to_search)\n",
        "\n",
        "for match in matches:\n",
        "  print(match)"
      ],
      "execution_count": 49,
      "outputs": [
        {
          "output_type": "stream",
          "text": [
            "321-555-4321\n",
            "123.555.1234\n",
            "800-555-1234\n",
            "900-555-1234\n"
          ],
          "name": "stdout"
        }
      ]
    },
    {
      "metadata": {
        "id": "p-cD2MN84A_o",
        "colab_type": "text"
      },
      "cell_type": "markdown",
      "source": [
        "### re.match()"
      ]
    },
    {
      "metadata": {
        "id": "6lywcNQs4D89",
        "colab_type": "text"
      },
      "cell_type": "markdown",
      "source": [
        "re.**match**(pattern, string, flags=0)\n",
        "\n",
        "> If zero or more characters at the beginning of string match the regular expression pattern, return a corresponding MatchObject instance. Return None if the string does not match the pattern; note that this is different from a zero-length match.\n",
        "\n",
        "> Note that even in MULTILINE mode, re.match() will only match at the beginning of the string and not at the beginning of each line."
      ]
    },
    {
      "metadata": {
        "id": "7P7oJ69L4PH9",
        "colab_type": "text"
      },
      "cell_type": "markdown",
      "source": [
        "NOTE: match() does not returns an iterable. It only returns the first match it find and that too in the beginning. Its like using **^**"
      ]
    },
    {
      "metadata": {
        "id": "71wUFylT21wK",
        "colab_type": "code",
        "colab": {
          "autoexec": {
            "startup": false,
            "wait_interval": 0
          },
          "base_uri": "https://localhost:8080/",
          "height": 34
        },
        "outputId": "0c3c5faf-8117-419e-b628-123dac2be1ad",
        "executionInfo": {
          "status": "ok",
          "timestamp": 1528655156527,
          "user_tz": -330,
          "elapsed": 2212,
          "user": {
            "displayName": "Debakar Roy",
            "photoUrl": "//lh5.googleusercontent.com/-KwEZ1Z4ZXmE/AAAAAAAAAAI/AAAAAAAAQTA/EmWe2YYRCLo/s50-c-k-no/photo.jpg",
            "userId": "103957503016432867835"
          }
        }
      },
      "cell_type": "code",
      "source": [
        "pattern = re.compile(r'Start')\n",
        "\n",
        "matches = pattern.match(sentence)\n",
        "\n",
        "print(matches)"
      ],
      "execution_count": 50,
      "outputs": [
        {
          "output_type": "stream",
          "text": [
            "<_sre.SRE_Match object; span=(0, 5), match='Start'>\n"
          ],
          "name": "stdout"
        }
      ]
    },
    {
      "metadata": {
        "id": "raqwr40y4kI0",
        "colab_type": "code",
        "colab": {
          "autoexec": {
            "startup": false,
            "wait_interval": 0
          },
          "base_uri": "https://localhost:8080/",
          "height": 34
        },
        "outputId": "398e24d4-8e00-4817-c828-f85884ce0870",
        "executionInfo": {
          "status": "ok",
          "timestamp": 1528655157960,
          "user_tz": -330,
          "elapsed": 868,
          "user": {
            "displayName": "Debakar Roy",
            "photoUrl": "//lh5.googleusercontent.com/-KwEZ1Z4ZXmE/AAAAAAAAAAI/AAAAAAAAQTA/EmWe2YYRCLo/s50-c-k-no/photo.jpg",
            "userId": "103957503016432867835"
          }
        }
      },
      "cell_type": "code",
      "source": [
        "pattern = re.compile(r'sentence')\n",
        "\n",
        "matches = pattern.match(sentence)\n",
        "\n",
        "print(matches)"
      ],
      "execution_count": 51,
      "outputs": [
        {
          "output_type": "stream",
          "text": [
            "None\n"
          ],
          "name": "stdout"
        }
      ]
    },
    {
      "metadata": {
        "id": "JMJr7LXS47LC",
        "colab_type": "text"
      },
      "cell_type": "markdown",
      "source": [
        "### re.search()"
      ]
    },
    {
      "metadata": {
        "id": "lVN-I6el5ELJ",
        "colab_type": "text"
      },
      "cell_type": "markdown",
      "source": [
        "re.**search**(pattern, string, flags=0)\n",
        "\n",
        "> Scan through string looking for the first location where the regular expression pattern produces a match, and return a corresponding MatchObject instance. Return None if no position in the string matches the pattern; note that this is different from finding a zero-length match at some point in the string."
      ]
    },
    {
      "metadata": {
        "id": "PJ2GxbBL4ueU",
        "colab_type": "text"
      },
      "cell_type": "markdown",
      "source": [
        "Since match can only find the pattern present at the beginning we use **search()** to find the pattern, which is present inbetween. Also search() also return only the first match."
      ]
    },
    {
      "metadata": {
        "id": "-5D7hjDx4s1T",
        "colab_type": "code",
        "colab": {
          "autoexec": {
            "startup": false,
            "wait_interval": 0
          },
          "base_uri": "https://localhost:8080/",
          "height": 34
        },
        "outputId": "b00a3d94-7c26-46ff-c21a-0a3c15b408c0",
        "executionInfo": {
          "status": "ok",
          "timestamp": 1528655159784,
          "user_tz": -330,
          "elapsed": 1374,
          "user": {
            "displayName": "Debakar Roy",
            "photoUrl": "//lh5.googleusercontent.com/-KwEZ1Z4ZXmE/AAAAAAAAAAI/AAAAAAAAQTA/EmWe2YYRCLo/s50-c-k-no/photo.jpg",
            "userId": "103957503016432867835"
          }
        }
      },
      "cell_type": "code",
      "source": [
        "pattern = re.compile(r'sentence')\n",
        "\n",
        "matches = pattern.search(sentence)\n",
        "\n",
        "print(matches)"
      ],
      "execution_count": 52,
      "outputs": [
        {
          "output_type": "stream",
          "text": [
            "<_sre.SRE_Match object; span=(8, 16), match='sentence'>\n"
          ],
          "name": "stdout"
        }
      ]
    },
    {
      "metadata": {
        "id": "1Dg7Khni5mtE",
        "colab_type": "text"
      },
      "cell_type": "markdown",
      "source": [
        "### flags"
      ]
    },
    {
      "metadata": {
        "id": "qmUyguns5pzK",
        "colab_type": "text"
      },
      "cell_type": "markdown",
      "source": [
        "Let's say we want to match a word where each letter can be a uppercase or lowercase or mixture of both. So if we want to search **Start** we normally have to write:"
      ]
    },
    {
      "metadata": {
        "id": "xRB2zP4w5ULJ",
        "colab_type": "code",
        "colab": {
          "autoexec": {
            "startup": false,
            "wait_interval": 0
          },
          "base_uri": "https://localhost:8080/",
          "height": 34
        },
        "outputId": "879c7c09-6f4c-41a9-e3d1-b8927bb435b4",
        "executionInfo": {
          "status": "ok",
          "timestamp": 1528655161671,
          "user_tz": -330,
          "elapsed": 1536,
          "user": {
            "displayName": "Debakar Roy",
            "photoUrl": "//lh5.googleusercontent.com/-KwEZ1Z4ZXmE/AAAAAAAAAAI/AAAAAAAAQTA/EmWe2YYRCLo/s50-c-k-no/photo.jpg",
            "userId": "103957503016432867835"
          }
        }
      },
      "cell_type": "code",
      "source": [
        "pattern = re.compile(r'[Ss][Tt][Aa][Rr][Tt]')\n",
        "\n",
        "matches = pattern.search(sentence)\n",
        "\n",
        "print(matches)"
      ],
      "execution_count": 53,
      "outputs": [
        {
          "output_type": "stream",
          "text": [
            "<_sre.SRE_Match object; span=(0, 5), match='Start'>\n"
          ],
          "name": "stdout"
        }
      ]
    },
    {
      "metadata": {
        "id": "djbja0Kc6HbP",
        "colab_type": "text"
      },
      "cell_type": "markdown",
      "source": [
        "Alternatively we can use **IGNORECASE** flag"
      ]
    },
    {
      "metadata": {
        "id": "23GCaNg86FdJ",
        "colab_type": "code",
        "colab": {
          "autoexec": {
            "startup": false,
            "wait_interval": 0
          },
          "base_uri": "https://localhost:8080/",
          "height": 34
        },
        "outputId": "9f762d92-9e40-4c0e-8247-2101fbcf6351",
        "executionInfo": {
          "status": "ok",
          "timestamp": 1528655164047,
          "user_tz": -330,
          "elapsed": 1842,
          "user": {
            "displayName": "Debakar Roy",
            "photoUrl": "//lh5.googleusercontent.com/-KwEZ1Z4ZXmE/AAAAAAAAAAI/AAAAAAAAQTA/EmWe2YYRCLo/s50-c-k-no/photo.jpg",
            "userId": "103957503016432867835"
          }
        }
      },
      "cell_type": "code",
      "source": [
        "pattern = re.compile(r'start', re.IGNORECASE)\n",
        "\n",
        "matches = pattern.search(sentence)\n",
        "\n",
        "print(matches)"
      ],
      "execution_count": 54,
      "outputs": [
        {
          "output_type": "stream",
          "text": [
            "<_sre.SRE_Match object; span=(0, 5), match='Start'>\n"
          ],
          "name": "stdout"
        }
      ]
    },
    {
      "metadata": {
        "id": "1i2MgPNv6YD9",
        "colab_type": "text"
      },
      "cell_type": "markdown",
      "source": [
        "Also there is a shorthand for this"
      ]
    },
    {
      "metadata": {
        "id": "R_-FvkMH6W7V",
        "colab_type": "code",
        "colab": {
          "autoexec": {
            "startup": false,
            "wait_interval": 0
          },
          "base_uri": "https://localhost:8080/",
          "height": 34
        },
        "outputId": "fd9a0238-a8ef-4206-87d6-424c236eeea5",
        "executionInfo": {
          "status": "ok",
          "timestamp": 1528655166109,
          "user_tz": -330,
          "elapsed": 1612,
          "user": {
            "displayName": "Debakar Roy",
            "photoUrl": "//lh5.googleusercontent.com/-KwEZ1Z4ZXmE/AAAAAAAAAAI/AAAAAAAAQTA/EmWe2YYRCLo/s50-c-k-no/photo.jpg",
            "userId": "103957503016432867835"
          }
        }
      },
      "cell_type": "code",
      "source": [
        "pattern = re.compile(r'start', re.I)\n",
        "\n",
        "matches = pattern.search(sentence)\n",
        "\n",
        "print(matches)"
      ],
      "execution_count": 55,
      "outputs": [
        {
          "output_type": "stream",
          "text": [
            "<_sre.SRE_Match object; span=(0, 5), match='Start'>\n"
          ],
          "name": "stdout"
        }
      ]
    },
    {
      "metadata": {
        "id": "NHLcSWAX6lX9",
        "colab_type": "text"
      },
      "cell_type": "markdown",
      "source": [
        "Also we have several other flags:\n",
        "\n",
        "re.**DEBUG**\n",
        "\n",
        "> Display debug information about compiled expression.\n",
        "\n",
        "re.**I**\n",
        "re.**IGNORECASE**\n",
        "\n",
        "> Perform case-insensitive matching; expressions like [A-Z] will match lowercase letters, too. This is not affected by the current locale. To get this effect on non-ASCII Unicode characters such as ü and Ü, add the UNICODE flag.\n",
        "\n",
        "re.**L**\n",
        "re.**LOCALE**\n",
        "\n",
        "> Make \\w, \\W, \\b, \\B, \\s and \\S dependent on the current locale.\n",
        "\n",
        "re.**M**\n",
        "re.**MULTILINE**\n",
        "\n",
        "> When specified, the pattern character '^' matches at the beginning of the string and at the beginning of each line (immediately following each newline); and the pattern character '\\\\$' matches at the end of the string and at the end of each line (immediately preceding each newline). By default, '^' matches only at the beginning of the string, and '$' only at the end of the string and immediately before the newline (if any) at the end of the string.\n",
        "\n",
        "re.**S**\n",
        "re.**DOTALL**\n",
        "\n",
        "> Make the '.' special character match any character at all, including a newline; without this flag, '.' will match anything except a newline.\n",
        "\n",
        "re.**U**\n",
        "re.**UNICODE**\n",
        "\n",
        "> Make the \\w, \\W, \\b, \\B, \\d, \\D, \\s and \\S sequences dependent on the Unicode character properties database. Also enables non-ASCII matching for IGNORECASE.\n",
        "\n",
        "New in version 2.0.\n",
        "\n",
        "re.**X**\n",
        "re.**VERBOSE**\n",
        "\n",
        "> This flag allows you to write regular expressions that look nicer and are more readable by allowing you to visually separate logical sections of the pattern and add comments. Whitespace within the pattern is ignored, except when in a character class, or when preceded by an unescaped backslash, or within tokens like *?, (?: or (?P<...>. When a line contains a # that is not in a character class and is not preceded by an unescaped backslash, all characters from the leftmost such # through the end of the line are ignored."
      ]
    },
    {
      "metadata": {
        "id": "aSSTIl3f8Av9",
        "colab_type": "text"
      },
      "cell_type": "markdown",
      "source": [
        "These are few basic steps on how to use regular expression practically."
      ]
    }
  ]
}